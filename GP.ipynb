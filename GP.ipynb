{
  "nbformat": 4,
  "nbformat_minor": 0,
  "metadata": {
    "colab": {
      "name": "GP.ipynb",
      "provenance": [],
      "collapsed_sections": [
        "7Vi08noZsgZM",
        "R5zb_xe35i_j",
        "-eiutz7UKvWI",
        "KOQeAeca2_Pa",
        "xByLpd072zw_",
        "zi68kLg9sY3g",
        "zpuwY_H49FGw",
        "QVGZzaqZl-NM",
        "_amFW7S1NdTK",
        "DlQYa5I-smRk",
        "ACtV0UUXxgDE",
        "024iIqX5xgD_",
        "NruxlYqQxgE5",
        "x8TtnICTxgFp"
      ],
      "toc_visible": true,
      "machine_shape": "hm"
    },
    "kernelspec": {
      "name": "python3",
      "display_name": "Python 3"
    }
  },
  "cells": [
    {
      "cell_type": "markdown",
      "metadata": {
        "id": "7Vi08noZsgZM"
      },
      "source": [
        "#Data"
      ]
    },
    {
      "cell_type": "code",
      "metadata": {
        "id": "QhdmFlS8geXd"
      },
      "source": [
        "from google.colab import drive\n",
        "drive.mount('/content/drive')"
      ],
      "execution_count": null,
      "outputs": []
    },
    {
      "cell_type": "code",
      "metadata": {
        "id": "ni0fsj1n1y0Y"
      },
      "source": [
        "#\n",
        "import numpy as np\n",
        "import os\n",
        "import json\n",
        "import gzip\n",
        "import pandas as pd\n",
        "from urllib.request import urlopen"
      ],
      "execution_count": null,
      "outputs": []
    },
    {
      "cell_type": "markdown",
      "metadata": {
        "id": "sh7nuhVX5UcF"
      },
      "source": [
        "download the data\n"
      ]
    },
    {
      "cell_type": "code",
      "metadata": {
        "id": "caaf7Kg3VwwL",
        "colab": {
          "base_uri": "https://localhost:8080/",
          "height": 217
        },
        "outputId": "4c4aed43-acd8-40b2-9c56-a136c4dbbfb6"
      },
      "source": [
        "!wget http://deepyeti.ucsd.edu/jianmo/amazon/categoryFilesSmall/Tools_and_Home_Improvement_5.json.gz"
      ],
      "execution_count": null,
      "outputs": [
        {
          "output_type": "stream",
          "text": [
            "--2020-06-05 02:16:14--  http://deepyeti.ucsd.edu/jianmo/amazon/categoryFilesSmall/Tools_and_Home_Improvement_5.json.gz\n",
            "Resolving deepyeti.ucsd.edu (deepyeti.ucsd.edu)... 169.228.63.50\n",
            "Connecting to deepyeti.ucsd.edu (deepyeti.ucsd.edu)|169.228.63.50|:80... connected.\n",
            "HTTP request sent, awaiting response... 200 OK\n",
            "Length: 309844033 (295M) [application/octet-stream]\n",
            "Saving to: ‘Tools_and_Home_Improvement_5.json.gz’\n",
            "\n",
            "Tools_and_Home_Impr 100%[===================>] 295.49M  19.9MB/s    in 72s     \n",
            "\n",
            "2020-06-05 02:17:27 (4.12 MB/s) - ‘Tools_and_Home_Improvement_5.json.gz’ saved [309844033/309844033]\n",
            "\n"
          ],
          "name": "stdout"
        }
      ]
    },
    {
      "cell_type": "markdown",
      "metadata": {
        "id": "R5zb_xe35i_j"
      },
      "source": [
        "#old way to read data"
      ]
    },
    {
      "cell_type": "code",
      "metadata": {
        "id": "zkxJcUDWVhIZ"
      },
      "source": [
        "data_path = '/content/drive/My Drive/Movies_and_TV_5.json.gz'\n",
        "data = []\n",
        "with gzip.open(data_path) as f:\n",
        "    for l in f:\n",
        "      data.append(json.loads(l.strip()))"
      ],
      "execution_count": null,
      "outputs": []
    },
    {
      "cell_type": "code",
      "metadata": {
        "id": "9vrdg7oA5mTN",
        "colab": {
          "base_uri": "https://localhost:8080/",
          "height": 73
        },
        "outputId": "8af4ff25-518d-49e3-dcf8-6ca5b474ef6d"
      },
      "source": [
        "# total length of list, this number equals total number of products\n",
        "print(len(data))\n",
        "\n",
        "# first row of the list\n",
        "print(data[0])"
      ],
      "execution_count": null,
      "outputs": [
        {
          "output_type": "stream",
          "text": [
            "3410019\n",
            "{'overall': 5.0, 'verified': True, 'reviewTime': '11 9, 2012', 'reviewerID': 'A2M1CU2IRZG0K9', 'asin': '0005089549', 'style': {'Format:': ' VHS Tape'}, 'reviewerName': 'Terri', 'reviewText': \"So sorry I didn't purchase this years ago when it first came out!!  This is very good and entertaining!  We absolutely loved it and anticipate seeing it repeatedly.  We actually wore out the cassette years back, so we also purchased this same product on cd.  Best purchase we made out of all!  Would purchase on dvd if we could find one.\", 'summary': 'Amazing!', 'unixReviewTime': 1352419200}\n"
          ],
          "name": "stdout"
        }
      ]
    },
    {
      "cell_type": "markdown",
      "metadata": {
        "id": "O-l4vfxd5wgD"
      },
      "source": [
        "convert list to dataframe"
      ]
    },
    {
      "cell_type": "code",
      "metadata": {
        "id": "bcRx74xe50JP"
      },
      "source": [
        "# convert list into pandas dataframe\n",
        "df = pd.DataFrame.from_dict(data)"
      ],
      "execution_count": null,
      "outputs": []
    },
    {
      "cell_type": "code",
      "metadata": {
        "id": "ehuTLdn9WME5"
      },
      "source": [
        "data.clear()"
      ],
      "execution_count": null,
      "outputs": []
    },
    {
      "cell_type": "markdown",
      "metadata": {
        "id": "gN2co0gn53gD"
      },
      "source": [
        "remove not required columns"
      ]
    },
    {
      "cell_type": "code",
      "metadata": {
        "id": "N8sTOSGnVyav"
      },
      "source": [
        "df.drop(['verified','reviewTime','reviewerID','asin','style','reviewerName','unixReviewTime','image'], axis=1, inplace=True)"
      ],
      "execution_count": null,
      "outputs": []
    },
    {
      "cell_type": "code",
      "metadata": {
        "id": "bgSRZclKo6Gg",
        "colab": {
          "base_uri": "https://localhost:8080/",
          "height": 206
        },
        "outputId": "4f6acbf4-5659-4ffe-fbe5-a7bf7faa11cf"
      },
      "source": [
        "df.head()"
      ],
      "execution_count": null,
      "outputs": [
        {
          "output_type": "execute_result",
          "data": {
            "text/html": [
              "<div>\n",
              "<style scoped>\n",
              "    .dataframe tbody tr th:only-of-type {\n",
              "        vertical-align: middle;\n",
              "    }\n",
              "\n",
              "    .dataframe tbody tr th {\n",
              "        vertical-align: top;\n",
              "    }\n",
              "\n",
              "    .dataframe thead th {\n",
              "        text-align: right;\n",
              "    }\n",
              "</style>\n",
              "<table border=\"1\" class=\"dataframe\">\n",
              "  <thead>\n",
              "    <tr style=\"text-align: right;\">\n",
              "      <th></th>\n",
              "      <th>overall</th>\n",
              "      <th>reviewText</th>\n",
              "      <th>summary</th>\n",
              "      <th>vote</th>\n",
              "    </tr>\n",
              "  </thead>\n",
              "  <tbody>\n",
              "    <tr>\n",
              "      <th>0</th>\n",
              "      <td>5.0</td>\n",
              "      <td>So sorry I didn't purchase this years ago when...</td>\n",
              "      <td>Amazing!</td>\n",
              "      <td>NaN</td>\n",
              "    </tr>\n",
              "    <tr>\n",
              "      <th>1</th>\n",
              "      <td>5.0</td>\n",
              "      <td>Believe me when I tell you that you will recei...</td>\n",
              "      <td>Great Gospel VHS of the Cathedrals!</td>\n",
              "      <td>NaN</td>\n",
              "    </tr>\n",
              "    <tr>\n",
              "      <th>2</th>\n",
              "      <td>5.0</td>\n",
              "      <td>I have seen X live many times, both in the ear...</td>\n",
              "      <td>A great document of a great band</td>\n",
              "      <td>11</td>\n",
              "    </tr>\n",
              "    <tr>\n",
              "      <th>3</th>\n",
              "      <td>5.0</td>\n",
              "      <td>I was so excited for this!  Finally, a live co...</td>\n",
              "      <td>YES!!  X LIVE!!</td>\n",
              "      <td>5</td>\n",
              "    </tr>\n",
              "    <tr>\n",
              "      <th>4</th>\n",
              "      <td>5.0</td>\n",
              "      <td>X is one of the best punk bands ever. I don't ...</td>\n",
              "      <td>X have still got it</td>\n",
              "      <td>5</td>\n",
              "    </tr>\n",
              "  </tbody>\n",
              "</table>\n",
              "</div>"
            ],
            "text/plain": [
              "   overall  ... vote\n",
              "0      5.0  ...  NaN\n",
              "1      5.0  ...  NaN\n",
              "2      5.0  ...   11\n",
              "3      5.0  ...    5\n",
              "4      5.0  ...    5\n",
              "\n",
              "[5 rows x 4 columns]"
            ]
          },
          "metadata": {
            "tags": []
          },
          "execution_count": 14
        }
      ]
    },
    {
      "cell_type": "code",
      "metadata": {
        "id": "YeePkuFrpY5d"
      },
      "source": [
        "#we need summary or vote?\n",
        "df.drop(['summary','vote'], axis=1, inplace=True)"
      ],
      "execution_count": null,
      "outputs": []
    },
    {
      "cell_type": "code",
      "metadata": {
        "id": "OLcIuZlwpoPA",
        "colab": {
          "base_uri": "https://localhost:8080/",
          "height": 206
        },
        "outputId": "90205aa1-730b-4515-dd3e-c7f4012ab774"
      },
      "source": [
        "df.head()"
      ],
      "execution_count": null,
      "outputs": [
        {
          "output_type": "execute_result",
          "data": {
            "text/html": [
              "<div>\n",
              "<style scoped>\n",
              "    .dataframe tbody tr th:only-of-type {\n",
              "        vertical-align: middle;\n",
              "    }\n",
              "\n",
              "    .dataframe tbody tr th {\n",
              "        vertical-align: top;\n",
              "    }\n",
              "\n",
              "    .dataframe thead th {\n",
              "        text-align: right;\n",
              "    }\n",
              "</style>\n",
              "<table border=\"1\" class=\"dataframe\">\n",
              "  <thead>\n",
              "    <tr style=\"text-align: right;\">\n",
              "      <th></th>\n",
              "      <th>overall</th>\n",
              "      <th>reviewText</th>\n",
              "    </tr>\n",
              "  </thead>\n",
              "  <tbody>\n",
              "    <tr>\n",
              "      <th>0</th>\n",
              "      <td>5.0</td>\n",
              "      <td>So sorry I didn't purchase this years ago when...</td>\n",
              "    </tr>\n",
              "    <tr>\n",
              "      <th>1</th>\n",
              "      <td>5.0</td>\n",
              "      <td>Believe me when I tell you that you will recei...</td>\n",
              "    </tr>\n",
              "    <tr>\n",
              "      <th>2</th>\n",
              "      <td>5.0</td>\n",
              "      <td>I have seen X live many times, both in the ear...</td>\n",
              "    </tr>\n",
              "    <tr>\n",
              "      <th>3</th>\n",
              "      <td>5.0</td>\n",
              "      <td>I was so excited for this!  Finally, a live co...</td>\n",
              "    </tr>\n",
              "    <tr>\n",
              "      <th>4</th>\n",
              "      <td>5.0</td>\n",
              "      <td>X is one of the best punk bands ever. I don't ...</td>\n",
              "    </tr>\n",
              "  </tbody>\n",
              "</table>\n",
              "</div>"
            ],
            "text/plain": [
              "   overall                                         reviewText\n",
              "0      5.0  So sorry I didn't purchase this years ago when...\n",
              "1      5.0  Believe me when I tell you that you will recei...\n",
              "2      5.0  I have seen X live many times, both in the ear...\n",
              "3      5.0  I was so excited for this!  Finally, a live co...\n",
              "4      5.0  X is one of the best punk bands ever. I don't ..."
            ]
          },
          "metadata": {
            "tags": []
          },
          "execution_count": 16
        }
      ]
    },
    {
      "cell_type": "markdown",
      "metadata": {
        "id": "lXciaqvT6Jdx"
      },
      "source": [
        "delete nulls"
      ]
    },
    {
      "cell_type": "code",
      "metadata": {
        "id": "1iY470sao-WN",
        "colab": {
          "base_uri": "https://localhost:8080/",
          "height": 72
        },
        "outputId": "bcda1d27-c1a7-49a1-e049-5c8e86bcbd70"
      },
      "source": [
        "df.isnull().sum(axis = 0)"
      ],
      "execution_count": null,
      "outputs": [
        {
          "output_type": "execute_result",
          "data": {
            "text/plain": [
              "overall          0\n",
              "reviewText    1581\n",
              "dtype: int64"
            ]
          },
          "metadata": {
            "tags": []
          },
          "execution_count": 110
        }
      ]
    },
    {
      "cell_type": "code",
      "metadata": {
        "id": "nNufP-NVpQ5O"
      },
      "source": [
        "df.dropna(axis=0, inplace=True)"
      ],
      "execution_count": null,
      "outputs": []
    },
    {
      "cell_type": "code",
      "metadata": {
        "id": "8mBn-37rqIky",
        "colab": {
          "base_uri": "https://localhost:8080/",
          "height": 72
        },
        "outputId": "f32645d4-7c73-417e-d2f0-21e00c381043"
      },
      "source": [
        "df.isnull().sum(axis = 0)"
      ],
      "execution_count": null,
      "outputs": [
        {
          "output_type": "execute_result",
          "data": {
            "text/plain": [
              "overall       0\n",
              "reviewText    0\n",
              "dtype: int64"
            ]
          },
          "metadata": {
            "tags": []
          },
          "execution_count": 19
        }
      ]
    },
    {
      "cell_type": "code",
      "metadata": {
        "id": "W60r6Wi5n4EQ",
        "colab": {
          "base_uri": "https://localhost:8080/",
          "height": 206
        },
        "outputId": "ec3ac09b-5c37-4b69-ea89-92ffe2d680b7"
      },
      "source": [
        "df.head()"
      ],
      "execution_count": null,
      "outputs": [
        {
          "output_type": "execute_result",
          "data": {
            "text/html": [
              "<div>\n",
              "<style scoped>\n",
              "    .dataframe tbody tr th:only-of-type {\n",
              "        vertical-align: middle;\n",
              "    }\n",
              "\n",
              "    .dataframe tbody tr th {\n",
              "        vertical-align: top;\n",
              "    }\n",
              "\n",
              "    .dataframe thead th {\n",
              "        text-align: right;\n",
              "    }\n",
              "</style>\n",
              "<table border=\"1\" class=\"dataframe\">\n",
              "  <thead>\n",
              "    <tr style=\"text-align: right;\">\n",
              "      <th></th>\n",
              "      <th>overall</th>\n",
              "      <th>reviewText</th>\n",
              "    </tr>\n",
              "  </thead>\n",
              "  <tbody>\n",
              "    <tr>\n",
              "      <th>0</th>\n",
              "      <td>5.0</td>\n",
              "      <td>So sorry I didn't purchase this years ago when...</td>\n",
              "    </tr>\n",
              "    <tr>\n",
              "      <th>1</th>\n",
              "      <td>5.0</td>\n",
              "      <td>Believe me when I tell you that you will recei...</td>\n",
              "    </tr>\n",
              "    <tr>\n",
              "      <th>2</th>\n",
              "      <td>5.0</td>\n",
              "      <td>I have seen X live many times, both in the ear...</td>\n",
              "    </tr>\n",
              "    <tr>\n",
              "      <th>3</th>\n",
              "      <td>5.0</td>\n",
              "      <td>I was so excited for this!  Finally, a live co...</td>\n",
              "    </tr>\n",
              "    <tr>\n",
              "      <th>4</th>\n",
              "      <td>5.0</td>\n",
              "      <td>X is one of the best punk bands ever. I don't ...</td>\n",
              "    </tr>\n",
              "  </tbody>\n",
              "</table>\n",
              "</div>"
            ],
            "text/plain": [
              "   overall                                         reviewText\n",
              "0      5.0  So sorry I didn't purchase this years ago when...\n",
              "1      5.0  Believe me when I tell you that you will recei...\n",
              "2      5.0  I have seen X live many times, both in the ear...\n",
              "3      5.0  I was so excited for this!  Finally, a live co...\n",
              "4      5.0  X is one of the best punk bands ever. I don't ..."
            ]
          },
          "metadata": {
            "tags": []
          },
          "execution_count": 26
        }
      ]
    },
    {
      "cell_type": "code",
      "metadata": {
        "id": "uWFRY6MgqemS",
        "colab": {
          "base_uri": "https://localhost:8080/",
          "height": 35
        },
        "outputId": "9027f507-ed57-4867-df03-751618be0c80"
      },
      "source": [
        "print(len(df))"
      ],
      "execution_count": null,
      "outputs": [
        {
          "output_type": "stream",
          "text": [
            "3408438\n"
          ],
          "name": "stdout"
        }
      ]
    },
    {
      "cell_type": "markdown",
      "metadata": {
        "id": "-eiutz7UKvWI"
      },
      "source": [
        "#fast way to read data\n"
      ]
    },
    {
      "cell_type": "code",
      "metadata": {
        "id": "xMyHbpnzHrIa"
      },
      "source": [
        "data_path = '/content/drive/My Drive/Movies_and_TV_5.json.gz'\n",
        "overall = []\n",
        "reviewText = []\n",
        "with gzip.open(data_path) as f:\n",
        "  for l in f:\n",
        "    obj = json.loads(l.strip())\n",
        "    if \"reviewText\" in obj:\n",
        "      overall.append(obj[\"overall\"])\n",
        "      reviewText.append(obj[\"reviewText\"])"
      ],
      "execution_count": null,
      "outputs": []
    },
    {
      "cell_type": "code",
      "metadata": {
        "id": "JQjbZSmsKVZu"
      },
      "source": [
        "data = {'overall':overall,\n",
        "        'reviewText':reviewText}"
      ],
      "execution_count": null,
      "outputs": []
    },
    {
      "cell_type": "code",
      "metadata": {
        "id": "UO60I18UKkTN"
      },
      "source": [
        "df = pd.DataFrame(data)"
      ],
      "execution_count": null,
      "outputs": []
    },
    {
      "cell_type": "code",
      "metadata": {
        "id": "JECPS0FGnVV8"
      },
      "source": [
        "overall.clear()\n",
        "reviewText.clear()\n",
        "data.clear()"
      ],
      "execution_count": null,
      "outputs": []
    },
    {
      "cell_type": "code",
      "metadata": {
        "id": "7ieqsRkZOASq"
      },
      "source": [
        "df = df[df.overall != 0.0]"
      ],
      "execution_count": null,
      "outputs": []
    },
    {
      "cell_type": "code",
      "metadata": {
        "id": "G0nVnYdUWAz_"
      },
      "source": [
        "df['overall'] = df['overall'].astype(int)"
      ],
      "execution_count": null,
      "outputs": []
    },
    {
      "cell_type": "code",
      "metadata": {
        "id": "E4hZGrB1Vi_I",
        "colab": {
          "base_uri": "https://localhost:8080/",
          "height": 35
        },
        "outputId": "09deea17-3ffd-4c92-a96b-f9081c58a663"
      },
      "source": [
        "print(len(df))"
      ],
      "execution_count": null,
      "outputs": [
        {
          "output_type": "stream",
          "text": [
            "3408438\n"
          ],
          "name": "stdout"
        }
      ]
    },
    {
      "cell_type": "code",
      "metadata": {
        "id": "g19FHYA2qM0U",
        "colab": {
          "base_uri": "https://localhost:8080/",
          "height": 363
        },
        "outputId": "16ee244f-70d8-43f3-c1d8-b00b39ae3fac"
      },
      "source": [
        "df.head(10)"
      ],
      "execution_count": null,
      "outputs": [
        {
          "output_type": "execute_result",
          "data": {
            "text/html": [
              "<div>\n",
              "<style scoped>\n",
              "    .dataframe tbody tr th:only-of-type {\n",
              "        vertical-align: middle;\n",
              "    }\n",
              "\n",
              "    .dataframe tbody tr th {\n",
              "        vertical-align: top;\n",
              "    }\n",
              "\n",
              "    .dataframe thead th {\n",
              "        text-align: right;\n",
              "    }\n",
              "</style>\n",
              "<table border=\"1\" class=\"dataframe\">\n",
              "  <thead>\n",
              "    <tr style=\"text-align: right;\">\n",
              "      <th></th>\n",
              "      <th>overall</th>\n",
              "      <th>reviewText</th>\n",
              "    </tr>\n",
              "  </thead>\n",
              "  <tbody>\n",
              "    <tr>\n",
              "      <th>0</th>\n",
              "      <td>5</td>\n",
              "      <td>So sorry I didn't purchase this years ago when...</td>\n",
              "    </tr>\n",
              "    <tr>\n",
              "      <th>1</th>\n",
              "      <td>5</td>\n",
              "      <td>Believe me when I tell you that you will recei...</td>\n",
              "    </tr>\n",
              "    <tr>\n",
              "      <th>2</th>\n",
              "      <td>5</td>\n",
              "      <td>I have seen X live many times, both in the ear...</td>\n",
              "    </tr>\n",
              "    <tr>\n",
              "      <th>3</th>\n",
              "      <td>5</td>\n",
              "      <td>I was so excited for this!  Finally, a live co...</td>\n",
              "    </tr>\n",
              "    <tr>\n",
              "      <th>4</th>\n",
              "      <td>5</td>\n",
              "      <td>X is one of the best punk bands ever. I don't ...</td>\n",
              "    </tr>\n",
              "    <tr>\n",
              "      <th>5</th>\n",
              "      <td>5</td>\n",
              "      <td>I've loved X since I first saw them here in Sa...</td>\n",
              "    </tr>\n",
              "    <tr>\n",
              "      <th>6</th>\n",
              "      <td>5</td>\n",
              "      <td>I must admit I was hesitant to purchase this D...</td>\n",
              "    </tr>\n",
              "    <tr>\n",
              "      <th>7</th>\n",
              "      <td>5</td>\n",
              "      <td>The little ones love this</td>\n",
              "    </tr>\n",
              "    <tr>\n",
              "      <th>8</th>\n",
              "      <td>3</td>\n",
              "      <td>Good songs. The DVD is a little boring.</td>\n",
              "    </tr>\n",
              "    <tr>\n",
              "      <th>9</th>\n",
              "      <td>5</td>\n",
              "      <td>The DVD came in great condition and provided l...</td>\n",
              "    </tr>\n",
              "  </tbody>\n",
              "</table>\n",
              "</div>"
            ],
            "text/plain": [
              "   overall                                         reviewText\n",
              "0        5  So sorry I didn't purchase this years ago when...\n",
              "1        5  Believe me when I tell you that you will recei...\n",
              "2        5  I have seen X live many times, both in the ear...\n",
              "3        5  I was so excited for this!  Finally, a live co...\n",
              "4        5  X is one of the best punk bands ever. I don't ...\n",
              "5        5  I've loved X since I first saw them here in Sa...\n",
              "6        5  I must admit I was hesitant to purchase this D...\n",
              "7        5                          The little ones love this\n",
              "8        3            Good songs. The DVD is a little boring.\n",
              "9        5  The DVD came in great condition and provided l..."
            ]
          },
          "metadata": {
            "tags": []
          },
          "execution_count": 102
        }
      ]
    },
    {
      "cell_type": "code",
      "metadata": {
        "id": "66k9XKLevx1x",
        "colab": {
          "base_uri": "https://localhost:8080/",
          "height": 55
        },
        "outputId": "52bc655e-b51a-43dd-89fc-fa393db384f3"
      },
      "source": [
        "df['reviewText'].iloc[[3]].values[0]"
      ],
      "execution_count": null,
      "outputs": [
        {
          "output_type": "execute_result",
          "data": {
            "text/plain": [
              "'So far I hooked it up and tested it , filled a five gallon bucket with hot water, it is the perfect temp for a shower,the flow valve that came with it broke when i tried to tighten it to get it to stop leaking,just hooked it directly to sharkbite pex fitting,seems to work fine without the valve. it is hooked up to a 2 poll 20 amp breaker, will have to wait till the rest of my bathroom is finished to give a better review.'"
            ]
          },
          "metadata": {
            "tags": []
          },
          "execution_count": 64
        }
      ]
    },
    {
      "cell_type": "markdown",
      "metadata": {
        "id": "CQS6G9FK6PU9"
      },
      "source": [
        "show unique values in overall and its count"
      ]
    },
    {
      "cell_type": "code",
      "metadata": {
        "id": "PzTiOwnbqk0V",
        "colab": {
          "base_uri": "https://localhost:8080/",
          "height": 126
        },
        "outputId": "b1dd29ae-f494-4328-92c8-0f14f03122be"
      },
      "source": [
        "df.overall.value_counts()"
      ],
      "execution_count": null,
      "outputs": [
        {
          "output_type": "execute_result",
          "data": {
            "text/plain": [
              "5    1424804\n",
              "4     335321\n",
              "3     139446\n",
              "1      97831\n",
              "2      72907\n",
              "Name: overall, dtype: int64"
            ]
          },
          "metadata": {
            "tags": []
          },
          "execution_count": 65
        }
      ]
    },
    {
      "cell_type": "markdown",
      "metadata": {
        "id": "KOQeAeca2_Pa"
      },
      "source": [
        "#prepossessing"
      ]
    },
    {
      "cell_type": "markdown",
      "metadata": {
        "id": "H9W6cIvU7MiW"
      },
      "source": [
        "preprocessing for rewiew len"
      ]
    },
    {
      "cell_type": "code",
      "metadata": {
        "id": "PNAqsTBAvPVE",
        "colab": {
          "base_uri": "https://localhost:8080/",
          "height": 90
        },
        "outputId": "9d05e5af-b630-4c63-b602-595aff6c37b2"
      },
      "source": [
        "import re\n",
        "import nltk\n",
        "nltk.download('punkt')\n",
        "nltk.download('stopwords')\n",
        "from nltk.corpus import stopwords\n",
        "stops = set(stopwords.words(\"english\")) - {'no' , 'not'}\n",
        "#stops"
      ],
      "execution_count": null,
      "outputs": [
        {
          "output_type": "stream",
          "text": [
            "[nltk_data] Downloading package punkt to /root/nltk_data...\n",
            "[nltk_data]   Unzipping tokenizers/punkt.zip.\n",
            "[nltk_data] Downloading package stopwords to /root/nltk_data...\n",
            "[nltk_data]   Unzipping corpora/stopwords.zip.\n"
          ],
          "name": "stdout"
        }
      ]
    },
    {
      "cell_type": "code",
      "metadata": {
        "id": "es7mOAlWSdiv"
      },
      "source": [
        "def cleaned_text_method2(text):\n",
        "\n",
        "    cleaned_text = re.sub('http.*','',text)\n",
        "\n",
        "    # specific\n",
        "    cleaned_text = re.sub(r\"won\\'t\", \"will not\", cleaned_text)\n",
        "    cleaned_text = re.sub(r\"can\\'t\", \"can not\", cleaned_text)\n",
        "\n",
        "    # general\n",
        "    cleaned_text = re.sub(r\"n\\'t\", \" not\", cleaned_text)\n",
        "    cleaned_text = re.sub(r\"\\'re\", \" are\", cleaned_text)\n",
        "    cleaned_text = re.sub(r\"\\'s\", \" is\", cleaned_text)\n",
        "    cleaned_text = re.sub(r\"\\'d\", \" would\", cleaned_text)\n",
        "    cleaned_text = re.sub(r\"\\'ll\", \" will\", cleaned_text)\n",
        "    cleaned_text = re.sub(r\"\\'t\", \" not\", cleaned_text)\n",
        "    cleaned_text = re.sub(r\"\\'ve\", \" have\", cleaned_text)\n",
        "    cleaned_text = re.sub(r\"\\'m\", \" am\", cleaned_text)\n",
        "    \n",
        "    cleaned_text = cleaned_text.lower()\n",
        "\n",
        "    cleaned_text = \" \".join([w for w in cleaned_text.split() if not w in stops])\n",
        "    \n",
        "    cleaned_text = re.sub(\"[^a-zA-Z]\", \" \",cleaned_text)\n",
        "\n",
        "    #cleaned_text = \" \".join([w for w in cleaned_text.split() if len(w) > 1])\n",
        "\n",
        "    cleaned_text = re.sub('\\s+',' ',cleaned_text)\n",
        "                              \n",
        "    return cleaned_text "
      ],
      "execution_count": null,
      "outputs": []
    },
    {
      "cell_type": "code",
      "metadata": {
        "id": "-LyXgsOnXyym"
      },
      "source": [
        "#df1, df2, df3 = np.array_split(df, 3)"
      ],
      "execution_count": null,
      "outputs": []
    },
    {
      "cell_type": "code",
      "metadata": {
        "id": "jOzcqOPI11gQ"
      },
      "source": [
        "#df['reviewText'][0:9053753] = df['reviewText'][0:9053753].apply(lambda x: cleaned_text_method2(x))"
      ],
      "execution_count": null,
      "outputs": []
    },
    {
      "cell_type": "code",
      "metadata": {
        "id": "548mQzIl13UR"
      },
      "source": [
        "#df['reviewText'][9053753:18107506] = df['reviewText'][9053753:18107506].apply(lambda x: cleaned_text_method2(x))"
      ],
      "execution_count": null,
      "outputs": []
    },
    {
      "cell_type": "code",
      "metadata": {
        "id": "myxVnYsl13xh"
      },
      "source": [
        "#df['reviewText'][18107506:] = df['reviewText'][18107506:].apply(lambda x: cleaned_text_method2(x))"
      ],
      "execution_count": null,
      "outputs": []
    },
    {
      "cell_type": "code",
      "metadata": {
        "id": "angGMz7_X55e"
      },
      "source": [
        "df['reviewText'] = df['reviewText'].apply(lambda x: cleaned_text_method2(x))"
      ],
      "execution_count": null,
      "outputs": []
    },
    {
      "cell_type": "code",
      "metadata": {
        "id": "xCZ3t7TAQ_Jy",
        "colab": {
          "base_uri": "https://localhost:8080/",
          "height": 206
        },
        "outputId": "a9948111-f778-44f9-fb9d-395fa37afd7c"
      },
      "source": [
        "df.head()"
      ],
      "execution_count": null,
      "outputs": [
        {
          "output_type": "execute_result",
          "data": {
            "text/html": [
              "<div>\n",
              "<style scoped>\n",
              "    .dataframe tbody tr th:only-of-type {\n",
              "        vertical-align: middle;\n",
              "    }\n",
              "\n",
              "    .dataframe tbody tr th {\n",
              "        vertical-align: top;\n",
              "    }\n",
              "\n",
              "    .dataframe thead th {\n",
              "        text-align: right;\n",
              "    }\n",
              "</style>\n",
              "<table border=\"1\" class=\"dataframe\">\n",
              "  <thead>\n",
              "    <tr style=\"text-align: right;\">\n",
              "      <th></th>\n",
              "      <th>overall</th>\n",
              "      <th>reviewText</th>\n",
              "    </tr>\n",
              "  </thead>\n",
              "  <tbody>\n",
              "    <tr>\n",
              "      <th>0</th>\n",
              "      <td>5</td>\n",
              "      <td>book beautiful photos good understandable dire...</td>\n",
              "    </tr>\n",
              "    <tr>\n",
              "      <th>1</th>\n",
              "      <td>5</td>\n",
              "      <td>loved approach book paperback easy use inspiri...</td>\n",
              "    </tr>\n",
              "    <tr>\n",
              "      <th>2</th>\n",
              "      <td>5</td>\n",
              "      <td>great</td>\n",
              "    </tr>\n",
              "    <tr>\n",
              "      <th>3</th>\n",
              "      <td>5</td>\n",
              "      <td>always love way eva thinks fun designs book ea...</td>\n",
              "    </tr>\n",
              "    <tr>\n",
              "      <th>4</th>\n",
              "      <td>5</td>\n",
              "      <td>nice patterns</td>\n",
              "    </tr>\n",
              "  </tbody>\n",
              "</table>\n",
              "</div>"
            ],
            "text/plain": [
              "   overall                                         reviewText\n",
              "0        5  book beautiful photos good understandable dire...\n",
              "1        5  loved approach book paperback easy use inspiri...\n",
              "2        5                                              great\n",
              "3        5  always love way eva thinks fun designs book ea...\n",
              "4        5                                      nice patterns"
            ]
          },
          "metadata": {
            "tags": []
          },
          "execution_count": 46
        }
      ]
    },
    {
      "cell_type": "code",
      "metadata": {
        "id": "keCYd2KVVIRR"
      },
      "source": [
        "count = df['reviewText'].str.split().str.len()"
      ],
      "execution_count": null,
      "outputs": []
    },
    {
      "cell_type": "code",
      "metadata": {
        "id": "FnMm6UnPOE2F"
      },
      "source": [
        "import operator\n",
        "max_index, max_value = max(enumerate(count), key=operator.itemgetter(1))"
      ],
      "execution_count": null,
      "outputs": []
    },
    {
      "cell_type": "code",
      "metadata": {
        "id": "MeCROnfDOISe",
        "colab": {
          "base_uri": "https://localhost:8080/",
          "height": 53
        },
        "outputId": "b173fbba-e25c-489f-d2d0-159cc643a528"
      },
      "source": [
        "print(max_index)\n",
        "print(max_value)"
      ],
      "execution_count": null,
      "outputs": [
        {
          "output_type": "stream",
          "text": [
            "689\n",
            "199\n"
          ],
          "name": "stdout"
        }
      ]
    },
    {
      "cell_type": "code",
      "metadata": {
        "id": "npE64WpaWw-4",
        "colab": {
          "base_uri": "https://localhost:8080/",
          "height": 35
        },
        "outputId": "9e2dde22-ff53-4c98-87ff-cb9e1d5fcbb0"
      },
      "source": [
        "#max(count)\n",
        "#print(np.argmax(count))"
      ],
      "execution_count": null,
      "outputs": [
        {
          "output_type": "execute_result",
          "data": {
            "text/plain": [
              "6061"
            ]
          },
          "metadata": {
            "tags": []
          },
          "execution_count": 26
        }
      ]
    },
    {
      "cell_type": "code",
      "metadata": {
        "id": "SKDy8gzNU64h",
        "colab": {
          "base_uri": "https://localhost:8080/",
          "height": 35
        },
        "outputId": "ecae88bd-0acf-4987-9d18-d80f777130dc"
      },
      "source": [
        "print(count.shape)"
      ],
      "execution_count": null,
      "outputs": [
        {
          "output_type": "stream",
          "text": [
            "(3408438,)\n"
          ],
          "name": "stdout"
        }
      ]
    },
    {
      "cell_type": "code",
      "metadata": {
        "id": "CetL82QcMW88",
        "colab": {
          "base_uri": "https://localhost:8080/",
          "height": 35
        },
        "outputId": "2341ae05-cf0b-4605-8cee-2f553e00b5da"
      },
      "source": [
        "len(df['reviewText'].iloc[[298859]].values[0].split())"
      ],
      "execution_count": null,
      "outputs": [
        {
          "output_type": "execute_result",
          "data": {
            "text/plain": [
              "3489"
            ]
          },
          "metadata": {
            "tags": []
          },
          "execution_count": 106
        }
      ]
    },
    {
      "cell_type": "code",
      "metadata": {
        "id": "T5B86JdcU6d3",
        "colab": {
          "base_uri": "https://localhost:8080/",
          "height": 55
        },
        "outputId": "2e31ac90-d3a6-4c9b-a92a-ffb4533adadf"
      },
      "source": [
        "df['reviewText'].iloc[[298859]].values[0]"
      ],
      "execution_count": null,
      "outputs": [
        {
          "output_type": "execute_result",
          "data": {
            "text/plain": [
              "'sweet aholic main downfall comes eating healthy portion control love chocolate decided one day google healthiest chocolate stumbled across vitalicious products people making seem like best things earth taste like regular muffins brownies healthy plus could walked minutes made happy despite huge pricetag decided purchase babies anyway make review useful decided eat daily post opinions flavor eat so updated review flavor rate to give idea sweet tooth taste palette really really love chocolate favorite desserts probably chocolate cake devils food vanilla frosting hot apple pie vanilla ice cream brownie ice cream love chocolate chip cookies fan candy bars enjoy pizza hut cinnamon sticks krispy kreme doughnuts even though not get eat things anymore love contents super sampler multibran bluebran banana nut cranbran appleberry golden corn vitabrownies double chocolate double chocolate dream chocolate fig fudgy peanut butter chip vitabrownies taste like cake made apple sauce instead oil splenda instead real sugar egg whites instead full eggs little sweetness there not compare anyway real brownie first one ate package fedex truck came dropped package literally went straight kitchen opened box took one brownie put rest freezer ate piece warmed rest seconds brownie not moist sections moistness looked moist not hit spot like wanted however fiber leave sorta full satisfied afterwards i ate bottle water banana nut banana nut favorite type muffin deem particuar vitalicious banana nut healthier version healthy banana nut muffin familiar taste could curb banana nut bread fanatic craving okay deep chocolate pretty good sure best one all still not hit spot quite like thought would given great reviews everyone written sections muffin top chocolate chips best b c chocolate chips great like chips whole muffin top fighuring now eating one type food probably grow love like determined lose weight and or eat right would learn love would satisfy cravings sweets especilly not sweetaholic like me also deep chocolate tasted like brownie vitabrownies found surprising changed eating second time changed eating alot more blueberry bluebran know taste plain oats add water taste teasppon sugar mix plain plain honestly feel like wasting calories sit here eating this writing guys positive vitalicious products meant people mild sweet toothes not really like sweets want something sweet healthy every again would rather use calories eat real musketeers bar use eat something doesnt even taste good nd day fourth muffin honestly want send back box appreciate nutrients item though hey bolthouse farms drinks for know easier make extremely healthy tasty drink make healthy tasty baked good really thought vitalicious going bolthouse farms sweets chocolate world wrong though planned post review eating all think post honestly going charge game meaning wasted taste test look sacrifice others thinking buying them randomly eat rest add reviews taste eat provided actually eat another one again honestly disaapointed thought wouldnt buy anything sweet atleast weeks somewhat going back drawing board conclusion bucks per brownie muffin top think not worth it me budget better buying calorie packs store leaving car not think control eat one atleast calorie packs get per pack coupons get less that again know hard control calorie packs darn tasty vitalicious products definitely make easier exhibit self control since fiber rich not extremely tasty like just tasty enough please check final conclusion bottom random notes not suggest buying particular sampler buy anything buy chocolate sampler chocolate flavors best grow overtime happened me still no betty crocker hershey chocolate grows you key warming exactly right number seconds think may better person loves muffins texture taste love great muffin not eat everyday breakfast like people kind person blows calories muffin every morning probably fitting healthy alternative you still not get products getting high reviews guess people not like not really saying much not get wrong think great product vitamins calories ist great great someon not really eat whole lot sweets anyway not someone extreme sweet tooth like me reason begin grow days weeks promise come back tell guys b c may one products grow you gave product stars really wanted give figured vitalicious lovers would mad gave beloved product one settled two filled vitiamins not update update update update update updates below fudgy peanut buter chip okay peanut butter taste watered down chocolate bland nothing mean nothing fudgy this double chocolate dream ummmm well sit eating tasty chocolate treat scratching head trying figure out bland vitalicious chocolate growing me one really taste good took freezer warmed seconds opened microwave smelled like chocolate milk interesting grabbed smoothie sat begin eat guys best one far actually taste like box chocolate cake added little much water into whatever added one need rest double chocolate dream actually curb chocolate craving ate another vitabrownie guys rd one beginning grow me know eating like day actually makes eat less weird less hungry calculating calories though thinking eating calories day actually eating like max think vitabrownies muffins helping protein eat like tuna salmon combined smoothies bolthouse farm drinks water appleberry say vitalicious bran products taste like watered oats drop sugar big plain granola plain oats similar foods like otherwise barely satisfies sweet tooth apple smell nice wish present like wish apple cinnamon type taste cranbran read review plain taste give fair idk brans probably deserve chocolate fig not big figs actually feel like chewy snacks breaded crunchy sweets unnecessary like raisins since remove figs not favorite chocolate okay sort bland no chocolate chips make moist meant enjoy chocolate fig newtons ate another deep chocolate mm mmm good vitalicious chocolate taste growing me think may taste better frozen days warmed seconds deep chocolate may better double chocolate dream may deserve hmmm suggestions vitalicious put chocolate chips vitabrownie also create apple cinnamon flavor carrot cake type flavor guys scared taste golden corn multi gran sure not like it left cranbran blueberrybran appleberry chocolate fig thats x going waste bucks could went towards atleast boxes calorie snacks bolthouse farm drinks days worth quiznos still come back review others later feel make call vitalicious muffins brownies final conclusion golden corn sooooo sitting here drinking hot mint green tea delicately chowing golden corn vitamuffin people darn good took first bite thought myself duuuh called golden corn suppose taste like cornbread healthy piece corn bread much better most taste like healthy gourmet version jiffy cornbread sooo good not sure everyone reaction fan sweet cornbread definitely will perfect given fried chicken grilled chicken buttery mash potatoes plain baked potatoes perfect addition meal honestly good eaten midday midnight snack calories fat lots fiber vitamins not get better flavors taste like supposed be meaning could blindfold someone put different cornbreads front would not guess healthiest giving okay eating again still love it feel like overdid review think first ate pretty hungry craving sweetness second go round still really good like final conclusion run like heck vitalicious bran flavored products taste like plain quaker oats much water teaspoon sugar bits warm fruit scattered throughout delight bran flavor appleberry decent pretty good even really like apple berry flavored breads muffins banana nut best replica muffin opinion tasty looked light version banana nut muffin golden corn sigh delicious tastes like sweet cornbread southerners looks forward sunday dinner meals with slightly lighter taste added benefit healthy chocolate grows overtime first times eat one chocolate flavors sad wondering spent much money day rd th deep chocolate double chocolate dream happy part happiness unintentionally unnoticeably eating less because fiber stay fuller longer work home easy snack snack snack day little self control chocolate vitalicious muffintop easy control snacking could find heart spend another snack cakes would easily order box deep chocolate nbsp a data hook product link linked class a link normal href vitalicious deep chocolate vita tops ounce units pack of dp b df uj ref cm cr arp d rvw txt ie utf vitalicious deep chocolate vita tops ounce units pack a safely say satisfy chocoholics need chocolate use day daily treat frozen warm seconds room temperature try seconds likely not like first time grows you besides deep chocolate vitalicious muffintops would reccomend trying are golden corn double chocolate dream triple chocolate chunk maybe vitabrownies big fan nuts otherwise stick muffintops taste like brownies want repeat fact not know getting overall high reviews guessing people company ones writing lol people writing reviews not intense sweet cravings like do intense sweet tooth please not waste money sampler likely regret it best flavors really deep chocolate golden corn if like southern cornbread looking something curb sweet tooth stick deep chocolate believe perfect reviews whew written alot hope helps guys make better decision decided make review comprehensive alot cash spend small sweets plus trying decide whether not buy assumed posted reviews helpful really not except tips immediately freezing them ended actually liking flavors deep chocolate golden corn double chocolate dream banana nut brownie indubitably means wasted muffintops not let muffintops painfully eaten picked vain good luck choosing calories snack foods assist healthy lifestyle last update nov multibran writing well eating ones above freezer weeks figured heck let get multibran guys bran taste actually grows aferwhile still give used plain watery quaker oats taste not bother anymore feel sorta bad coming hard bran since all good you eating multibran dubbed day one king muffintop brans realize sampler good health nuts used plain flavors actually see people give sampler high ratings eat stuff like day long really good probably people not big sweets anyway easily bucks spend muffins like said work home easy snack day starting day vitalicious muffin and fruit eat less consumed calories total yesterday know like dislike would not buy sampler again really curious flavors taste feel free indulge might even give stars well maybe not taste really bland still vitalicious muffintops assist able live healthy lifestyle thats im about not dieting practicing healthy lifestyle vitalicious take much nabisco sunshine keebler calorie packs flavor exactly end eating whole box tasty shortbread oreos chip ahoys cheezits one day sometimes sittings wouldnt problem these hard eat even though pretty small key eating something like smoothie fruit water important tip buying suggest ask main purpose purchasing are explore healthy snacks find healthy breakfast food help sweet cravings help oversnacking find good bran flavored foods mine find healthy sweets something liked low calories vitamins would sufficiently curb cravings candy bars lol love chocolate sugar cravings case would better purchasing deep chocolate everyone come slightly different conclusion may not need purchase all also generally helps order low very low expectations point almost scared eat it finally like hmmm okay wow well pretty good lol good luck everyone ps prices vitatops strange fluctuate anyone else noticing this went ahead ordered triple chocolate chunk yesterday bucks plus free shipping now not even hours later happened price chocolate ones going bran lowering thats wrong may want buy local store vitalicious vitatops facebook page seem answer fans pretty quickly say store near not carry muffintops put request store vitalicious sure get particular store long one supposed carry vitatops like krogers gristedes food emporium whole foods etc check website complete listing '"
            ]
          },
          "metadata": {
            "tags": []
          },
          "execution_count": 155
        }
      ]
    },
    {
      "cell_type": "markdown",
      "metadata": {
        "id": "BDk-dJj07VzH"
      },
      "source": [
        "draw freq of len"
      ]
    },
    {
      "cell_type": "code",
      "metadata": {
        "id": "g26Tzo3fVHO3",
        "colab": {
          "base_uri": "https://localhost:8080/",
          "height": 281
        },
        "outputId": "930f7190-0fbd-4f6a-a549-aed080d4dafe"
      },
      "source": [
        "import matplotlib.pyplot as plt\n",
        "import numpy as np\n",
        "%matplotlib inline\n",
        "np.random.seed(42)\n",
        "x = count\n",
        "plt.hist(x, density=True, bins=100)  # `density=False` would make counts\n",
        "plt.ylabel('Probability')\n",
        "plt.xlabel('Data');"
      ],
      "execution_count": null,
      "outputs": [
        {
          "output_type": "display_data",
          "data": {
            "image/png": "[encoded data removed]",
            "text/plain": [
              "<Figure size 432x288 with 1 Axes>"
            ]
          },
          "metadata": {
            "tags": [],
            "needs_background": "light"
          }
        }
      ]
    },
    {
      "cell_type": "code",
      "metadata": {
        "id": "htw6Zq21Wk4a",
        "colab": {
          "base_uri": "https://localhost:8080/",
          "height": 426
        },
        "outputId": "0c65dbe2-e496-4103-a2af-18a7bd9987dd"
      },
      "source": [
        "red_square = dict(markerfacecolor='r', marker='s')\n",
        "fig5, ax5 = plt.subplots()\n",
        "ax5.set_title('Horizontal Boxes')\n",
        "ax5.boxplot(count, vert=False, flierprops=red_square)"
      ],
      "execution_count": null,
      "outputs": [
        {
          "output_type": "execute_result",
          "data": {
            "text/plain": [
              "{'boxes': [<matplotlib.lines.Line2D at 0x7ff88fa00588>],\n",
              " 'caps': [<matplotlib.lines.Line2D at 0x7ff88d7ae240>,\n",
              "  <matplotlib.lines.Line2D at 0x7ff88d7ae5c0>],\n",
              " 'fliers': [<matplotlib.lines.Line2D at 0x7ff88d7aecc0>],\n",
              " 'means': [],\n",
              " 'medians': [<matplotlib.lines.Line2D at 0x7ff88d7ae940>],\n",
              " 'whiskers': [<matplotlib.lines.Line2D at 0x7ff88fa00898>,\n",
              "  <matplotlib.lines.Line2D at 0x7ff88fa00c18>]}"
            ]
          },
          "metadata": {
            "tags": []
          },
          "execution_count": 30
        },
        {
          "output_type": "display_data",
          "data": {
            "image/png": "[encoded data removed]",
            "text/plain": [
              "<Figure size 432x288 with 1 Axes>"
            ]
          },
          "metadata": {
            "tags": [],
            "needs_background": "light"
          }
        }
      ]
    },
    {
      "cell_type": "markdown",
      "metadata": {
        "id": "N3_K_fVG7dbf"
      },
      "source": [
        "get outliers"
      ]
    },
    {
      "cell_type": "code",
      "metadata": {
        "id": "PLqMezL-lz1J",
        "colab": {
          "base_uri": "https://localhost:8080/",
          "height": 53
        },
        "outputId": "109e0bd7-31dc-4d5d-9c9d-182ae48e193e"
      },
      "source": [
        "sorted(count)\n",
        "q1, q3= np.percentile(count,[25,75])\n",
        "iqr = q3 - q1\n",
        "lower_bound = q1 -(1.5 * iqr) \n",
        "upper_bound = q3 +(1.5 * iqr) \n",
        "print(lower_bound)\n",
        "print(upper_bound)"
      ],
      "execution_count": null,
      "outputs": [
        {
          "output_type": "stream",
          "text": [
            "-102.5\n",
            "189.5\n"
          ],
          "name": "stdout"
        }
      ]
    },
    {
      "cell_type": "code",
      "metadata": {
        "id": "oDGzDcS8h1PF",
        "colab": {
          "base_uri": "https://localhost:8080/",
          "height": 72
        },
        "outputId": "ef3a5971-4db6-46a2-9d68-cff665aa41df"
      },
      "source": [
        "print('% of outliers = ', (count > upper_bound).sum() / len(count))\n",
        "print('number of outliers = ', (count > upper_bound).sum())\n",
        "print('number of good len = ', (count <= upper_bound).sum())"
      ],
      "execution_count": null,
      "outputs": [
        {
          "output_type": "stream",
          "text": [
            "% of outliers =  0.12208700877058641\n",
            "number of outliers =  416126\n",
            "number of good len =  2992312\n"
          ],
          "name": "stdout"
        }
      ]
    },
    {
      "cell_type": "markdown",
      "metadata": {
        "id": "9V12KpyK7mpv"
      },
      "source": [
        "draw after remove outliers\n"
      ]
    },
    {
      "cell_type": "code",
      "metadata": {
        "id": "jIK4-8pinCCU",
        "colab": {
          "base_uri": "https://localhost:8080/",
          "height": 279
        },
        "outputId": "127bb301-55b1-4ba4-d6d9-a22ea665f623"
      },
      "source": [
        "import matplotlib.pyplot as plt\n",
        "import numpy as np\n",
        "%matplotlib inline\n",
        "np.random.seed(42)\n",
        "x = count[count<=upper_bound]\n",
        "plt.hist(x, density=True, bins=30)  # `density=False` would make counts\n",
        "plt.ylabel('Probability')\n",
        "plt.xlabel('Data');"
      ],
      "execution_count": null,
      "outputs": [
        {
          "output_type": "display_data",
          "data": {
            "image/png": "[encoded data removed]",
            "text/plain": [
              "<Figure size 432x288 with 1 Axes>"
            ]
          },
          "metadata": {
            "tags": [],
            "needs_background": "light"
          }
        }
      ]
    },
    {
      "cell_type": "code",
      "metadata": {
        "id": "AgduKyLzm0iZ",
        "colab": {
          "base_uri": "https://localhost:8080/",
          "height": 426
        },
        "outputId": "e3c28c03-3bc2-444e-950c-a78f225743d6"
      },
      "source": [
        "red_square = dict(markerfacecolor='r', marker='s')\n",
        "fig5, ax5 = plt.subplots()\n",
        "ax5.set_title('Horizontal Boxes')\n",
        "ax5.boxplot(count[count<=upper_bound], vert=False, flierprops=red_square)"
      ],
      "execution_count": null,
      "outputs": [
        {
          "output_type": "execute_result",
          "data": {
            "text/plain": [
              "{'boxes': [<matplotlib.lines.Line2D at 0x7fd588a19278>],\n",
              " 'caps': [<matplotlib.lines.Line2D at 0x7fd588795e10>,\n",
              "  <matplotlib.lines.Line2D at 0x7fd58870d160>],\n",
              " 'fliers': [<matplotlib.lines.Line2D at 0x7fd5885308d0>],\n",
              " 'means': [],\n",
              " 'medians': [<matplotlib.lines.Line2D at 0x7fd588509ef0>],\n",
              " 'whiskers': [<matplotlib.lines.Line2D at 0x7fd588ace208>,\n",
              "  <matplotlib.lines.Line2D at 0x7fd588b66128>]}"
            ]
          },
          "metadata": {
            "tags": []
          },
          "execution_count": 124
        },
        {
          "output_type": "display_data",
          "data": {
            "image/png": "[encoded data removed]",
            "text/plain": [
              "<Figure size 432x288 with 1 Axes>"
            ]
          },
          "metadata": {
            "tags": [],
            "needs_background": "light"
          }
        }
      ]
    },
    {
      "cell_type": "markdown",
      "metadata": {
        "id": "zEfPlCZw7wkE"
      },
      "source": [
        "60% of rewiew contains less than 40 space(word)"
      ]
    },
    {
      "cell_type": "code",
      "metadata": {
        "id": "PL2xA_S8nv3f",
        "colab": {
          "base_uri": "https://localhost:8080/",
          "height": 72
        },
        "outputId": "e1761770-a9a0-49be-da85-b2eebbfb4bbc"
      },
      "source": [
        "print('% of ex of good len = ', (count < 100).sum() / len(count))\n",
        "print('number of outliers = ', (count >= 100).sum())\n",
        "print('number of good len = ', (count < 100).sum())"
      ],
      "execution_count": null,
      "outputs": [
        {
          "output_type": "stream",
          "text": [
            "% of ex of good len =  0.9876591560902575\n",
            "number of outliers =  139150\n",
            "number of good len =  11136416\n"
          ],
          "name": "stdout"
        }
      ]
    },
    {
      "cell_type": "markdown",
      "metadata": {
        "id": "ZNPgbK_K8Wtv"
      },
      "source": [
        "get the final dataframe"
      ]
    },
    {
      "cell_type": "code",
      "metadata": {
        "id": "j0lB1A0t1mxU"
      },
      "source": [
        "#for other dataset\n",
        "upper_bound = 200"
      ],
      "execution_count": null,
      "outputs": []
    },
    {
      "cell_type": "code",
      "metadata": {
        "id": "0MKvM8JsoOO9"
      },
      "source": [
        "count = df['reviewText'].str.split().str.len() #becouse i sorted it in calc outliers"
      ],
      "execution_count": null,
      "outputs": []
    },
    {
      "cell_type": "code",
      "metadata": {
        "id": "bm3j_ovwq6ql",
        "colab": {
          "base_uri": "https://localhost:8080/",
          "height": 73
        },
        "outputId": "5f75d1ec-d3f9-45a9-ee73-086b26b3b30c"
      },
      "source": [
        "df = df[count<=upper_bound]"
      ],
      "execution_count": null,
      "outputs": [
        {
          "output_type": "stream",
          "text": [
            "/usr/local/lib/python3.6/dist-packages/ipykernel_launcher.py:1: UserWarning: Boolean Series key will be reindexed to match DataFrame index.\n",
            "  \"\"\"Entry point for launching an IPython kernel.\n"
          ],
          "name": "stderr"
        }
      ]
    },
    {
      "cell_type": "code",
      "metadata": {
        "id": "dlpuhiZWoSFj",
        "colab": {
          "base_uri": "https://localhost:8080/",
          "height": 35
        },
        "outputId": "ac5af914-24af-4d63-e429-c93ddde0fa69"
      },
      "source": [
        "len(df)"
      ],
      "execution_count": null,
      "outputs": [
        {
          "output_type": "execute_result",
          "data": {
            "text/plain": [
              "405159"
            ]
          },
          "metadata": {
            "tags": []
          },
          "execution_count": 92
        }
      ]
    },
    {
      "cell_type": "code",
      "metadata": {
        "id": "8ITa4OObrKYe"
      },
      "source": [
        "#verify = df['reviewText'].str.split().str.len()"
      ],
      "execution_count": null,
      "outputs": []
    },
    {
      "cell_type": "code",
      "metadata": {
        "id": "B5X2If6LrPJD",
        "colab": {
          "base_uri": "https://localhost:8080/",
          "height": 35
        },
        "outputId": "93b0a551-051e-4363-d273-9270fda23ae7"
      },
      "source": [
        "#(verify > upper_bound).sum()"
      ],
      "execution_count": null,
      "outputs": [
        {
          "output_type": "execute_result",
          "data": {
            "text/plain": [
              "0"
            ]
          },
          "metadata": {
            "tags": []
          },
          "execution_count": 52
        }
      ]
    },
    {
      "cell_type": "markdown",
      "metadata": {
        "id": "7_Yk7-0DQdJY"
      },
      "source": [
        "save df"
      ]
    },
    {
      "cell_type": "code",
      "metadata": {
        "id": "Bfq0fmfJq5-l"
      },
      "source": [
        "data_frame_name = '/content/drive/My Drive/Movies_and_TV_filterd_df_200.pkl'\n",
        "df.to_pickle(data_frame_name)"
      ],
      "execution_count": null,
      "outputs": []
    },
    {
      "cell_type": "markdown",
      "metadata": {
        "id": "ZzmuMCeanZY-"
      },
      "source": [
        "large dataframe"
      ]
    },
    {
      "cell_type": "code",
      "metadata": {
        "id": "ceHv9ooD-qWK"
      },
      "source": [
        "#df_arr = np.array_split(df, 28)"
      ],
      "execution_count": null,
      "outputs": []
    },
    {
      "cell_type": "code",
      "metadata": {
        "id": "VYYEm--0-xHv",
        "colab": {
          "base_uri": "https://localhost:8080/",
          "height": 35
        },
        "outputId": "e97f64d6-a426-4b49-b619-1da2d03ee7f3"
      },
      "source": [
        "#len(df_arr)"
      ],
      "execution_count": null,
      "outputs": [
        {
          "output_type": "execute_result",
          "data": {
            "text/plain": [
              "28"
            ]
          },
          "metadata": {
            "tags": []
          },
          "execution_count": 17
        }
      ]
    },
    {
      "cell_type": "code",
      "metadata": {
        "id": "XYuX7cxFBgDM"
      },
      "source": [
        "new = []\n",
        "count = []\n",
        "for obj in df_arr:\n",
        "  count = obj['reviewText'].str.split().str.len()\n",
        "  new.append(obj[count<upper_bound])"
      ],
      "execution_count": null,
      "outputs": []
    },
    {
      "cell_type": "code",
      "metadata": {
        "id": "OovSxSxzHXqy",
        "colab": {
          "base_uri": "https://localhost:8080/",
          "height": 544
        },
        "outputId": "486a2564-8d40-480a-8a03-f3b7dd4fe5c3"
      },
      "source": [
        "print(len(df))\n",
        "for obj in new:\n",
        "  print(len(obj))"
      ],
      "execution_count": null,
      "outputs": [
        {
          "output_type": "stream",
          "text": [
            "27161259\n",
            "818298\n",
            "812935\n",
            "800908\n",
            "794976\n",
            "819766\n",
            "807879\n",
            "833758\n",
            "818742\n",
            "826491\n",
            "811935\n",
            "798575\n",
            "838782\n",
            "822379\n",
            "793924\n",
            "854159\n",
            "882451\n",
            "850500\n",
            "880402\n",
            "853362\n",
            "801862\n",
            "807972\n",
            "827993\n",
            "848328\n",
            "856367\n",
            "825510\n",
            "827772\n",
            "841284\n",
            "828052\n"
          ],
          "name": "stdout"
        }
      ]
    },
    {
      "cell_type": "code",
      "metadata": {
        "id": "dIRDx2eNDGGE",
        "colab": {
          "base_uri": "https://localhost:8080/",
          "height": 544
        },
        "outputId": "fb6c1a46-d44e-4837-cbed-9a0fb4145651"
      },
      "source": [
        "print(len(df))\n",
        "for obj in df_arr:\n",
        "  print(len(obj))"
      ],
      "execution_count": null,
      "outputs": [
        {
          "output_type": "stream",
          "text": [
            "27161259\n",
            "970045\n",
            "970045\n",
            "970045\n",
            "970045\n",
            "970045\n",
            "970045\n",
            "970045\n",
            "970045\n",
            "970045\n",
            "970045\n",
            "970045\n",
            "970045\n",
            "970045\n",
            "970045\n",
            "970045\n",
            "970045\n",
            "970045\n",
            "970045\n",
            "970045\n",
            "970045\n",
            "970045\n",
            "970045\n",
            "970045\n",
            "970045\n",
            "970045\n",
            "970045\n",
            "970045\n",
            "970044\n"
          ],
          "name": "stdout"
        }
      ]
    },
    {
      "cell_type": "markdown",
      "metadata": {
        "id": "W-wz_YYe8e49"
      },
      "source": [
        "save dataframe"
      ]
    },
    {
      "cell_type": "code",
      "metadata": {
        "id": "OO5aDshHJ76U"
      },
      "source": [
        "newdf =  np.concatenate(new, axis=0)"
      ],
      "execution_count": null,
      "outputs": []
    },
    {
      "cell_type": "code",
      "metadata": {
        "id": "etpiFh7bOwI9"
      },
      "source": [
        "newdf = pd.DataFrame(newdf)"
      ],
      "execution_count": null,
      "outputs": []
    },
    {
      "cell_type": "code",
      "metadata": {
        "id": "PbRy4043KGCC",
        "colab": {
          "base_uri": "https://localhost:8080/",
          "height": 35
        },
        "outputId": "5c9c5ddb-66ad-4ebd-ba77-e1fd313ab295"
      },
      "source": [
        "print(len(newdf))"
      ],
      "execution_count": null,
      "outputs": [
        {
          "output_type": "stream",
          "text": [
            "23185362\n"
          ],
          "name": "stdout"
        }
      ]
    },
    {
      "cell_type": "code",
      "metadata": {
        "id": "ZoTcbBDmXnrF"
      },
      "source": [
        "newdf.columns = ['overall','reviewText']"
      ],
      "execution_count": null,
      "outputs": []
    },
    {
      "cell_type": "code",
      "metadata": {
        "id": "K3S4GRa6KlKX",
        "colab": {
          "base_uri": "https://localhost:8080/",
          "height": 206
        },
        "outputId": "a2894953-a911-4bc6-ddfd-f2274d2401d6"
      },
      "source": [
        "newdf.tail()"
      ],
      "execution_count": null,
      "outputs": [
        {
          "output_type": "execute_result",
          "data": {
            "text/html": [
              "<div>\n",
              "<style scoped>\n",
              "    .dataframe tbody tr th:only-of-type {\n",
              "        vertical-align: middle;\n",
              "    }\n",
              "\n",
              "    .dataframe tbody tr th {\n",
              "        vertical-align: top;\n",
              "    }\n",
              "\n",
              "    .dataframe thead th {\n",
              "        text-align: right;\n",
              "    }\n",
              "</style>\n",
              "<table border=\"1\" class=\"dataframe\">\n",
              "  <thead>\n",
              "    <tr style=\"text-align: right;\">\n",
              "      <th></th>\n",
              "      <th>overall</th>\n",
              "      <th>reviewText</th>\n",
              "    </tr>\n",
              "  </thead>\n",
              "  <tbody>\n",
              "    <tr>\n",
              "      <th>23185357</th>\n",
              "      <td>5</td>\n",
              "      <td>found five stories collection well written tho...</td>\n",
              "    </tr>\n",
              "    <tr>\n",
              "      <th>23185358</th>\n",
              "      <td>5</td>\n",
              "      <td>great book enthralling stories keep wanting kn...</td>\n",
              "    </tr>\n",
              "    <tr>\n",
              "      <th>23185359</th>\n",
              "      <td>5</td>\n",
              "      <td>count one hand number books literally blown mi...</td>\n",
              "    </tr>\n",
              "    <tr>\n",
              "      <th>23185360</th>\n",
              "      <td>5</td>\n",
              "      <td>thought author could not come another thriller...</td>\n",
              "    </tr>\n",
              "    <tr>\n",
              "      <th>23185361</th>\n",
              "      <td>5</td>\n",
              "      <td>another amazing book ernst sequels not always ...</td>\n",
              "    </tr>\n",
              "  </tbody>\n",
              "</table>\n",
              "</div>"
            ],
            "text/plain": [
              "         overall                                         reviewText\n",
              "23185357       5  found five stories collection well written tho...\n",
              "23185358       5  great book enthralling stories keep wanting kn...\n",
              "23185359       5  count one hand number books literally blown mi...\n",
              "23185360       5  thought author could not come another thriller...\n",
              "23185361       5  another amazing book ernst sequels not always ..."
            ]
          },
          "metadata": {
            "tags": []
          },
          "execution_count": 62
        }
      ]
    },
    {
      "cell_type": "code",
      "metadata": {
        "id": "1RDrXEkBU5qQ",
        "colab": {
          "base_uri": "https://localhost:8080/",
          "height": 206
        },
        "outputId": "020bacd5-db7c-4c49-ccda-128757dfc4b6"
      },
      "source": [
        "df.tail()"
      ],
      "execution_count": null,
      "outputs": [
        {
          "output_type": "execute_result",
          "data": {
            "text/html": [
              "<div>\n",
              "<style scoped>\n",
              "    .dataframe tbody tr th:only-of-type {\n",
              "        vertical-align: middle;\n",
              "    }\n",
              "\n",
              "    .dataframe tbody tr th {\n",
              "        vertical-align: top;\n",
              "    }\n",
              "\n",
              "    .dataframe thead th {\n",
              "        text-align: right;\n",
              "    }\n",
              "</style>\n",
              "<table border=\"1\" class=\"dataframe\">\n",
              "  <thead>\n",
              "    <tr style=\"text-align: right;\">\n",
              "      <th></th>\n",
              "      <th>overall</th>\n",
              "      <th>reviewText</th>\n",
              "    </tr>\n",
              "  </thead>\n",
              "  <tbody>\n",
              "    <tr>\n",
              "      <th>11275561</th>\n",
              "      <td>5</td>\n",
              "      <td>item described works well light scarf material...</td>\n",
              "    </tr>\n",
              "    <tr>\n",
              "      <th>11275562</th>\n",
              "      <td>5</td>\n",
              "      <td>nice soft touch</td>\n",
              "    </tr>\n",
              "    <tr>\n",
              "      <th>11275563</th>\n",
              "      <td>5</td>\n",
              "      <td>scarf everything expected material good longer...</td>\n",
              "    </tr>\n",
              "    <tr>\n",
              "      <th>11275564</th>\n",
              "      <td>5</td>\n",
              "      <td>no better way say without blunt as woman large...</td>\n",
              "    </tr>\n",
              "    <tr>\n",
              "      <th>11275565</th>\n",
              "      <td>5</td>\n",
              "      <td>beautiful scarf light weight enough warmer wea...</td>\n",
              "    </tr>\n",
              "  </tbody>\n",
              "</table>\n",
              "</div>"
            ],
            "text/plain": [
              "          overall                                         reviewText\n",
              "11275561        5  item described works well light scarf material...\n",
              "11275562        5                                    nice soft touch\n",
              "11275563        5  scarf everything expected material good longer...\n",
              "11275564        5  no better way say without blunt as woman large...\n",
              "11275565        5  beautiful scarf light weight enough warmer wea..."
            ]
          },
          "metadata": {
            "tags": []
          },
          "execution_count": 78
        }
      ]
    },
    {
      "cell_type": "code",
      "metadata": {
        "id": "kO7gXfPCTpO7",
        "colab": {
          "base_uri": "https://localhost:8080/",
          "height": 237
        },
        "outputId": "53fabac1-2804-404b-8609-2609dc1408ce"
      },
      "source": [
        "newdf[818299:818305]"
      ],
      "execution_count": null,
      "outputs": [
        {
          "output_type": "execute_result",
          "data": {
            "text/html": [
              "<div>\n",
              "<style scoped>\n",
              "    .dataframe tbody tr th:only-of-type {\n",
              "        vertical-align: middle;\n",
              "    }\n",
              "\n",
              "    .dataframe tbody tr th {\n",
              "        vertical-align: top;\n",
              "    }\n",
              "\n",
              "    .dataframe thead th {\n",
              "        text-align: right;\n",
              "    }\n",
              "</style>\n",
              "<table border=\"1\" class=\"dataframe\">\n",
              "  <thead>\n",
              "    <tr style=\"text-align: right;\">\n",
              "      <th></th>\n",
              "      <th>overall</th>\n",
              "      <th>reviewText</th>\n",
              "    </tr>\n",
              "  </thead>\n",
              "  <tbody>\n",
              "    <tr>\n",
              "      <th>818299</th>\n",
              "      <td>3</td>\n",
              "      <td>just got back visiting china story helped reme...</td>\n",
              "    </tr>\n",
              "    <tr>\n",
              "      <th>818300</th>\n",
              "      <td>5</td>\n",
              "      <td>second book author read excellent last cato th...</td>\n",
              "    </tr>\n",
              "    <tr>\n",
              "      <th>818301</th>\n",
              "      <td>4</td>\n",
              "      <td>enjoyed fast paced novel takes place china sea...</td>\n",
              "    </tr>\n",
              "    <tr>\n",
              "      <th>818302</th>\n",
              "      <td>4</td>\n",
              "      <td>enjoyable book read harder put down full myste...</td>\n",
              "    </tr>\n",
              "    <tr>\n",
              "      <th>818303</th>\n",
              "      <td>5</td>\n",
              "      <td>new favorite author</td>\n",
              "    </tr>\n",
              "    <tr>\n",
              "      <th>818304</th>\n",
              "      <td>4</td>\n",
              "      <td>book wonderful read parts seemed drag much des...</td>\n",
              "    </tr>\n",
              "  </tbody>\n",
              "</table>\n",
              "</div>"
            ],
            "text/plain": [
              "       overall                                         reviewText\n",
              "818299       3  just got back visiting china story helped reme...\n",
              "818300       5  second book author read excellent last cato th...\n",
              "818301       4  enjoyed fast paced novel takes place china sea...\n",
              "818302       4  enjoyable book read harder put down full myste...\n",
              "818303       5                                new favorite author\n",
              "818304       4  book wonderful read parts seemed drag much des..."
            ]
          },
          "metadata": {
            "tags": []
          },
          "execution_count": 64
        }
      ]
    },
    {
      "cell_type": "code",
      "metadata": {
        "id": "rl65130dKNY4"
      },
      "source": [
        "data_frame_name = '/content/drive/My Drive/Books_filterd_df_100.pkl'\n",
        "newdf.to_pickle(data_frame_name)"
      ],
      "execution_count": null,
      "outputs": []
    },
    {
      "cell_type": "markdown",
      "metadata": {
        "id": "xByLpd072zw_"
      },
      "source": [
        "#setup final dataframe"
      ]
    },
    {
      "cell_type": "code",
      "metadata": {
        "id": "FH23OGIP3Ymt"
      },
      "source": [
        "df = pd.read_pickle('/content/drive/My Drive/Video_Games_filterd_df_100.pkl')"
      ],
      "execution_count": null,
      "outputs": []
    },
    {
      "cell_type": "code",
      "metadata": {
        "id": "1dtgb1c3VZqe"
      },
      "source": [
        "df1 = pd.read_pickle('/content/drive/My Drive/Books_filterd_df_100.pkl')\n",
        "df2 = pd.read_pickle('/content/drive/My Drive/Cell_Phones_and_Accessories_filterd_df_100.pkl')\n",
        "df3 = pd.read_pickle('/content/drive/My Drive/Clothing_Shoes_and_Jewelry_filterd_df_100.pkl')\n",
        "df4 = pd.read_pickle('/content/drive/My Drive/Grocery_and_Gourmet_Food_filterd_df_100.pkl')\n",
        "df5 = pd.read_pickle('/content/drive/My Drive/Movies_and_TV_filterd_df_100.pkl')\n",
        "df6 = pd.read_pickle('/content/drive/My Drive/Tools_and_Home_Improvement_filterd_df_100.pkl')\n",
        "df7 = pd.read_pickle('/content/drive/My Drive/Video_Games_filterd_df_100.pkl')"
      ],
      "execution_count": null,
      "outputs": []
    },
    {
      "cell_type": "code",
      "metadata": {
        "id": "Wl8p7VOhV92g"
      },
      "source": [
        "df = pd.concat([df1, df2, df3, df4, df5, df6, df7], ignore_index=True, sort =False)"
      ],
      "execution_count": null,
      "outputs": []
    },
    {
      "cell_type": "code",
      "metadata": {
        "id": "Iq4EjHTsdbWA",
        "colab": {
          "base_uri": "https://localhost:8080/",
          "height": 34
        },
        "outputId": "83fddcaa-7bdd-431e-8d20-f0155f5b9e2e"
      },
      "source": [
        "print(len(df))"
      ],
      "execution_count": null,
      "outputs": [
        {
          "output_type": "stream",
          "text": [
            "41865523\n"
          ],
          "name": "stdout"
        }
      ]
    },
    {
      "cell_type": "code",
      "metadata": {
        "id": "tYKb0qj9ceeo",
        "colab": {
          "base_uri": "https://localhost:8080/",
          "height": 206
        },
        "outputId": "921ecb22-76f5-4771-847b-3e06a81bed7a"
      },
      "source": [
        "df.head()"
      ],
      "execution_count": null,
      "outputs": [
        {
          "output_type": "execute_result",
          "data": {
            "text/html": [
              "<div>\n",
              "<style scoped>\n",
              "    .dataframe tbody tr th:only-of-type {\n",
              "        vertical-align: middle;\n",
              "    }\n",
              "\n",
              "    .dataframe tbody tr th {\n",
              "        vertical-align: top;\n",
              "    }\n",
              "\n",
              "    .dataframe thead th {\n",
              "        text-align: right;\n",
              "    }\n",
              "</style>\n",
              "<table border=\"1\" class=\"dataframe\">\n",
              "  <thead>\n",
              "    <tr style=\"text-align: right;\">\n",
              "      <th></th>\n",
              "      <th>overall</th>\n",
              "      <th>reviewText</th>\n",
              "    </tr>\n",
              "  </thead>\n",
              "  <tbody>\n",
              "    <tr>\n",
              "      <th>0</th>\n",
              "      <td>5</td>\n",
              "      <td>sorry not purchase years ago first came out go...</td>\n",
              "    </tr>\n",
              "    <tr>\n",
              "      <th>1</th>\n",
              "      <td>5</td>\n",
              "      <td>believe tell receive blessing watching video c...</td>\n",
              "    </tr>\n",
              "    <tr>\n",
              "      <th>2</th>\n",
              "      <td>5</td>\n",
              "      <td>seen x live many times early days recent reuni...</td>\n",
              "    </tr>\n",
              "    <tr>\n",
              "      <th>3</th>\n",
              "      <td>5</td>\n",
              "      <td>excited this finally live concert video x seen...</td>\n",
              "    </tr>\n",
              "    <tr>\n",
              "      <th>6</th>\n",
              "      <td>5</td>\n",
              "      <td>must admit hesitant purchase dvd classic punk ...</td>\n",
              "    </tr>\n",
              "  </tbody>\n",
              "</table>\n",
              "</div>"
            ],
            "text/plain": [
              "   overall                                         reviewText\n",
              "0        5  sorry not purchase years ago first came out go...\n",
              "1        5  believe tell receive blessing watching video c...\n",
              "2        5  seen x live many times early days recent reuni...\n",
              "3        5  excited this finally live concert video x seen...\n",
              "6        5  must admit hesitant purchase dvd classic punk ..."
            ]
          },
          "metadata": {
            "tags": []
          },
          "execution_count": 55
        }
      ]
    },
    {
      "cell_type": "code",
      "metadata": {
        "id": "Wosyt-tsnjU9",
        "colab": {
          "base_uri": "https://localhost:8080/",
          "height": 126
        },
        "outputId": "cc7c4bbd-492f-49b0-8a37-dac8ef4c9590"
      },
      "source": [
        "df['overall'].value_counts()"
      ],
      "execution_count": null,
      "outputs": [
        {
          "output_type": "execute_result",
          "data": {
            "text/plain": [
              "5    261587\n",
              "4     67060\n",
              "3     34451\n",
              "1     25261\n",
              "2     16800\n",
              "Name: overall, dtype: int64"
            ]
          },
          "metadata": {
            "tags": []
          },
          "execution_count": 25
        }
      ]
    },
    {
      "cell_type": "code",
      "metadata": {
        "id": "ryS25tp34ZXV"
      },
      "source": [
        "from sklearn.utils import shuffle\n",
        "min_num_of_ex = 16800\n",
        "\n",
        "df_5 = df[df['overall'] == 5].sample(min_num_of_ex, random_state=1)\n",
        "\n",
        "df_4 = df[df['overall'] == 4].sample(min_num_of_ex, random_state=1)\n",
        "\n",
        "df_3 = df[df['overall'] == 3].sample(min_num_of_ex, random_state=1)\n",
        "\n",
        "df_2 = df[df['overall'] == 2].sample(min_num_of_ex, random_state=1)\n",
        "\n",
        "df_1 = df[df['overall'] == 1].sample(min_num_of_ex, random_state=1)\n",
        "\n",
        "df = pd.concat([df_5, df_4, df_3, df_2, df_1], ignore_index=True, sort =False)\n",
        "\n",
        "df = shuffle(df, random_state=42)"
      ],
      "execution_count": null,
      "outputs": []
    },
    {
      "cell_type": "code",
      "metadata": {
        "id": "CvoNqlaH60fY",
        "colab": {
          "base_uri": "https://localhost:8080/",
          "height": 126
        },
        "outputId": "c9a87662-4874-453e-a523-139ba9baefae"
      },
      "source": [
        "df['overall'].value_counts()"
      ],
      "execution_count": null,
      "outputs": [
        {
          "output_type": "execute_result",
          "data": {
            "text/plain": [
              "5    137965\n",
              "4    137965\n",
              "3    137965\n",
              "2    137965\n",
              "1    137965\n",
              "Name: overall, dtype: int64"
            ]
          },
          "metadata": {
            "tags": []
          },
          "execution_count": 5
        }
      ]
    },
    {
      "cell_type": "code",
      "metadata": {
        "id": "fm0HT92iWxUD"
      },
      "source": [
        "data_frame_name = '/content/drive/My Drive/mini_finad_filterd_df_100.pkl'\n",
        "df.to_pickle(data_frame_name)"
      ],
      "execution_count": null,
      "outputs": []
    },
    {
      "cell_type": "markdown",
      "metadata": {
        "id": "zi68kLg9sY3g"
      },
      "source": [
        "#load embeddings"
      ]
    },
    {
      "cell_type": "markdown",
      "metadata": {
        "id": "BUjHTIvJ9MRx"
      },
      "source": [
        "download embeddings"
      ]
    },
    {
      "cell_type": "code",
      "metadata": {
        "id": "QXyZX_trsbuV",
        "colab": {
          "base_uri": "https://localhost:8080/",
          "height": 380
        },
        "outputId": "2d139748-d8df-4301-990e-c87c49eef28e"
      },
      "source": [
        "!wget http://nlp.stanford.edu/data/glove.840B.300d.zip"
      ],
      "execution_count": null,
      "outputs": [
        {
          "output_type": "stream",
          "text": [
            "--2020-06-12 17:19:18--  http://nlp.stanford.edu/data/glove.840B.300d.zip\n",
            "Resolving nlp.stanford.edu (nlp.stanford.edu)... 171.64.67.140\n",
            "Connecting to nlp.stanford.edu (nlp.stanford.edu)|171.64.67.140|:80... connected.\n",
            "HTTP request sent, awaiting response... 302 Found\n",
            "Location: https://nlp.stanford.edu/data/glove.840B.300d.zip [following]\n",
            "--2020-06-12 17:19:18--  https://nlp.stanford.edu/data/glove.840B.300d.zip\n",
            "Connecting to nlp.stanford.edu (nlp.stanford.edu)|171.64.67.140|:443... connected.\n",
            "HTTP request sent, awaiting response... 301 Moved Permanently\n",
            "Location: http://downloads.cs.stanford.edu/nlp/data/glove.840B.300d.zip [following]\n",
            "--2020-06-12 17:19:19--  http://downloads.cs.stanford.edu/nlp/data/glove.840B.300d.zip\n",
            "Resolving downloads.cs.stanford.edu (downloads.cs.stanford.edu)... 171.64.64.22\n",
            "Connecting to downloads.cs.stanford.edu (downloads.cs.stanford.edu)|171.64.64.22|:80... connected.\n",
            "HTTP request sent, awaiting response... 200 OK\n",
            "Length: 2176768927 (2.0G) [application/zip]\n",
            "Saving to: ‘glove.840B.300d.zip’\n",
            "\n",
            "glove.840B.300d.zip 100%[===================>]   2.03G  2.13MB/s    in 16m 54s \n",
            "\n",
            "2020-06-12 17:36:13 (2.05 MB/s) - ‘glove.840B.300d.zip’ saved [2176768927/2176768927]\n",
            "\n"
          ],
          "name": "stdout"
        }
      ]
    },
    {
      "cell_type": "markdown",
      "metadata": {
        "id": "1ezf3E1x9P3U"
      },
      "source": [
        "unzip"
      ]
    },
    {
      "cell_type": "code",
      "metadata": {
        "id": "iQVQ_FzIv6Jg",
        "colab": {
          "base_uri": "https://localhost:8080/",
          "height": 53
        },
        "outputId": "033f0a6d-6113-42e2-dd73-aa781f03dc3f"
      },
      "source": [
        "!unzip \"/content/drive/My Drive/Glove Dic/glove.840B.300d.zip\""
      ],
      "execution_count": null,
      "outputs": [
        {
          "output_type": "stream",
          "text": [
            "Archive:  /content/drive/My Drive/Glove Dic/glove.840B.300d.zip\n",
            "  inflating: glove.840B.300d.txt     \n"
          ],
          "name": "stdout"
        }
      ]
    },
    {
      "cell_type": "code",
      "metadata": {
        "id": "683zvP4CQE1Q"
      },
      "source": [
        "#\n",
        "def load_embeddings(path):\n",
        "  glove_file = path\n",
        "  with open(glove_file, 'r') as f:\n",
        "    words = set()\n",
        "    word_to_vec_map = {}\n",
        "    for line in f:\n",
        "      line = line.strip().split()\n",
        "      if (len(line)) == 51:\n",
        "        curr_word = line[0]\n",
        "        words.add(curr_word)\n",
        "        word_to_vec_map[curr_word] = np.array(line[1:], dtype=np.float64)\n",
        "    \n",
        "    i = 1\n",
        "    word_to_index = {}\n",
        "    index_to_words = {}\n",
        "    for w in sorted(words):\n",
        "      word_to_index[w] = i\n",
        "      index_to_words[i] = w\n",
        "      i = i + 1\n",
        "  return word_to_index, index_to_words, word_to_vec_map"
      ],
      "execution_count": null,
      "outputs": []
    },
    {
      "cell_type": "code",
      "metadata": {
        "id": "8Ou8r-dRoeVx"
      },
      "source": [
        "\n",
        "def load_embeddings(path):\n",
        "  glove_file = path\n",
        "  with open(glove_file, 'r') as f:\n",
        "    words = set()\n",
        "    word_to_vec_map = {}\n",
        "    for line in f:\n",
        "      line = line.strip().split()\n",
        "      curr_word = line[0]\n",
        "      words.add(curr_word)\n",
        "      word_to_vec_map[curr_word] = np.array(line[1:], dtype=np.float64)\n",
        "    \n",
        "    i = 1\n",
        "    word_to_index = {}\n",
        "    index_to_words = {}\n",
        "    for w in sorted(words):\n",
        "      word_to_index[w] = i\n",
        "      index_to_words[i] = w\n",
        "      i = i + 1\n",
        "  return word_to_index, index_to_words, word_to_vec_map\n"
      ],
      "execution_count": null,
      "outputs": []
    },
    {
      "cell_type": "code",
      "metadata": {
        "id": "2vazpJqP-OnR"
      },
      "source": [
        "\n",
        "word_to_index, index_to_words, word_to_vec_map = load_embeddings('/content/drive/My Drive/Glove Dic/glove.6B.50d.txt')"
      ],
      "execution_count": null,
      "outputs": []
    },
    {
      "cell_type": "code",
      "metadata": {
        "id": "rcrszIQZZMc7"
      },
      "source": [
        "#\n",
        "def get_emp_matrix(word_to_index, word_to_vec_map):\n",
        "  vocab_len = len(word_to_index) + 1                  # adding 1 for pading (requirement)\n",
        "  emb_dim = word_to_vec_map[\"cucumber\"].shape[0]      # dimension of GloVe word vectors (= 50)\n",
        "\n",
        "  emb_matrix = np.zeros((vocab_len, emb_dim))\n",
        "\n",
        "  for word, index in word_to_index.items():\n",
        "      emb_matrix[index, :] = word_to_vec_map[word]\n",
        "  return emb_matrix"
      ],
      "execution_count": null,
      "outputs": []
    },
    {
      "cell_type": "code",
      "metadata": {
        "id": "YtfSjP-2GXGl"
      },
      "source": [
        "#\n",
        "emb_matrix = get_emp_matrix(word_to_index, word_to_vec_map)"
      ],
      "execution_count": null,
      "outputs": []
    },
    {
      "cell_type": "code",
      "metadata": {
        "id": "7vU4fMwTE8wx"
      },
      "source": [
        "#\n",
        "def sentences_to_indices(X, word_to_index, maxLen):\n",
        "\n",
        "  m = X.shape[0] # number of training examples\n",
        "    \n",
        "  X_indices = np.zeros((m, maxLen),dtype=int)\n",
        "  i = 0\n",
        "  for s in X:\n",
        "\n",
        "    sentence_words = s.split()\n",
        "    \n",
        "    j = 0\n",
        "    \n",
        "    for w in sentence_words:\n",
        "      if j >= maxLen:\n",
        "        break\n",
        "      if w in word_to_index:\n",
        "        X_indices[i, j] = int(word_to_index[w])\n",
        "      j = j + 1\n",
        "    i = i + 1\n",
        "        \n",
        "  return X_indices"
      ],
      "execution_count": null,
      "outputs": []
    },
    {
      "cell_type": "markdown",
      "metadata": {
        "id": "ys-DIFJSvRtv"
      },
      "source": [
        "#normal classfication model"
      ]
    },
    {
      "cell_type": "markdown",
      "metadata": {
        "id": "zpuwY_H49FGw"
      },
      "source": [
        "##load dataframe"
      ]
    },
    {
      "cell_type": "code",
      "metadata": {
        "id": "SJgYjJVOWyj8"
      },
      "source": [
        "df = pd.read_pickle('/content/drive/My Drive/finad_filterd_df_100.pkl')"
      ],
      "execution_count": null,
      "outputs": []
    },
    {
      "cell_type": "code",
      "metadata": {
        "id": "Dq1r-4qYM5YV"
      },
      "source": [
        "#\n",
        "X = df['reviewText']\n",
        "y = df['overall']"
      ],
      "execution_count": null,
      "outputs": []
    },
    {
      "cell_type": "code",
      "metadata": {
        "id": "4A9bfnFL2Jhj"
      },
      "source": [
        "#for other dataset\n",
        "X_test = X\n",
        "y_test = y"
      ],
      "execution_count": null,
      "outputs": []
    },
    {
      "cell_type": "code",
      "metadata": {
        "id": "r7JEbc8MMmsy"
      },
      "source": [
        "#\n",
        "from sklearn.model_selection import train_test_split\n",
        "X_train, X_test, y_train, y_test = train_test_split(X, y, test_size=0.0125, random_state=42)"
      ],
      "execution_count": null,
      "outputs": []
    },
    {
      "cell_type": "code",
      "metadata": {
        "id": "lStYHFjcODqw",
        "colab": {
          "base_uri": "https://localhost:8080/",
          "height": 35
        },
        "outputId": "0847c80f-63e6-4b71-f442-ee948abdda59"
      },
      "source": [
        "print(len(df))"
      ],
      "execution_count": null,
      "outputs": [
        {
          "output_type": "stream",
          "text": [
            "8230755\n"
          ],
          "name": "stdout"
        }
      ]
    },
    {
      "cell_type": "code",
      "metadata": {
        "id": "wUf4Mx7u4IlW",
        "colab": {
          "base_uri": "https://localhost:8080/",
          "height": 53
        },
        "outputId": "8efd0b18-535b-4e26-cd63-c4158ec1c1ef"
      },
      "source": [
        "print(len(X_train))\n",
        "print(len(X_test))"
      ],
      "execution_count": null,
      "outputs": [
        {
          "output_type": "stream",
          "text": [
            "8127870\n",
            "102885\n"
          ],
          "name": "stdout"
        }
      ]
    },
    {
      "cell_type": "code",
      "metadata": {
        "id": "iUmGmGzK4STK",
        "colab": {
          "base_uri": "https://localhost:8080/",
          "height": 126
        },
        "outputId": "13533bec-7838-414d-f29f-d031218631ba"
      },
      "source": [
        "y_test.value_counts()"
      ],
      "execution_count": null,
      "outputs": [
        {
          "output_type": "execute_result",
          "data": {
            "text/plain": [
              "3    20648\n",
              "5    20610\n",
              "1    20580\n",
              "2    20562\n",
              "4    20485\n",
              "Name: overall, dtype: int64"
            ]
          },
          "metadata": {
            "tags": []
          },
          "execution_count": 9
        }
      ]
    },
    {
      "cell_type": "markdown",
      "metadata": {
        "id": "QVGZzaqZl-NM"
      },
      "source": [
        "## setup X Y for training"
      ]
    },
    {
      "cell_type": "code",
      "metadata": {
        "id": "AJJXeqR-NZrw",
        "colab": {
          "base_uri": "https://localhost:8080/",
          "height": 35
        },
        "outputId": "56c59c2c-ab12-4a7c-f742-0bd4d1a574e8"
      },
      "source": [
        "#\n",
        "#maxLen = max(X_train.str.split().str.len())\n",
        "maxLen = 99\n",
        "print(maxLen)"
      ],
      "execution_count": null,
      "outputs": [
        {
          "output_type": "stream",
          "text": [
            "99\n"
          ],
          "name": "stdout"
        }
      ]
    },
    {
      "cell_type": "code",
      "metadata": {
        "id": "7opOV6uRX-oh"
      },
      "source": [
        "#\n",
        "X_train_indices = sentences_to_indices(X_train, word_to_index, maxLen)"
      ],
      "execution_count": null,
      "outputs": []
    },
    {
      "cell_type": "code",
      "metadata": {
        "id": "IvROApCA4jhh",
        "colab": {
          "base_uri": "https://localhost:8080/",
          "height": 35
        },
        "outputId": "631238d8-9647-4da6-8389-d444b9c1098c"
      },
      "source": [
        "X_train_indices.shape"
      ],
      "execution_count": null,
      "outputs": [
        {
          "output_type": "execute_result",
          "data": {
            "text/plain": [
              "(8127870, 99)"
            ]
          },
          "metadata": {
            "tags": []
          },
          "execution_count": 18
        }
      ]
    },
    {
      "cell_type": "code",
      "metadata": {
        "id": "4g9WXYW543V6",
        "colab": {
          "base_uri": "https://localhost:8080/",
          "height": 126
        },
        "outputId": "20b8d1b3-0288-4503-f9b8-4bd1e7d7af5b"
      },
      "source": [
        "y_train.value_counts()"
      ],
      "execution_count": null,
      "outputs": [
        {
          "output_type": "execute_result",
          "data": {
            "text/plain": [
              "4    1625666\n",
              "2    1625589\n",
              "1    1625571\n",
              "5    1625541\n",
              "3    1625503\n",
              "Name: overall, dtype: int64"
            ]
          },
          "metadata": {
            "tags": []
          },
          "execution_count": 19
        }
      ]
    },
    {
      "cell_type": "code",
      "metadata": {
        "id": "BLGue7-350Nh",
        "colab": {
          "base_uri": "https://localhost:8080/",
          "height": 126
        },
        "outputId": "8d214c87-a4c7-497b-9ba9-df2d49eeea04"
      },
      "source": [
        "y_train.head()"
      ],
      "execution_count": null,
      "outputs": [
        {
          "output_type": "execute_result",
          "data": {
            "text/plain": [
              "2712399    4\n",
              "729417     5\n",
              "7823495    1\n",
              "8136633    1\n",
              "3089961    4\n",
              "Name: overall, dtype: object"
            ]
          },
          "metadata": {
            "tags": []
          },
          "execution_count": 28
        }
      ]
    },
    {
      "cell_type": "code",
      "metadata": {
        "id": "atZZys3-57ux"
      },
      "source": [
        "y_train = y_train.astype(int)"
      ],
      "execution_count": null,
      "outputs": []
    },
    {
      "cell_type": "code",
      "metadata": {
        "id": "djZJBK7vdtia"
      },
      "source": [
        "#\n",
        "def convert_to_one_hot(Y, C):\n",
        "  Y = Y - 1\n",
        "  Y = np.eye(C)[Y.values.reshape(-1)]\n",
        "  return Y"
      ],
      "execution_count": null,
      "outputs": []
    },
    {
      "cell_type": "code",
      "metadata": {
        "id": "j32_GLN4fcCT"
      },
      "source": [
        "#\n",
        "Y_train_oh = convert_to_one_hot(y_train, C = 5)"
      ],
      "execution_count": null,
      "outputs": []
    },
    {
      "cell_type": "code",
      "metadata": {
        "id": "HuGbDu1M5aZt"
      },
      "source": [
        "Y_train_oh = Y_train_oh.astype(int)"
      ],
      "execution_count": null,
      "outputs": []
    },
    {
      "cell_type": "code",
      "metadata": {
        "id": "EPLe6h2X6Mlz",
        "colab": {
          "base_uri": "https://localhost:8080/",
          "height": 108
        },
        "outputId": "899eb2ac-5e24-4216-be0c-91c8a3b3416a"
      },
      "source": [
        "Y_train_oh[0:5]"
      ],
      "execution_count": null,
      "outputs": [
        {
          "output_type": "execute_result",
          "data": {
            "text/plain": [
              "array([[0, 0, 0, 1, 0],\n",
              "       [0, 0, 0, 0, 1],\n",
              "       [1, 0, 0, 0, 0],\n",
              "       [1, 0, 0, 0, 0],\n",
              "       [0, 0, 0, 1, 0]])"
            ]
          },
          "metadata": {
            "tags": []
          },
          "execution_count": 24
        }
      ]
    },
    {
      "cell_type": "code",
      "metadata": {
        "id": "XRtUMQtIo-6F",
        "colab": {
          "base_uri": "https://localhost:8080/",
          "height": 90
        },
        "outputId": "0c93d2dc-56ba-47f2-8173-80451b03a374"
      },
      "source": [
        "print(y_train.shape)\n",
        "print(X_train.shape)\n",
        "print(Y_train_oh.shape)\n",
        "print(X_train_indices.shape)"
      ],
      "execution_count": null,
      "outputs": [
        {
          "output_type": "stream",
          "text": [
            "(6584604,)\n",
            "(6584604,)\n",
            "(6584604, 5)\n",
            "(6584604, 100)\n"
          ],
          "name": "stdout"
        }
      ]
    },
    {
      "cell_type": "markdown",
      "metadata": {
        "id": "_amFW7S1NdTK"
      },
      "source": [
        "##train"
      ]
    },
    {
      "cell_type": "code",
      "metadata": {
        "id": "oZsI02epOggO"
      },
      "source": [
        "#\n",
        "import tensorflow as tf\n",
        "from tensorflow import keras\n",
        "from tensorflow.keras import layers\n",
        "from tensorflow.keras.models import Sequential, load_model\n",
        "from tensorflow.keras.preprocessing import sequence\n",
        "from tensorflow.keras.layers import Embedding, LSTM, Dense, Dropout\n",
        "\n",
        "from tensorflow.keras.callbacks import ModelCheckpoint"
      ],
      "execution_count": null,
      "outputs": []
    },
    {
      "cell_type": "code",
      "metadata": {
        "id": "8ziLeh5bI-kB"
      },
      "source": [
        "maxLen = 99"
      ],
      "execution_count": null,
      "outputs": []
    },
    {
      "cell_type": "code",
      "metadata": {
        "id": "12-tngWdOlCm"
      },
      "source": [
        "#\n",
        "NB_WORDS = len(word_to_index)+1 # Parameter indicating the number of words we'll put in the dictionary\n",
        "NB_START_EPOCHS = 15  # Number of epochs we usually start to train with\n",
        "BATCH_SIZE = 1024  # Size of the batches used in the mini-batch gradient descent\n",
        "MAX_LEN = maxLen  # Maximum number of words in a sequence\n",
        "GLOVE_DIM = word_to_vec_map[\"cucumber\"].shape[0]  # Number of dimensions of the GloVe word embeddings"
      ],
      "execution_count": null,
      "outputs": []
    },
    {
      "cell_type": "code",
      "metadata": {
        "id": "CGygBCzXWadc",
        "colab": {
          "base_uri": "https://localhost:8080/",
          "height": 417
        },
        "outputId": "f25c125c-76f9-4a5a-8d1b-febfd96ebc94"
      },
      "source": [
        "#\n",
        "model=Sequential()\n",
        "model.add(Embedding(NB_WORDS, GLOVE_DIM, input_length=MAX_LEN,weights=[emb_matrix], trainable=False))\n",
        "model.add(LSTM(128 , return_sequences=True))\n",
        "model.add(Dropout(0.2))\n",
        "model.add(LSTM(128 , return_sequences=False))\n",
        "model.add(Dropout(0.2))\n",
        "model.add(Dense(50, activation='relu'))\n",
        "model.add(Dense(5, activation='softmax'))\n",
        "model.summary()"
      ],
      "execution_count": null,
      "outputs": [
        {
          "output_type": "stream",
          "text": [
            "Model: \"sequential\"\n",
            "_________________________________________________________________\n",
            "Layer (type)                 Output Shape              Param #   \n",
            "=================================================================\n",
            "embedding (Embedding)        (None, 99, 50)            20000050  \n",
            "_________________________________________________________________\n",
            "lstm (LSTM)                  (None, 99, 128)           91648     \n",
            "_________________________________________________________________\n",
            "dropout (Dropout)            (None, 99, 128)           0         \n",
            "_________________________________________________________________\n",
            "lstm_1 (LSTM)                (None, 128)               131584    \n",
            "_________________________________________________________________\n",
            "dropout_1 (Dropout)          (None, 128)               0         \n",
            "_________________________________________________________________\n",
            "dense (Dense)                (None, 50)                6450      \n",
            "_________________________________________________________________\n",
            "dense_1 (Dense)              (None, 5)                 255       \n",
            "=================================================================\n",
            "Total params: 20,229,987\n",
            "Trainable params: 229,937\n",
            "Non-trainable params: 20,000,050\n",
            "_________________________________________________________________\n"
          ],
          "name": "stdout"
        }
      ]
    },
    {
      "cell_type": "code",
      "metadata": {
        "id": "WSVPEN1cN77k"
      },
      "source": [
        "#\n",
        "model.compile(loss='categorical_crossentropy', optimizer='adam', metrics=['accuracy'])"
      ],
      "execution_count": null,
      "outputs": []
    },
    {
      "cell_type": "code",
      "metadata": {
        "id": "PIs3bxwvyax-"
      },
      "source": [
        "#\n",
        "# checkpoint\n",
        "filepath=\"/content/drive/My Drive/model3.h5\"\n",
        "checkpoint = ModelCheckpoint(filepath, monitor='val_accuracy', verbose=1, save_best_only=True, mode='max')\n",
        "callbacks_list = [checkpoint]"
      ],
      "execution_count": null,
      "outputs": []
    },
    {
      "cell_type": "code",
      "metadata": {
        "id": "RpZV730Asmjr"
      },
      "source": [
        "#\n",
        "model.load_weights('/content/drive/My Drive/model3.h5')"
      ],
      "execution_count": null,
      "outputs": []
    },
    {
      "cell_type": "code",
      "metadata": {
        "id": "FEVZfOhQwnXh",
        "colab": {
          "base_uri": "https://localhost:8080/",
          "height": 1000
        },
        "outputId": "a4647926-e500-4733-cc22-1fc3d3ad22b7"
      },
      "source": [
        "#\n",
        "model.fit(X_train_indices, Y_train_oh, validation_split=0.0125, epochs = NB_START_EPOCHS, batch_size = BATCH_SIZE, callbacks=callbacks_list)"
      ],
      "execution_count": null,
      "outputs": [
        {
          "output_type": "stream",
          "text": [
            "Epoch 1/15\n",
            "7838/7839 [============================>.] - ETA: 0s - loss: 1.1443 - accuracy: 0.4946\n",
            "Epoch 00001: val_accuracy improved from -inf to 0.52106, saving model to /content/drive/My Drive/model3.h5\n",
            "7839/7839 [==============================] - 415s 53ms/step - loss: 1.1443 - accuracy: 0.4946 - val_loss: 1.0825 - val_accuracy: 0.5211\n",
            "Epoch 2/15\n",
            "7838/7839 [============================>.] - ETA: 0s - loss: 1.0589 - accuracy: 0.5341\n",
            "Epoch 00002: val_accuracy did not improve from 0.52106\n",
            "7839/7839 [==============================] - 414s 53ms/step - loss: 1.0589 - accuracy: 0.5341 - val_loss: 1.1770 - val_accuracy: 0.4864\n",
            "Epoch 3/15\n",
            "7838/7839 [============================>.] - ETA: 0s - loss: 1.0390 - accuracy: 0.5430\n",
            "Epoch 00003: val_accuracy improved from 0.52106 to 0.55438, saving model to /content/drive/My Drive/model3.h5\n",
            "7839/7839 [==============================] - 415s 53ms/step - loss: 1.0390 - accuracy: 0.5430 - val_loss: 1.0159 - val_accuracy: 0.5544\n",
            "Epoch 4/15\n",
            "7838/7839 [============================>.] - ETA: 0s - loss: 1.0080 - accuracy: 0.5563\n",
            "Epoch 00004: val_accuracy improved from 0.55438 to 0.56059, saving model to /content/drive/My Drive/model3.h5\n",
            "7839/7839 [==============================] - 414s 53ms/step - loss: 1.0080 - accuracy: 0.5563 - val_loss: 0.9995 - val_accuracy: 0.5606\n",
            "Epoch 5/15\n",
            "7838/7839 [============================>.] - ETA: 0s - loss: 0.9943 - accuracy: 0.5621\n",
            "Epoch 00005: val_accuracy improved from 0.56059 to 0.56478, saving model to /content/drive/My Drive/model3.h5\n",
            "7839/7839 [==============================] - 415s 53ms/step - loss: 0.9943 - accuracy: 0.5621 - val_loss: 0.9902 - val_accuracy: 0.5648\n",
            "Epoch 6/15\n",
            "7838/7839 [============================>.] - ETA: 0s - loss: 0.9856 - accuracy: 0.5659\n",
            "Epoch 00006: val_accuracy improved from 0.56478 to 0.56488, saving model to /content/drive/My Drive/model3.h5\n",
            "7839/7839 [==============================] - 413s 53ms/step - loss: 0.9856 - accuracy: 0.5659 - val_loss: 0.9890 - val_accuracy: 0.5649\n",
            "Epoch 7/15\n",
            "7838/7839 [============================>.] - ETA: 0s - loss: 0.9795 - accuracy: 0.5685\n",
            "Epoch 00007: val_accuracy improved from 0.56488 to 0.57036, saving model to /content/drive/My Drive/model3.h5\n",
            "7839/7839 [==============================] - 414s 53ms/step - loss: 0.9795 - accuracy: 0.5685 - val_loss: 0.9800 - val_accuracy: 0.5704\n",
            "Epoch 8/15\n",
            "7838/7839 [============================>.] - ETA: 0s - loss: 0.9748 - accuracy: 0.5704\n",
            "Epoch 00008: val_accuracy did not improve from 0.57036\n",
            "7839/7839 [==============================] - 413s 53ms/step - loss: 0.9748 - accuracy: 0.5704 - val_loss: 0.9795 - val_accuracy: 0.5686\n",
            "Epoch 9/15\n",
            "7838/7839 [============================>.] - ETA: 0s - loss: 0.9713 - accuracy: 0.5721\n",
            "Epoch 00009: val_accuracy improved from 0.57036 to 0.57062, saving model to /content/drive/My Drive/model3.h5\n",
            "7839/7839 [==============================] - 414s 53ms/step - loss: 0.9713 - accuracy: 0.5721 - val_loss: 0.9743 - val_accuracy: 0.5706\n",
            "Epoch 10/15\n",
            "7838/7839 [============================>.] - ETA: 0s - loss: 0.9683 - accuracy: 0.5734\n",
            "Epoch 00010: val_accuracy did not improve from 0.57062\n",
            "7839/7839 [==============================] - 414s 53ms/step - loss: 0.9683 - accuracy: 0.5734 - val_loss: 0.9778 - val_accuracy: 0.5699\n",
            "Epoch 11/15\n",
            "7838/7839 [============================>.] - ETA: 0s - loss: 0.9658 - accuracy: 0.5745\n",
            "Epoch 00011: val_accuracy improved from 0.57062 to 0.57431, saving model to /content/drive/My Drive/model3.h5\n",
            "7839/7839 [==============================] - 415s 53ms/step - loss: 0.9658 - accuracy: 0.5745 - val_loss: 0.9700 - val_accuracy: 0.5743\n",
            "Epoch 12/15\n",
            "7838/7839 [============================>.] - ETA: 0s - loss: 0.9636 - accuracy: 0.5755\n",
            "Epoch 00012: val_accuracy did not improve from 0.57431\n",
            "7839/7839 [==============================] - 411s 52ms/step - loss: 0.9636 - accuracy: 0.5755 - val_loss: 0.9693 - val_accuracy: 0.5734\n",
            "Epoch 13/15\n",
            "7838/7839 [============================>.] - ETA: 0s - loss: 0.9618 - accuracy: 0.5763\n",
            "Epoch 00013: val_accuracy did not improve from 0.57431\n",
            "7839/7839 [==============================] - 413s 53ms/step - loss: 0.9618 - accuracy: 0.5763 - val_loss: 0.9693 - val_accuracy: 0.5735\n",
            "Epoch 14/15\n",
            "7838/7839 [============================>.] - ETA: 0s - loss: 0.9602 - accuracy: 0.5769\n",
            "Epoch 00014: val_accuracy did not improve from 0.57431\n",
            "7839/7839 [==============================] - 412s 53ms/step - loss: 0.9602 - accuracy: 0.5769 - val_loss: 0.9721 - val_accuracy: 0.5736\n",
            "Epoch 15/15\n",
            "7838/7839 [============================>.] - ETA: 0s - loss: 0.9588 - accuracy: 0.5775\n",
            "Epoch 00015: val_accuracy improved from 0.57431 to 0.57464, saving model to /content/drive/My Drive/model3.h5\n",
            "7839/7839 [==============================] - 412s 53ms/step - loss: 0.9588 - accuracy: 0.5775 - val_loss: 0.9678 - val_accuracy: 0.5746\n"
          ],
          "name": "stdout"
        },
        {
          "output_type": "execute_result",
          "data": {
            "text/plain": [
              "<tensorflow.python.keras.callbacks.History at 0x7fec7120b3c8>"
            ]
          },
          "metadata": {
            "tags": []
          },
          "execution_count": 24
        }
      ]
    },
    {
      "cell_type": "code",
      "metadata": {
        "id": "idk-uCgCwrMR"
      },
      "source": [
        "model.save_weights('/content/drive/My Drive/model.h5', overwrite=True)"
      ],
      "execution_count": null,
      "outputs": []
    },
    {
      "cell_type": "markdown",
      "metadata": {
        "id": "DlQYa5I-smRk"
      },
      "source": [
        "##test"
      ]
    },
    {
      "cell_type": "code",
      "metadata": {
        "id": "LJNGjntBtujy"
      },
      "source": [
        "#\n",
        "X_test_indices = sentences_to_indices(X_test, word_to_index, maxLen)\n",
        "y_test = y_test.astype(int)\n",
        "Y_test_oh = convert_to_one_hot(y_test, C = 5)\n",
        "Y_test_oh = Y_test_oh.astype(int)"
      ],
      "execution_count": null,
      "outputs": []
    },
    {
      "cell_type": "code",
      "metadata": {
        "id": "LXXjdsugt5f6",
        "colab": {
          "base_uri": "https://localhost:8080/",
          "height": 72
        },
        "outputId": "512d5dcd-5a63-4dd8-d623-de8b97da6bc8"
      },
      "source": [
        "print(X_test_indices.shape)\n",
        "print(Y_test_oh.shape)\n",
        "print(y_test.shape)"
      ],
      "execution_count": null,
      "outputs": [
        {
          "output_type": "stream",
          "text": [
            "(102885, 99)\n",
            "(102885, 5)\n",
            "(102885,)\n"
          ],
          "name": "stdout"
        }
      ]
    },
    {
      "cell_type": "code",
      "metadata": {
        "id": "UsChQ4-dd2DB",
        "colab": {
          "base_uri": "https://localhost:8080/",
          "height": 72
        },
        "outputId": "f0e99090-c59f-4752-cee8-90ee7b918946"
      },
      "source": [
        "#\n",
        "loss, acc = model.evaluate(X_test_indices, Y_test_oh)\n",
        "print()\n",
        "print(\"Test accuracy = \", acc)"
      ],
      "execution_count": null,
      "outputs": [
        {
          "output_type": "stream",
          "text": [
            "3216/3216 [==============================] - 176s 55ms/step - loss: 0.9651 - accuracy: 0.5756\n",
            "\n",
            "Test accuracy =  0.5756427049636841\n"
          ],
          "name": "stdout"
        }
      ]
    },
    {
      "cell_type": "code",
      "metadata": {
        "id": "yW_q2EsDbbzm"
      },
      "source": [
        "y_pred = model.predict(X_test_indices)"
      ],
      "execution_count": null,
      "outputs": []
    },
    {
      "cell_type": "code",
      "metadata": {
        "id": "msxPLH4BnZ4n",
        "colab": {
          "base_uri": "https://localhost:8080/",
          "height": 126
        },
        "outputId": "df3b84ff-7b40-47d5-f505-6fbbfbeb4a06"
      },
      "source": [
        "y_test.head(5)"
      ],
      "execution_count": null,
      "outputs": [
        {
          "output_type": "execute_result",
          "data": {
            "text/plain": [
              "69790     5\n",
              "51736     5\n",
              "144337    4\n",
              "680830    1\n",
              "586216    1\n",
              "Name: overall, dtype: int64"
            ]
          },
          "metadata": {
            "tags": []
          },
          "execution_count": 26
        }
      ]
    },
    {
      "cell_type": "code",
      "metadata": {
        "id": "HgSSoz_cnDrQ",
        "colab": {
          "base_uri": "https://localhost:8080/",
          "height": 108
        },
        "outputId": "66f9fe98-7e4a-4e1e-99c4-f85a21be8178"
      },
      "source": [
        "y_pred[0:5]"
      ],
      "execution_count": null,
      "outputs": [
        {
          "output_type": "execute_result",
          "data": {
            "text/plain": [
              "array([[1.65e-02, 1.65e-01, 6.05e-01, 2.04e-01, 9.58e-03],\n",
              "       [2.31e-02, 2.98e-02, 1.86e-01, 4.03e-01, 3.58e-01],\n",
              "       [7.63e-02, 1.72e-01, 2.82e-01, 2.91e-01, 1.79e-01],\n",
              "       [8.47e-01, 1.31e-01, 2.05e-02, 1.26e-03, 5.59e-04],\n",
              "       [6.42e-01, 2.24e-01, 7.51e-02, 2.73e-02, 3.18e-02]], dtype=float32)"
            ]
          },
          "metadata": {
            "tags": []
          },
          "execution_count": 44
        }
      ]
    },
    {
      "cell_type": "code",
      "metadata": {
        "id": "Q11f1R9_3y5P"
      },
      "source": [
        "bias = [0.0, 0.01, 0.02, 0.03, 0.04, 0.05, 0.06, 0.07, 0.08, 0.09, 0.10]"
      ],
      "execution_count": null,
      "outputs": []
    },
    {
      "cell_type": "code",
      "metadata": {
        "id": "jYwJR5TQ5NKu"
      },
      "source": [
        "test_y_pred = np.copy(y_pred)"
      ],
      "execution_count": null,
      "outputs": []
    },
    {
      "cell_type": "code",
      "metadata": {
        "id": "q59dTgNO5TQN",
        "colab": {
          "base_uri": "https://localhost:8080/",
          "height": 35
        },
        "outputId": "8051980e-4f49-4c34-a764-7a4aa25d8727"
      },
      "source": [
        "y_pred[0]"
      ],
      "execution_count": null,
      "outputs": [
        {
          "output_type": "execute_result",
          "data": {
            "text/plain": [
              "array([3.98e-01, 5.05e-01, 9.38e-02, 3.30e-03, 4.75e-04], dtype=float32)"
            ]
          },
          "metadata": {
            "tags": []
          },
          "execution_count": 114
        }
      ]
    },
    {
      "cell_type": "code",
      "metadata": {
        "id": "3SCzVzXc5e_3",
        "colab": {
          "base_uri": "https://localhost:8080/",
          "height": 35
        },
        "outputId": "d208aacb-28b0-4c23-dbd9-a99c2a497857"
      },
      "source": [
        "test_y_pred[0]"
      ],
      "execution_count": null,
      "outputs": [
        {
          "output_type": "execute_result",
          "data": {
            "text/plain": [
              "array([3.98e-01, 5.05e-01, 9.38e-02, 3.30e-03, 4.75e-04], dtype=float32)"
            ]
          },
          "metadata": {
            "tags": []
          },
          "execution_count": 116
        }
      ]
    },
    {
      "cell_type": "code",
      "metadata": {
        "id": "BEM3SDRh5SM9"
      },
      "source": [
        "test_y_pred[0] = test_y_pred[0] + 0.1"
      ],
      "execution_count": null,
      "outputs": []
    },
    {
      "cell_type": "code",
      "metadata": {
        "id": "CCMOmJKW6ffl",
        "colab": {
          "base_uri": "https://localhost:8080/",
          "height": 1000
        },
        "outputId": "f4ed2136-4d2a-4c64-f731-ffe94793114e"
      },
      "source": [
        "from sklearn.metrics import f1_score\n",
        "for i in bias:\n",
        "  print(i)\n",
        "  test_y_pred[:,3] = y_pred[:,3] + i\n",
        "  test_y_pred[:,4] = y_pred[:,4] - i\n",
        "  y_pred_bool = np.argmax(test_y_pred, axis=1) + 1\n",
        "  f1 = f1_score(y_test, y_pred_bool, average='micro')\n",
        "  print('F1 score: %f' % f1)\n",
        "  f1 = f1_score(y_test, y_pred_bool, average='macro')\n",
        "  print('F1 score: %f' % f1)\n",
        "  f1 = f1_score(y_test, y_pred_bool, average='weighted')\n",
        "  print('F1 score: %f' % f1)\n",
        "  print(\"---------------\")"
      ],
      "execution_count": null,
      "outputs": [
        {
          "output_type": "stream",
          "text": [
            "0.0\n",
            "F1 score: 0.575643\n",
            "F1 score: 0.572199\n",
            "F1 score: 0.572250\n",
            "---------------\n",
            "0.01\n",
            "F1 score: 0.575740\n",
            "F1 score: 0.572836\n",
            "F1 score: 0.572882\n",
            "---------------\n",
            "0.02\n",
            "F1 score: 0.575798\n",
            "F1 score: 0.573445\n",
            "F1 score: 0.573484\n",
            "---------------\n",
            "0.03\n",
            "F1 score: 0.575273\n",
            "F1 score: 0.573351\n",
            "F1 score: 0.573387\n",
            "---------------\n",
            "0.04\n",
            "F1 score: 0.574749\n",
            "F1 score: 0.573318\n",
            "F1 score: 0.573349\n",
            "---------------\n",
            "0.05\n",
            "F1 score: 0.574447\n",
            "F1 score: 0.573341\n",
            "F1 score: 0.573366\n",
            "---------------\n",
            "0.06\n",
            "F1 score: 0.574078\n",
            "F1 score: 0.573244\n",
            "F1 score: 0.573263\n",
            "---------------\n",
            "0.07\n",
            "F1 score: 0.573213\n",
            "F1 score: 0.572751\n",
            "F1 score: 0.572767\n",
            "---------------\n",
            "0.08\n",
            "F1 score: 0.572669\n",
            "F1 score: 0.572407\n",
            "F1 score: 0.572418\n",
            "---------------\n",
            "0.09\n",
            "F1 score: 0.571998\n",
            "F1 score: 0.571876\n",
            "F1 score: 0.571883\n",
            "---------------\n",
            "0.1\n",
            "F1 score: 0.570802\n",
            "F1 score: 0.570805\n",
            "F1 score: 0.570808\n",
            "---------------\n"
          ],
          "name": "stdout"
        }
      ]
    },
    {
      "cell_type": "code",
      "metadata": {
        "id": "IwCBBIgK9G5W"
      },
      "source": [
        "y_pred[:,3] = y_pred[:,3] + 0.02\n",
        "y_pred[:,4] = y_pred[:,4] - 0.02"
      ],
      "execution_count": null,
      "outputs": []
    },
    {
      "cell_type": "code",
      "metadata": {
        "id": "ItT5E1BhnOp_"
      },
      "source": [
        "y_pred_bool = np.argmax(y_pred, axis=1)"
      ],
      "execution_count": null,
      "outputs": []
    },
    {
      "cell_type": "code",
      "metadata": {
        "id": "A4wd1SoyoUQP"
      },
      "source": [
        "y_pred_bool = y_pred_bool + 1"
      ],
      "execution_count": null,
      "outputs": []
    },
    {
      "cell_type": "markdown",
      "metadata": {
        "id": "4kQ5t7lGYJA4"
      },
      "source": [
        "Multi-class Confusion Matrix"
      ]
    },
    {
      "cell_type": "code",
      "metadata": {
        "id": "0LOR2dhiZy1U"
      },
      "source": [
        "from sklearn.metrics import confusion_matrix\n",
        "import matplotlib.pyplot as plt"
      ],
      "execution_count": null,
      "outputs": []
    },
    {
      "cell_type": "code",
      "metadata": {
        "id": "wMeMXYcVYHKE"
      },
      "source": [
        "\n",
        "def plot_confusion_matrix(cm, classes,\n",
        "                          normalize=False,\n",
        "                          title='Confusion matrix',\n",
        "                          cmap=plt.cm.Blues):\n",
        "    \"\"\"\n",
        "    This function prints and plots the confusion matrix.\n",
        "    Normalization can be applied by setting `normalize=True`.\n",
        "    \"\"\"\n",
        "    import itertools\n",
        "    if normalize:\n",
        "        cm = cm.astype('float') / cm.sum(axis=1)[:, np.newaxis]\n",
        "        print(\"Normalized confusion matrix\")\n",
        "    else:\n",
        "        print('Confusion matrix, without normalization')\n",
        "\n",
        "    print(cm)\n",
        "\n",
        "    plt.imshow(cm, interpolation='nearest', cmap=cmap)\n",
        "    plt.title(title)\n",
        "    plt.colorbar()\n",
        "    tick_marks = np.arange(len(classes))\n",
        "    plt.xticks(tick_marks, classes, rotation=45)\n",
        "    plt.yticks(tick_marks, classes)\n",
        "\n",
        "    fmt = '.2f' if normalize else 'd'\n",
        "    thresh = cm.max() / 2.\n",
        "    for i, j in itertools.product(range(cm.shape[0]), range(cm.shape[1])):\n",
        "        plt.text(j, i, format(cm[i, j], fmt),\n",
        "                 horizontalalignment=\"center\",\n",
        "                 color=\"white\" if cm[i, j] > thresh else \"black\")\n",
        "\n",
        "    plt.ylabel('True label')\n",
        "    plt.xlabel('Predicted label')\n",
        "    plt.tight_layout()"
      ],
      "execution_count": null,
      "outputs": []
    },
    {
      "cell_type": "code",
      "metadata": {
        "id": "wSCwuMavYWaO",
        "colab": {
          "base_uri": "https://localhost:8080/",
          "height": 406
        },
        "outputId": "25fe7e62-92d1-42b3-b1be-620dfd2dfe18"
      },
      "source": [
        "cnf_matrix = confusion_matrix(y_test, y_pred_bool,labels=[1,2,3,4,5])\n",
        "np.set_printoptions(precision=2)\n",
        "\n",
        "# Plot non-normalized confusion matrix\n",
        "plt.figure()\n",
        "plot_confusion_matrix(cnf_matrix, classes=[1,2,3,4,5],\n",
        "                      title='Confusion matrix, without normalization')"
      ],
      "execution_count": null,
      "outputs": [
        {
          "output_type": "stream",
          "text": [
            "Confusion matrix, without normalization\n",
            "[[13435  5215  1218   272   440]\n",
            " [ 5266  9667  4575   673   381]\n",
            " [ 1374  4156  9970  4080  1068]\n",
            " [  336   473  3206 10870  5600]\n",
            " [  280   124   588  4319 15299]]\n"
          ],
          "name": "stdout"
        },
        {
          "output_type": "display_data",
          "data": {
            "image/png": "[encoded data removed]",
            "text/plain": [
              "<Figure size 432x288 with 2 Axes>"
            ]
          },
          "metadata": {
            "tags": [],
            "needs_background": "light"
          }
        }
      ]
    },
    {
      "cell_type": "code",
      "metadata": {
        "id": "p0iiRch3nQ0I",
        "colab": {
          "base_uri": "https://localhost:8080/",
          "height": 35
        },
        "outputId": "8388d750-547e-42de-f6f5-f8aa93d2de60"
      },
      "source": [
        "y_pred_bool[0:5]"
      ],
      "execution_count": null,
      "outputs": [
        {
          "output_type": "execute_result",
          "data": {
            "text/plain": [
              "array([5, 4, 4, 5, 1])"
            ]
          },
          "metadata": {
            "tags": []
          },
          "execution_count": 30
        }
      ]
    },
    {
      "cell_type": "code",
      "metadata": {
        "id": "zLavkYPyMnda"
      },
      "source": [
        "np.savetxt('/content/drive/My Drive/y_pred_bool.txt', y_pred_bool, fmt='%d')"
      ],
      "execution_count": null,
      "outputs": []
    },
    {
      "cell_type": "code",
      "metadata": {
        "id": "iHqPMXZYMnzF"
      },
      "source": [
        "y_pred_bool = np.loadtxt('/content/drive/My Drive/y_pred_bool.txt', dtype=int)"
      ],
      "execution_count": null,
      "outputs": []
    },
    {
      "cell_type": "code",
      "metadata": {
        "id": "Au2TF71_nBt4",
        "colab": {
          "base_uri": "https://localhost:8080/",
          "height": 72
        },
        "outputId": "0f22ca33-2f9f-4533-ef0d-87abcc8c28c0"
      },
      "source": [
        "from sklearn.metrics import f1_score\n",
        "f1 = f1_score(y_test, y_pred_bool, average='micro')\n",
        "print('F1 score: %f' % f1)\n",
        "f1 = f1_score(y_test, y_pred_bool, average='macro')\n",
        "print('F1 score: %f' % f1)\n",
        "f1 = f1_score(y_test, y_pred_bool, average='weighted')\n",
        "print('F1 score: %f' % f1)"
      ],
      "execution_count": null,
      "outputs": [
        {
          "output_type": "stream",
          "text": [
            "F1 score: 0.575798\n",
            "F1 score: 0.573445\n",
            "F1 score: 0.573484\n"
          ],
          "name": "stdout"
        }
      ]
    },
    {
      "cell_type": "code",
      "metadata": {
        "id": "KsLH7Cfwztuu",
        "colab": {
          "base_uri": "https://localhost:8080/",
          "height": 399
        },
        "outputId": "aced8e49-2433-4b11-a4c1-5495e8c6fe24"
      },
      "source": [
        "y_test[y_test != y_pred_bool].head(20)"
      ],
      "execution_count": null,
      "outputs": [
        {
          "output_type": "execute_result",
          "data": {
            "text/plain": [
              "51736     5\n",
              "680830    1\n",
              "121322    5\n",
              "429670    2\n",
              "151828    4\n",
              "133503    5\n",
              "433131    2\n",
              "376673    3\n",
              "318409    3\n",
              "537913    2\n",
              "418322    2\n",
              "88968     5\n",
              "576082    1\n",
              "578902    1\n",
              "391929    3\n",
              "548460    2\n",
              "471419    2\n",
              "618086    1\n",
              "529414    2\n",
              "326009    3\n",
              "Name: overall, dtype: int64"
            ]
          },
          "metadata": {
            "tags": []
          },
          "execution_count": 32
        }
      ]
    },
    {
      "cell_type": "code",
      "metadata": {
        "id": "a6Br4TC60AcR",
        "colab": {
          "base_uri": "https://localhost:8080/",
          "height": 35
        },
        "outputId": "d3ae2dcd-8f92-46bd-caa8-a5da6a0abd4a"
      },
      "source": [
        "(y_pred_bool[y_test != y_pred_bool])[0:20]"
      ],
      "execution_count": null,
      "outputs": [
        {
          "output_type": "execute_result",
          "data": {
            "text/plain": [
              "array([4, 5, 3, 3, 5, 4, 4, 4, 1, 1, 1, 2, 3, 2, 4, 1, 4, 2, 3, 4])"
            ]
          },
          "metadata": {
            "tags": []
          },
          "execution_count": 33
        }
      ]
    },
    {
      "cell_type": "code",
      "metadata": {
        "id": "iGWKqxrYf8C2",
        "colab": {
          "base_uri": "https://localhost:8080/",
          "height": 35
        },
        "outputId": "183c14d2-0625-4b9f-a9f4-13f652ba126f"
      },
      "source": [
        "print(\"test data len = \" + str(len(X_test)))"
      ],
      "execution_count": null,
      "outputs": [
        {
          "output_type": "stream",
          "text": [
            "test data len = 102885\n"
          ],
          "name": "stdout"
        }
      ]
    },
    {
      "cell_type": "code",
      "metadata": {
        "id": "2W1xvGtH9qdl"
      },
      "source": [
        "diff = abs(y_test - y_pred_bool)"
      ],
      "execution_count": null,
      "outputs": []
    },
    {
      "cell_type": "code",
      "metadata": {
        "id": "Uz1HThxF91DD",
        "colab": {
          "base_uri": "https://localhost:8080/",
          "height": 126
        },
        "outputId": "cfdfee88-500a-4791-ac36-428d0c52223a"
      },
      "source": [
        "diff.value_counts()"
      ],
      "execution_count": null,
      "outputs": [
        {
          "output_type": "execute_result",
          "data": {
            "text/plain": [
              "0    59241\n",
              "1    36417\n",
              "2     5394\n",
              "3     1113\n",
              "4      720\n",
              "Name: overall, dtype: int64"
            ]
          },
          "metadata": {
            "tags": []
          },
          "execution_count": 127
        }
      ]
    },
    {
      "cell_type": "code",
      "metadata": {
        "id": "F4bR1ImynNly",
        "colab": {
          "base_uri": "https://localhost:8080/",
          "height": 144
        },
        "outputId": "d6eeb950-d6f1-4b78-a61c-7d0969d7de97"
      },
      "source": [
        "print('diffrence between prediction and true test exs in %:')\n",
        "(diff.value_counts() / len(y_test)) * 100 "
      ],
      "execution_count": null,
      "outputs": [
        {
          "output_type": "stream",
          "text": [
            "diffrence between prediction and true test exs in %:\n"
          ],
          "name": "stdout"
        },
        {
          "output_type": "execute_result",
          "data": {
            "text/plain": [
              "0    57.579822\n",
              "1    35.395830\n",
              "2     5.242747\n",
              "3     1.081790\n",
              "4     0.699810\n",
              "Name: overall, dtype: float64"
            ]
          },
          "metadata": {
            "tags": []
          },
          "execution_count": 128
        }
      ]
    },
    {
      "cell_type": "code",
      "metadata": {
        "id": "NhMVzbTtABVz",
        "colab": {
          "base_uri": "https://localhost:8080/",
          "height": 126
        },
        "outputId": "56330fae-efec-4b1d-ee0e-add74c69a227"
      },
      "source": [
        "y_test[diff == 4].head()"
      ],
      "execution_count": null,
      "outputs": [
        {
          "output_type": "execute_result",
          "data": {
            "text/plain": [
              "88968     5\n",
              "570472    1\n",
              "668482    1\n",
              "79438     5\n",
              "11179     5\n",
              "Name: overall, dtype: int64"
            ]
          },
          "metadata": {
            "tags": []
          },
          "execution_count": 43
        }
      ]
    },
    {
      "cell_type": "code",
      "metadata": {
        "id": "2rnsweug0YlL",
        "colab": {
          "base_uri": "https://localhost:8080/",
          "height": 35
        },
        "outputId": "2aac03f1-f2ff-4fd3-8d52-148c64c6c996"
      },
      "source": [
        "df['reviewText'].loc[[591287]].values"
      ],
      "execution_count": null,
      "outputs": [
        {
          "output_type": "execute_result",
          "data": {
            "text/plain": [
              "array(['super bleh'], dtype=object)"
            ]
          },
          "metadata": {
            "tags": []
          },
          "execution_count": 47
        }
      ]
    },
    {
      "cell_type": "code",
      "metadata": {
        "id": "o_z6Xfdk_Nh8",
        "colab": {
          "base_uri": "https://localhost:8080/",
          "height": 72
        },
        "outputId": "998e551b-5545-4625-b25b-e9f6b63371ec"
      },
      "source": [
        "y_test[diff == 4].value_counts()"
      ],
      "execution_count": null,
      "outputs": [
        {
          "output_type": "execute_result",
          "data": {
            "text/plain": [
              "1    824\n",
              "5    747\n",
              "Name: overall, dtype: int64"
            ]
          },
          "metadata": {
            "tags": []
          },
          "execution_count": 45
        }
      ]
    },
    {
      "cell_type": "code",
      "metadata": {
        "id": "l2HjuuTJY2v2",
        "colab": {
          "base_uri": "https://localhost:8080/",
          "height": 35
        },
        "outputId": "0b336606-c383-4cf9-a516-8b3410b08882"
      },
      "source": [
        "x_test[1]"
      ],
      "execution_count": null,
      "outputs": [
        {
          "output_type": "execute_result",
          "data": {
            "text/plain": [
              "'i disappointed'"
            ]
          },
          "metadata": {
            "tags": []
          },
          "execution_count": 46
        }
      ]
    },
    {
      "cell_type": "code",
      "metadata": {
        "id": "m0ltwecCad-a",
        "colab": {
          "base_uri": "https://localhost:8080/",
          "height": 35
        },
        "outputId": "627fb1e6-87d8-41e9-cb66-9b9ad08cf8bf"
      },
      "source": [
        "word_to_index['deserves']"
      ],
      "execution_count": null,
      "outputs": [
        {
          "output_type": "execute_result",
          "data": {
            "text/plain": [
              "121797"
            ]
          },
          "metadata": {
            "tags": []
          },
          "execution_count": 51
        }
      ]
    },
    {
      "cell_type": "markdown",
      "metadata": {
        "id": "s5P05ddGhdFm"
      },
      "source": [
        "mean square error"
      ]
    },
    {
      "cell_type": "code",
      "metadata": {
        "id": "0zSK9fzdhkgj",
        "colab": {
          "base_uri": "https://localhost:8080/",
          "height": 72
        },
        "outputId": "dd2692e9-1e80-4730-81ac-1393e263b023"
      },
      "source": [
        "print(\"max error = 16, min error = 0\")\n",
        "print(\"model MSE: = \")\n",
        "print(((y_test - y_pred_bool) ** 2).mean())"
      ],
      "execution_count": null,
      "outputs": [
        {
          "output_type": "stream",
          "text": [
            "max error = 16, min error = 0\n",
            "model MSE: = \n",
            "0.7820479175778782\n"
          ],
          "name": "stdout"
        }
      ]
    },
    {
      "cell_type": "code",
      "metadata": {
        "id": "E11D-co7j3Tt",
        "colab": {
          "base_uri": "https://localhost:8080/",
          "height": 72
        },
        "outputId": "f4c84ee0-ee65-4bc8-cb50-5ed6f776b515"
      },
      "source": [
        "print(\"max error = 32, min error = 0\")\n",
        "print(\"model double MSE: = \")\n",
        "print((((y_test - y_pred_bool)*2) ** 2).mean())"
      ],
      "execution_count": null,
      "outputs": [
        {
          "output_type": "stream",
          "text": [
            "max error = 32, min error = 0\n",
            "model double MSE: = \n",
            "3.1281916703115127\n"
          ],
          "name": "stdout"
        }
      ]
    },
    {
      "cell_type": "code",
      "metadata": {
        "id": "mlIqTdQmjbhs",
        "colab": {
          "base_uri": "https://localhost:8080/",
          "height": 72
        },
        "outputId": "6a23033b-357d-47ef-ac65-5a268c21772d"
      },
      "source": [
        "print(\"max error = 4, min error = 0\")\n",
        "print(\"model MAE: = \")\n",
        "print((abs(y_test - y_pred_bool)).mean())"
      ],
      "execution_count": null,
      "outputs": [
        {
          "output_type": "stream",
          "text": [
            "max error = 4, min error = 0\n",
            "model MAE: = \n",
            "0.5217184234825291\n"
          ],
          "name": "stdout"
        }
      ]
    },
    {
      "cell_type": "code",
      "metadata": {
        "id": "uEBu_nQaaqUt"
      },
      "source": [
        "x_test = np.array([\"You were responsive to my urgent shipping needs,Thank you.\",\n",
        "                   \"This prouduct is too expensive and i don't like the price\",\n",
        "                   \"The Movie was extremly good but a lot of things was not completed\",\n",
        "                   \"I wanted to let you know that I am quite pleased with you fast delivery & your product , which works well. As advertised\",\n",
        "                   \"As per the subject - your customer service is awesome \",\n",
        "                   \"your website is awesome as are you prices - sold - you have a new customer! THANKS\",\n",
        "                   \"The Services Was not good enough after selling. Thank You\",\n",
        "                   \"This goes to the wonderful, very helpful, and very knowledgeable team of people\",\n",
        "                   \"Love this t-shirt it has a good price too THANKSSS\",\n",
        "                   \"Beatuiful movie i like it very much, GOOD TEAM\",\n",
        "                   \"The customar services is not effective please take care of the customers\",\n",
        "                   \"the materials isn't good enough so the products broke from the second time from the begining of use\",\n",
        "                   \"This actions involves racism so it's bad habbits\",\n",
        "                   \"i think it is good enough to complete it\",\n",
        "                   \"it is very good\"])\n",
        "y_test = np.array([4,2,3,5,5,4,2,4,5,4,1,1,1,4,4])"
      ],
      "execution_count": null,
      "outputs": []
    },
    {
      "cell_type": "code",
      "metadata": {
        "id": "LLgUhRFaqW6P"
      },
      "source": [
        "x_test = np.array([\n",
        "\"I really recommend this course guys, the instructor is really good!\",\n",
        "\"If I was gonna choose between this mobile or any brand this year, this one really stands out.\",\n",
        "\"This new trend of nonsense tiktok videos is crap and full of empty minded people with bullshit content.\",\n",
        "\"The new Playstation 5 is gonna be awesome! I'm really looking forward to buy It! \",\n",
        "\"This website is a scam guys the products aren't even as posted here in the gallery section, not recommended at all!\",\n",
        "\"This mall has the best clothes shops in the block! specially ZARA you gotta check their new line!\",\n",
        "\"Saying It's a free to play game but It's a pay to win doesn't make you an honest company! disrespectful act\",\n",
        "\"the customer service in this application is just great! I had to wait only 5 secs to contact someone\",\n",
        "\"This restaurant is serving a rotten food! If there's a 0 rating I'd give It to this crap\",\n",
        "\"A friend of mine recommended me this website, I guess he's not fooling me,great products and quality!\",\n",
        "\"This movie is so normal i don't have to watch it again\",\n",
        "\"The delivery system is just insanely fast! this is the best online experience I've ever had, straigh\",\n",
        "\"I ordered a margarita pizza but It came with vegetables and mushrooms, I said exactly 'margarita without any add ons', terrible experience.\",\n",
        "\"Pasta is meant to be a cure for the broken soul, this taste broke my soul even harder than my ex girlfriend did!\",\n",
        "\"Back in the day there was the atari 2001, If anyone has It please contact me, I trust this website and Its members as Its not my first question here\",\n",
        "\"establishing a new brand that can compete in the smartphone realm is hard, but taking others smartphones and putting your logo on It and sell It with lower price, that's Money laundering and illegal stuff going on here\",\n",
        "\"This assistant is really bad, I'll get back to my Google assignment as It's fast and I can relay on!\",\n",
        "\"after testing these cameras, they are all great really, But the canon one just feels right into my hand\",\n",
        "\"I prefer this gaming store than steam by far! At least every week there's a free game here\",\n",
        "\"this new skin of orianna doesn't match her mech-ish look at all, how a robot can go into a pool party\",\n",
        "\"balance these products please they 've poor quality.\",\n",
        "\"It's okay , this is not the worst this ever\",\n",
        "\"I can't think about this game as amusment nor a pain, it's a meh!\",\n",
        "])\n",
        "\n",
        "\n",
        "\n",
        "y_test = np.array([4,4,1,5,1,4,2,5,1,4,3,5,1,2,3,2,1,5,4,1,2,3,3])"
      ],
      "execution_count": null,
      "outputs": []
    },
    {
      "cell_type": "code",
      "metadata": {
        "id": "goHp9MiewFFI"
      },
      "source": [
        "x_test = np.array([\n",
        "\"First off, loved this product. I’m allergic to eggs so I decided to make my on waffles instead of buying them. So much cheaper. Can make a huge batch and freeze them. Each waffle cooked for 8 minutes and came out a beautiful golden brown.Well fast forward a month and a half. I put waffle batter in, wait 8 minutes and go to take it out, the top is raw! The return window is closed and I’m pissed. I want to order another but don’t know if I really want to take the chance that it’ll happen again.\",\n",
        "\"Definitely one of the best purchases I have made on amazon so far. Just as described, it is a mini waffle-maker. The “mini” part is no joke, the whole thing is small enough to lift in one hand. If you are feeding breakfast to a whole family of five or more then this may not be for you. However, because of its size, it works quicker than a normal sized one so even though you can only make one small waffle at a time, each waffle should be done in about a minute or two. The interior is also non-stick so it is really easy to clean which was a huge bonus for me. On top of that, it comes with a little instruction panphlet that tells you how to use and and also include recipes and recipe ideas! Personally, I love it, it’s what I wanted and more\",\n",
        "\"I got the blue screen for few times , so far ,,, the screen and the chassic was pretty good built, the keyboard is good too,,,,,,,it can not playback 8k videos on youtube ,,,, edge and Chrome will crashed when you started plays 8k video after 5 sec \",\n",
        "\"The new Ryzen 4000 series makes laptops much more capable at a lower price point. Basic gaming, and browsing done with such efficiency on this platform.Laptop comes with a stylus and a USB C charger to clear out any confusion from the Q&A section.Honestly, price to performance ratio including the flexibility of this laptop is a must buy for this price point!\",\n",
        "\"I have been using this laptop for the past 4 days. I had previously been using the Flex 5 14 model 81C9 (https://www.amazon.com/Lenovo-14-Inch-i5-8250U-Windows-81C90009US/dp/B0752V44VD/ref=cm_cr_arp_d_product_top?ie=UTF8) for the past 2 years, and had high hopes for this upgrade to model 81X2 (which only cost $25 more).\",\n",
        "\"Pros:1. easy to inflate. The pump works easily. The valves, especially the Boston ones, are easy.2. easy to transport. It doesn't weigh much, and folds into the trunk easily.Cons:1. it moves through the water more like a rubber raft than a kayak. Which is fine in completely flat water with no wind.2. The seat structure provides no support, back or bottom, therefore the paddling angle is severe, and uncomfortable3. I found the oar too short, and therefore requiring lots of work My maiden voyage was in choppy water with lots of wind. I felt tossed around like a wind-sock. I'll use it again, but next time in calm conditions. Can't beat the price. PS. I also drilled a hole in the bottom fin, and attached it via fishing line to the upside of the craft, just to make sure I wouldn't lose it. It didn't come lose, so no problem\",\n",
        "\"Great boat for the price!So far we've only taken it out once, but both on a fresh-water river and in the Pacific Ocean.The boat is much sturdier than expected and very comfortable.Issues: one of the straps that hold the seat to the sides has ripped the very first time we launched the boat on the water. This is mainly due to the fact that there is nothing to hold onto the sides and even though the attachment seemed very sturdy it ripped completely off. I'll probably try to sew it back in as its a surface rip. But still - be careful.Two: the material that this boat is made of STINKS like an exploded skunk! I tried to give it some time to aerate and left it unpacked but still when it is packed in the car it gave me a headache due to the intensity of the plastic smell.Three: as other reviewers mentioned - the pedals are too short and the water is dripping in. This is a much smaller issue than the above two so I'm ok with that\",\n",
        "\"Seemed like a good buy for the price but it has a design flaw. The Drain Plug in the bottom has a very weak seam around it. I went to plug it as we put the kayak in the water and it pushed right through with very little force applied. This rendered the kayak useless. Dead in the water before we 'got' in the water. The patch kit does not include the glue so if you plan to patch it outdoors you must purchase the glue. Other than this, the seats seemed cheaply made and would easily have popped at the slightest pressure. The rest of the kayak was sturdy and well built. The kayak seems more suited to lakes than rivers. I returned with no hassle, thank you Amazon! I gave an extra star for the price you cant get a cheaper kayak\",\n",
        "\"Watch broke in less then a year due to a leak in the watch. sent to company to fix under warranty and they told me that it would cost 130 for a replacement. THEY DON'T BACK UP THERE PIECE OF JUNK. you would get more out of your money by lighting it on fire because at least the fire would keep you warm for a second\",\n",
        "\"I thought suunto was a very good brand of watches but I was wrong, I bought it on May 24 this year and look how bad the quality of this watch is very disappointing I think Casio makes better watches than suunto there is no doubt\",\n",
        "\"Purchased this as a gift for our guide to Everest Base Camp. We personally use the Casio Pro Trek models but he wanted this one. It was a little difficult to set up. No solar recharge option like Casio. The guides and serious trekkers prefer this but my personal opinion is it is a form and status choice and not a function choice. It is a fine multi-sensor watch that performed well, but it did nothing more or better than Casio Pro Trek at a higher price point\",\n",
        "\"First time I looked I saw this watch years ago I wanted it, never pulled trigger because I wasn't a watch guy. Over the last year that has changed and I finally pulled the trigger. Lightweight, Plenty of Features, but the biggest issue was not the watch it was me. A few people have stated the watch is tougher to read, that is 100% firm but the caveat to that is you, mid 40's guy who's just starting the reader glass function yeah it's tough to read, and the light didn't really help me. If a bit younger and better eye site I would say go for it. The negative face is the real issue for me at this price point I truly wish Suunto made another face at this price point\",\n",
        "\"Really happy with this watch. Really high quality and works as advertised. Battery still going strong after a year. Lots of functions and the look of the watch is awesome. No issues seeing the display\"\n",
        "])\n",
        "\n",
        "\n",
        "\n",
        "y_test = np.array([1,5,1,5,2,3,3,2,1,1,3,4,5])"
      ],
      "execution_count": null,
      "outputs": []
    },
    {
      "cell_type": "code",
      "metadata": {
        "id": "_XEApiYI9GEu"
      },
      "source": [
        "x_test = np.array([\n",
        "\t\"the most bad thing i have ever bought\",\n",
        "\t\"this product is good\",\n",
        "\t\"good quality, good material and good service\",\n",
        "\t\"it's okay, will do the thing\",\n",
        "\t\"it' so bad\",\n",
        "\t\"every thing is good but really bad service\",\n",
        "\t\"helpful and useful\",\n",
        "\t\"very expensive it doesn't worth it\",\n",
        "\t\"that's an amazing tool\",\n",
        "\t\"I don't like the color of this shoe\", \n",
        "\t\"I like the customer service of this company\",\n",
        "\t\"I really recommend this, it's very good\",\n",
        "\t\"damn you really don't know how to deal with your customers\",\n",
        "\t\"this product is useful you should get it if you're a beginner\",\n",
        "\t\"this tool works well\",\n",
        "])\n",
        "y_test = np.array([1,3,5,2,1,3,4,2,5,3,4,5,1,3,3])"
      ],
      "execution_count": null,
      "outputs": []
    },
    {
      "cell_type": "code",
      "metadata": {
        "id": "UhG61iqc-iaQ"
      },
      "source": [
        "x_test = np.array([\n",
        "      \"I ordered this because the info indicated that this is an Apple Certified product. After 2 weeks of intermittent use (on a table in my living room) I got the dreaded “this accessory may not be supported” pop up. No worries... ish happens and I requested a replacement. Received that today and I am getting the same pop up with the new cable. No other cable (both Apple and certified products) are doing this. Add to this the fact that now I can only get an Amazon gift card as a refund.\",\n",
        "      \"I needed a new lighting cord, especially a longer one (6 feet) so I bought this one in thoughts that the Nylon will make it last longer since that's the idea with nylon braided cables. At first sight and opening the package, it was seemed like it was good quality and it seemed like it was going to be promising but it actually doesn't work. I've plugged it into my charging block which came with my iPad and left it for an hour and when it was time to get up and go, I realized it only charged a couple percentages. Not too long after, it wouldn't even charge, nor would my phone even recognize that it was plugged in. I've used the regular iPhone charging block and nothing happened. I had to go back to using my old frayed cable for the mean time. I guess I just received a defective one?\",\n",
        "      \"I had high hopes for this lightning cable as the majority of the reviews were positive and mentioned that it didn't end up fraying after a short amount of time until it just stopped working or became unsafe to use. I use it with no problems for about 3 weeks, and then it started getting kind of temperamental about how the cable had to be positioned which made for some interesting solutions for charging my phone. Still, there was no obvious damage or fraying and the cord looked to be fine, so I continued to use it even if it was slightly annoying to sometimes have to spend some time finding the right position for the cable in order to charge my phone.\",\n",
        "      \"I bought this product on 31st August 2017, meaning it's almost been a year and I got the 6 feet Dark Grey model.Let me firstly say that I'm giving this product a 3 star rating just because we don't get the option to rate a product 2.5 stars on Amazon. And also because this product could stay alive for almost an year, which is a lot these days.7 Though the delivery of the product from Amazon was blazing, I would like to specifically mention that this is an Amazon Basics product.\",\n",
        "      \"All my non-Apple cables started to display the message on iPhones and iPads that they were unsupported and would no longer charge the device. Apple want £20 for the cable and another £20 for the block. Luckily for all the broken cables and non-runners we have plenty spare. I bought 3 of these together and they work perfectly. Amazons own brand, but I'm impressed. They have thought about the design, so a strengthened neck for inserting into the port (3 standard apple charges of mine have broke in this way), fabric cable for strength and the extra length @ 1.8m for £1 extra was well worth it over the usual 0.9m. Best non-apple cable I've ever bought and have also bought another 2.\",\n",
        "      \"I have been using the AmazonBasic Nylon Braided Lightning to USB Cable for almost 2 years. (it's 1 year and 11 months since I bought the cable, to be exact), and I am pretty happy with the cable.I have been using the cable to recharge my iPhone with a battery pack, so as you can imagine I have not been easy on it. I have been rolling up the cable quite a lot, winding it around the battery pack, or stuffing it in my jeans' pocket.\",\n",
        "      \"These are good alkaline AAA batteries that alas, arrive rather over extravagantly boxed!Whilst there are cheaper AAA alkaline batteries available on Amazon, these seem as good as any of the high street brands, with a good shelf and working life.\",\n",
        "      \"ive got no complaints the batteries so far are ok,hope they continue to do so/ thank you.\",\n",
        "      \"Perfect\",\n",
        "      \"I purchased this bad boy for my wife’s home office. Let me start off by saying this thing shreds harder than Andy Brinker from the 1998 classic film Brink. For those of you who don’t know, this 99 min film introduced some of the most unique roller blade shredding ever witnessed. Purchase this and you can be shredding like Andy in no time!\",\n",
        "      \"I am not someone who uses a paper shredder every day, but when I do, I really use it hard. This shredder was a surprisingly good value and quieter than I expected. That said, my last one overheated and needed to be replaced. This shredder has a 3 minute constant run time and a nice overheat indicator light that should help prevent me from making the same mistake.\",\n",
        "      \"This works great! I don't typically test it with the full 8-sheet capacity, but I regularly put mail through that hasn't been opened yet, such as credit card offers, and it handles them just fine. I finally got rid of the huge stack of mail that had been building up on my counter because I didn't want to throw it away but I had lent my old shredder to a friend and never got it back. So, after some research I finally bit the bullet and bought a new one. I do like the cross-cut as my old one just did the strips. I feel this one is more secure, but it's not like I'm shredding secret government documents or million-dollar bank statements. Still, it would take some serious effort to try to put these bits back together.\",\n",
        "      ])\n",
        "y_test = np.array([1,1,2,3,5,5,4,4,5,4,5,5])"
      ],
      "execution_count": null,
      "outputs": []
    },
    {
      "cell_type": "code",
      "metadata": {
        "id": "e1Yoss9nKyVx"
      },
      "source": [
        "x_test = np.array([\n",
        "            \"It’s a bummer how expensive it is, but I really enjoy this phone and i don’t regret buying it’s only four stars instead of five because of the price. Realistically if you don’t care about camera quality, any other smartphone will work fine.\",\n",
        "            \" The phone is very great, the cameras work really good \",\n",
        "            \" It is really cool I love it\",\n",
        "            \"Amazon didn't add any additional protection to the shipping of this physical hard drive. Came in a bubble wrap bag and manufacturer packaging Western Digital Packaging was nice.Rubber feet arent 100% sticky, will slide if pulled by the cord Not Impressed too much. $160 after taxes.Seagate MyBackup Plus 5TB is under $130.\",\n",
        "            \" I've purchased five of the 5TB versions so far. I've received one bad cable, but I had a couple of extra cables so it didn't matter. The drives themselves have been great. I've written at least 2TB of data to each of them without problems. I bought them because until now the biggest external USB drive you could get that didn't require an external power supply was 2TB. Now it's up to 5TB and I'm replacing the old ones. I've had good luck over the years with WD. \",\n",
        "            \" I bought this for my Xbox one X and today's games demand hard drive space. with games upwards of 80 - 120 gigs per game average this is a must for me. I have mine loaded with 100 games now and the seek time is still great probably about 3.5 terabytes are used at the moment and going strong! I'm thinking of pairing this with a western digital 2 terabyte ssd or even a 4 terabyte ssd for the extra fast boot time of the system and games. I have done this with my PS4 pro and this does make a huge difference in loading time. \",\n",
        "            \"This is a superb solution to game storage.You can store a vast number of games on here, and play them from the drive. The Games you play while stored on this USB drive play as well as they do as If they were stored locally on the Xbox (built in) drive.\",\n",
        "            \"if you look, they are gorgeous, stylish.Today for the first time once they are dressed, it's just horror! Foot feet hurt because there are flat insole, feet stop numb. I'm disappointed with the purchase.\",\n",
        "            \" I like the shoes but they run big. I typically wear a 9 1/2 or 10, got these in an 8 1/2 and they fit like 11's, there is A LOT of room. Otherwise they look great and they're Tommy so I would love them. Not as comfortable as expected: no real cushion, I couldn't imagine walking around or standing in them an entire day. I honestly hate to say it but I wouldn't suggest these. \",\n",
        "            \"I received it and left it for a while, then I used it only for one week and it got torn!! Very bad quality not expected from a valuable expensive brand like tommy hilfiger.Tried to return it to a tommy store, they said we need a receipt which definitely I don’t have!I should have a full refund for such a product.\",\n",
        "            \"My 16 year olds every day shoe. He only wore vans until he found these. They don't have the stiff new shoe feel and break in easily. They won't last the year as an everyday shoe of a teenage boy but they are good as an alternative shoe, or one that you wear a couple of times a week versus everyday wear\",\n",
        "            \" little narrow for my taste my foot length is actually 9.5 to a 10. but really wide so i have to go with larger size to accommodate width that being said this pair an size was still on the narrow side and the soles were not to comfortable but i am gonna wear them occasionally \",\n",
        "            \" Like the shoes, comfortable and I like the look. Thing is it's bigger than I thought, usually wear 12s in other brands and ordered 11.5 and they're a little too big. Probably will get 11 or 10.5 for a better fit. But other than that, the shoes are great. UPDATE 7/16/2016: The quality of the shoes are up there, I've had similar shoes in other brands that would be worn out by now and have the soles torn. I would only advise to do your best to avoid wearing them on rainy days. \",\n",
        "            \" Very disappointed. Ordered a size 9 1/2 and got a pair of shoes that measure size 11. I spent 10 years in the footwear business and this usually means these were manufactured in some third world country under horrible conditions with a huge lack of quality control. Quality shoes are always sized within a 1/2 size and anything this far off would never be released to the market by a reputable company. I'll be returning them and will continue to search for a quality brand. \",\n",
        "            \" Love the quality and price, super cute and trendy! The only reason I gave it 4 stars and not 5 is because it runs really small, and its a little too cropped but its so cute Ill keep it! Feels good on too. I am 5'8 150 lbs I ordered the XL and normally I am a Med to Large so its running a couple sizes small. The color is really a brick red my camera makes it look a little different. Good Buy, I recommend \",\n",
        "            \" Part of the sleeve is literally missing...it looks really stupid because one sleeve is longer than the other. Like really? I was supposed to wear this shirt on New Year’s Eve. What a piece of junk! \",\n",
        "            \" Love the silky but sturdy fabric and the style of the shirt. It does not irritate my skin. I wore it all and felt comfortable. I have washed it several times and it did not lose color. The only problem was to iron the sleeves which requires some time and patience. I wear it with a skirt but you can wear shorts or high waisted pants. \",\n",
        "            \" Cute tee. Ordered size medium which is my usual size. I'm 5'7' and the arm length is good which sometimes can run too short. The overall length is pretty short. It barely reaches the top of my jeans and if I move my arms at all You can see my stomach. I have a C size chest and small waist. Hope that helps. \",\n",
        "            \" Everything is as described - sturdy and safe to use. A bit on the heavy side, but I don't mind because the weight helps me with the muscle exercise. It won't break like the dangerous spring devices. A bit expensive at nearly $70, but you get what you pay for. This thing is very solid and of high quality. I just wished the clamp (which ties the two ends when not in use) were hinged/attached to the device, instead of being a separate piece that you have to take out / put back in \",\n",
        "            \" Great quality, nice design. Don’t come with a guide for different ways to exercise and this could lead to muscle injuries. \",\n",
        "            \"It is far too hard to turn the resistance knob!I would like one of these if the adjuster could be improved so that it is easy to turn, and also instead of the little plastic clip that holds it closed, but easily pops out, a better way should be found to hold it in the closed position, tho if the main adjuster problem was solved I think I could hold it closed with a strong rubber band.\",\n",
        "            \" Compact! Great to exercise upper body with a unit that you can take with you anywhere. The hydraulic cylinder is excellent since it returns softly to position. Let's see how it holds over time but so far so good! \",\n",
        "            \" It would be much better if there was a positive and negative resistance, not just positive. \",\n",
        "            \n",
        "      ])\n",
        "y_test = np.array([4,5,5,4,5,5,5,2,3,1,5,3,4,1,4,1,5,4,5,4,1,5,3,])"
      ],
      "execution_count": null,
      "outputs": []
    },
    {
      "cell_type": "code",
      "metadata": {
        "id": "P3_5zwVmF0-j"
      },
      "source": [
        "x_test = np.array([\n",
        "        \"You were responsive to my urgent shipping needs,Thank you.\",\n",
        "        \"This prouduct is too expensive and i don't like the price\",\n",
        "        \"The Movie was extremly good but a lot of things was not completed\",\n",
        "        \"I wanted to let you know that I am quite pleased with you fast delivery & your product , which works well. As advertised\",\n",
        "        \"As per the subject - your customer service is awesome \",\n",
        "        \"your website is awesome as are you prices - sold - you have a new customer! THANKS\",\n",
        "        \"The Services Was not good enough after selling. Thank You\",\n",
        "        \"This goes to the wonderful, very helpful, and very knowledgeable team of people\",\n",
        "        \"Love this t-shirt it has a good price too THANKSSS\",\n",
        "        \"Beatuiful movie i like it very much, GOOD TEAM\",\n",
        "        \"The customar services is not effective please take care of the customers\",\n",
        "        \"the materials isn't good enough so the products broke from the second time from the begining of use\",\n",
        "        \"This actions involves racism so it's bad habbits\",\n",
        "        \"i think it is good enough to complete it\",\n",
        "        \"it is very good\",\n",
        "        \"I really recommend this course guys, the instructor is really good!\",\n",
        "        \"If I was gonna choose between this mobile or any brand this year, this one really stands out.\",\n",
        "        \"This new trend of nonsense tiktok videos is crap and full of empty minded people with bullshit content.\",\n",
        "        \"The new Playstation 5 is gonna be awesome! I'm really looking forward to buy It! \",\n",
        "        \"This website is a scam guys the products aren't even as posted here in the gallery section, not recommended at all!\",\n",
        "        \"This mall has the best clothes shops in the block! specially ZARA you gotta check their new line!\",\n",
        "        \"Saying It's a free to play game but It's a pay to win doesn't make you an honest company! disrespectful act\",\n",
        "        \"the customer service in this application is just great! I had to wait only 5 secs to contact someone\",\n",
        "        \"This restaurant is serving a rotten food! If there's a 0 rating I'd give It to this crap\",\n",
        "        \"A friend of mine recommended me this website, I guess he's not fooling me,great products and quality!\",\n",
        "        \"This movie is so normal i don't have to watch it again\",\n",
        "        \"The delivery system is just insanely fast! this is the best online experience I've ever had, straigh\",\n",
        "        \"I ordered a margarita pizza but It came with vegetables and mushrooms, I said exactly 'margarita without any add ons', terrible experience.\",\n",
        "        \"Pasta is meant to be a cure for the broken soul, this taste broke my soul even harder than my ex girlfriend did!\",\n",
        "        \"Back in the day there was the atari 2001, If anyone has It please contact me, I trust this website and Its members as Its not my first question here\",\n",
        "        \"establishing a new brand that can compete in the smartphone realm is hard, but taking others smartphones and putting your logo on It and sell It with lower price, that's Money laundering and illegal stuff going on here\",\n",
        "        \"This assistant is really bad, I'll get back to my Google assignment as It's fast and I can relay on!\",\n",
        "        \"after testing these cameras, they are all great really, But the canon one just feels right into my hand\",\n",
        "        \"I prefer this gaming store than steam by far! At least every week there's a free game here\",\n",
        "        \"this new skin of orianna doesn't match her mech-ish look at all, how a robot can go into a pool party\",\n",
        "        \"balance these products please they 've poor quality.\",\n",
        "        \"It's okay , this is not the worst this ever\",\n",
        "        \"I can't think about this game as amusment nor a pain, it's a meh!\",\n",
        "        \"First off, loved this product. I’m allergic to eggs so I decided to make my on waffles instead of buying them. So much cheaper. Can make a huge batch and freeze them. Each waffle cooked for 8 minutes and came out a beautiful golden brown.Well fast forward a month and a half. I put waffle batter in, wait 8 minutes and go to take it out, the top is raw! The return window is closed and I’m pissed. I want to order another but don’t know if I really want to take the chance that it’ll happen again.\",\n",
        "        \"Definitely one of the best purchases I have made on amazon so far. Just as described, it is a mini waffle-maker. The “mini” part is no joke, the whole thing is small enough to lift in one hand. If you are feeding breakfast to a whole family of five or more then this may not be for you. However, because of its size, it works quicker than a normal sized one so even though you can only make one small waffle at a time, each waffle should be done in about a minute or two. The interior is also non-stick so it is really easy to clean which was a huge bonus for me. On top of that, it comes with a little instruction panphlet that tells you how to use and and also include recipes and recipe ideas! Personally, I love it, it’s what I wanted and more\",\n",
        "        \"I got the blue screen for few times , so far ,,, the screen and the chassic was pretty good built, the keyboard is good too,,,,,,,it can not playback 8k videos on youtube ,,,, edge and Chrome will crashed when you started plays 8k video after 5 sec \",\n",
        "        \"The new Ryzen 4000 series makes laptops much more capable at a lower price point. Basic gaming, and browsing done with such efficiency on this platform.Laptop comes with a stylus and a USB C charger to clear out any confusion from the Q&A section.Honestly, price to performance ratio including the flexibility of this laptop is a must buy for this price point!\",\n",
        "        \"I have been using this laptop for the past 4 days. I had previously been using the Flex 5 14 model 81C9 (https://www.amazon.com/Lenovo-14-Inch-i5-8250U-Windows-81C90009US/dp/B0752V44VD/ref=cm_cr_arp_d_product_top?ie=UTF8) for the past 2 years, and had high hopes for this upgrade to model 81X2 (which only cost $25 more).\",\n",
        "        \"Pros:1. easy to inflate. The pump works easily. The valves, especially the Boston ones, are easy.2. easy to transport. It doesn't weigh much, and folds into the trunk easily.Cons:1. it moves through the water more like a rubber raft than a kayak. Which is fine in completely flat water with no wind.2. The seat structure provides no support, back or bottom, therefore the paddling angle is severe, and uncomfortable3. I found the oar too short, and therefore requiring lots of work My maiden voyage was in choppy water with lots of wind. I felt tossed around like a wind-sock. I'll use it again, but next time in calm conditions. Can't beat the price. PS. I also drilled a hole in the bottom fin, and attached it via fishing line to the upside of the craft, just to make sure I wouldn't lose it. It didn't come lose, so no problem\",\n",
        "        \"Great boat for the price!So far we've only taken it out once, but both on a fresh-water river and in the Pacific Ocean.The boat is much sturdier than expected and very comfortable.Issues: one of the straps that hold the seat to the sides has ripped the very first time we launched the boat on the water. This is mainly due to the fact that there is nothing to hold onto the sides and even though the attachment seemed very sturdy it ripped completely off. I'll probably try to sew it back in as its a surface rip. But still - be careful.Two: the material that this boat is made of STINKS like an exploded skunk! I tried to give it some time to aerate and left it unpacked but still when it is packed in the car it gave me a headache due to the intensity of the plastic smell.Three: as other reviewers mentioned - the pedals are too short and the water is dripping in. This is a much smaller issue than the above two so I'm ok with that\",\n",
        "        \"Seemed like a good buy for the price but it has a design flaw. The Drain Plug in the bottom has a very weak seam around it. I went to plug it as we put the kayak in the water and it pushed right through with very little force applied. This rendered the kayak useless. Dead in the water before we 'got' in the water. The patch kit does not include the glue so if you plan to patch it outdoors you must purchase the glue. Other than this, the seats seemed cheaply made and would easily have popped at the slightest pressure. The rest of the kayak was sturdy and well built. The kayak seems more suited to lakes than rivers. I returned with no hassle, thank you Amazon! I gave an extra star for the price you cant get a cheaper kayak\",\n",
        "        \"Watch broke in less then a year due to a leak in the watch. sent to company to fix under warranty and they told me that it would cost 130 for a replacement. THEY DON'T BACK UP THERE PIECE OF JUNK. you would get more out of your money by lighting it on fire because at least the fire would keep you warm for a second\",\n",
        "        \"I thought suunto was a very good brand of watches but I was wrong, I bought it on May 24 this year and look how bad the quality of this watch is very disappointing I think Casio makes better watches than suunto there is no doubt\",\n",
        "        \"Purchased this as a gift for our guide to Everest Base Camp. We personally use the Casio Pro Trek models but he wanted this one. It was a little difficult to set up. No solar recharge option like Casio. The guides and serious trekkers prefer this but my personal opinion is it is a form and status choice and not a function choice. It is a fine multi-sensor watch that performed well, but it did nothing more or better than Casio Pro Trek at a higher price point\",\n",
        "        \"First time I looked I saw this watch years ago I wanted it, never pulled trigger because I wasn't a watch guy. Over the last year that has changed and I finally pulled the trigger. Lightweight, Plenty of Features, but the biggest issue was not the watch it was me. A few people have stated the watch is tougher to read, that is 100% firm but the caveat to that is you, mid 40's guy who's just starting the reader glass function yeah it's tough to read, and the light didn't really help me. If a bit younger and better eye site I would say go for it. The negative face is the real issue for me at this price point I truly wish Suunto made another face at this price point\",\n",
        "        \"Really happy with this watch. Really high quality and works as advertised. Battery still going strong after a year. Lots of functions and the look of the watch is awesome. No issues seeing the display\",\n",
        "        \"the most bad thing i have ever bought\",\n",
        "        \"this product is good\",\n",
        "        \"good quality, good material and good service\",\n",
        "        \"it's okay, will do the thing\",\n",
        "        \"it' so bad\",\n",
        "        \"every thing is good but really bad service\",\n",
        "        \"helpful and useful\",\n",
        "        \"very expensive it doesn't worth it\",\n",
        "        \"that's an amazing tool\",\n",
        "        \"I don't like the color of this shoe\", \n",
        "        \"I like the customer service of this company\",\n",
        "        \"I really recommend this, it's very good\",\n",
        "        \"damn you really don't know how to deal with your customers\",\n",
        "        \"this product is useful you should get it if you're a beginner\",\n",
        "        \"this tool works well\",\n",
        "        \"I ordered this because the info indicated that this is an Apple Certified product. After 2 weeks of intermittent use (on a table in my living room) I got the dreaded “this accessory may not be supported” pop up. No worries... ish happens and I requested a replacement. Received that today and I am getting the same pop up with the new cable. No other cable (both Apple and certified products) are doing this. Add to this the fact that now I can only get an Amazon gift card as a refund.\",\n",
        "        \"I needed a new lighting cord, especially a longer one (6 feet) so I bought this one in thoughts that the Nylon will make it last longer since that's the idea with nylon braided cables. At first sight and opening the package, it was seemed like it was good quality and it seemed like it was going to be promising but it actually doesn't work. I've plugged it into my charging block which came with my iPad and left it for an hour and when it was time to get up and go, I realized it only charged a couple percentages. Not too long after, it wouldn't even charge, nor would my phone even recognize that it was plugged in. I've used the regular iPhone charging block and nothing happened. I had to go back to using my old frayed cable for the mean time. I guess I just received a defective one?\",\n",
        "        \"I had high hopes for this lightning cable as the majority of the reviews were positive and mentioned that it didn't end up fraying after a short amount of time until it just stopped working or became unsafe to use. I use it with no problems for about 3 weeks, and then it started getting kind of temperamental about how the cable had to be positioned which made for some interesting solutions for charging my phone. Still, there was no obvious damage or fraying and the cord looked to be fine, so I continued to use it even if it was slightly annoying to sometimes have to spend some time finding the right position for the cable in order to charge my phone.\",\n",
        "        \"I bought this product on 31st August 2017, meaning it's almost been a year and I got the 6 feet Dark Grey model.Let me firstly say that I'm giving this product a 3 star rating just because we don't get the option to rate a product 2.5 stars on Amazon. And also because this product could stay alive for almost an year, which is a lot these days.7 Though the delivery of the product from Amazon was blazing, I would like to specifically mention that this is an Amazon Basics product.\",\n",
        "        \"All my non-Apple cables started to display the message on iPhones and iPads that they were unsupported and would no longer charge the device. Apple want £20 for the cable and another £20 for the block. Luckily for all the broken cables and non-runners we have plenty spare. I bought 3 of these together and they work perfectly. Amazons own brand, but I'm impressed. They have thought about the design, so a strengthened neck for inserting into the port (3 standard apple charges of mine have broke in this way), fabric cable for strength and the extra length @ 1.8m for £1 extra was well worth it over the usual 0.9m. Best non-apple cable I've ever bought and have also bought another 2.\",\n",
        "        \"I have been using the AmazonBasic Nylon Braided Lightning to USB Cable for almost 2 years. (it's 1 year and 11 months since I bought the cable, to be exact), and I am pretty happy with the cable.I have been using the cable to recharge my iPhone with a battery pack, so as you can imagine I have not been easy on it. I have been rolling up the cable quite a lot, winding it around the battery pack, or stuffing it in my jeans' pocket.\",\n",
        "        \"These are good alkaline AAA batteries that alas, arrive rather over extravagantly boxed!Whilst there are cheaper AAA alkaline batteries available on Amazon, these seem as good as any of the high street brands, with a good shelf and working life.\",\n",
        "        \"ive got no complaints the batteries so far are ok,hope they continue to do so/ thank you.\",\n",
        "        \"Perfect\",\n",
        "        \"I purchased this bad boy for my wife’s home office. Let me start off by saying this thing shreds harder than Andy Brinker from the 1998 classic film Brink. For those of you who don’t know, this 99 min film introduced some of the most unique roller blade shredding ever witnessed. Purchase this and you can be shredding like Andy in no time!\",\n",
        "        \"I am not someone who uses a paper shredder every day, but when I do, I really use it hard. This shredder was a surprisingly good value and quieter than I expected. That said, my last one overheated and needed to be replaced. This shredder has a 3 minute constant run time and a nice overheat indicator light that should help prevent me from making the same mistake.\",\n",
        "        \"This works great! I don't typically test it with the full 8-sheet capacity, but I regularly put mail through that hasn't been opened yet, such as credit card offers, and it handles them just fine. I finally got rid of the huge stack of mail that had been building up on my counter because I didn't want to throw it away but I had lent my old shredder to a friend and never got it back. So, after some research I finally bit the bullet and bought a new one. I do like the cross-cut as my old one just did the strips. I feel this one is more secure, but it's not like I'm shredding secret government documents or million-dollar bank statements. Still, it would take some serious effort to try to put these bits back together.\",\n",
        "        \"It’s a bummer how expensive it is, but I really enjoy this phone and i don’t regret buying it’s only four stars instead of five because of the price. Realistically if you don’t care about camera quality, any other smartphone will work fine.\",\n",
        "        \" The phone is very great, the cameras work really good \",\n",
        "        \" It is really cool I love it\",\n",
        "        \"Amazon didn't add any additional protection to the shipping of this physical hard drive. Came in a bubble wrap bag and manufacturer packaging Western Digital Packaging was nice.Rubber feet arent 100% sticky, will slide if pulled by the cord Not Impressed too much. $160 after taxes.Seagate MyBackup Plus 5TB is under $130.\",\n",
        "        \" I've purchased five of the 5TB versions so far. I've received one bad cable, but I had a couple of extra cables so it didn't matter. The drives themselves have been great. I've written at least 2TB of data to each of them without problems. I bought them because until now the biggest external USB drive you could get that didn't require an external power supply was 2TB. Now it's up to 5TB and I'm replacing the old ones. I've had good luck over the years with WD. \",\n",
        "        \" I bought this for my Xbox one X and today's games demand hard drive space. with games upwards of 80 - 120 gigs per game average this is a must for me. I have mine loaded with 100 games now and the seek time is still great probably about 3.5 terabytes are used at the moment and going strong! I'm thinking of pairing this with a western digital 2 terabyte ssd or even a 4 terabyte ssd for the extra fast boot time of the system and games. I have done this with my PS4 pro and this does make a huge difference in loading time. \",\n",
        "        \"This is a superb solution to game storage.You can store a vast number of games on here, and play them from the drive. The Games you play while stored on this USB drive play as well as they do as If they were stored locally on the Xbox (built in) drive.\",\n",
        "        \"if you look, they are gorgeous, stylish.Today for the first time once they are dressed, it's just horror! Foot feet hurt because there are flat insole, feet stop numb. I'm disappointed with the purchase.\",\n",
        "        \" I like the shoes but they run big. I typically wear a 9 1/2 or 10, got these in an 8 1/2 and they fit like 11's, there is A LOT of room. Otherwise they look great and they're Tommy so I would love them. Not as comfortable as expected: no real cushion, I couldn't imagine walking around or standing in them an entire day. I honestly hate to say it but I wouldn't suggest these. \",\n",
        "        \"I received it and left it for a while, then I used it only for one week and it got torn!! Very bad quality not expected from a valuable expensive brand like tommy hilfiger.Tried to return it to a tommy store, they said we need a receipt which definitely I don’t have!I should have a full refund for such a product.\",\n",
        "        \"My 16 year olds every day shoe. He only wore vans until he found these. They don't have the stiff new shoe feel and break in easily. They won't last the year as an everyday shoe of a teenage boy but they are good as an alternative shoe, or one that you wear a couple of times a week versus everyday wear\",\n",
        "        \" little narrow for my taste my foot length is actually 9.5 to a 10. but really wide so i have to go with larger size to accommodate width that being said this pair an size was still on the narrow side and the soles were not to comfortable but i am gonna wear them occasionally \",\n",
        "        \" Like the shoes, comfortable and I like the look. Thing is it's bigger than I thought, usually wear 12s in other brands and ordered 11.5 and they're a little too big. Probably will get 11 or 10.5 for a better fit. But other than that, the shoes are great. UPDATE 7/16/2016: The quality of the shoes are up there, I've had similar shoes in other brands that would be worn out by now and have the soles torn. I would only advise to do your best to avoid wearing them on rainy days. \",\n",
        "        \" Very disappointed. Ordered a size 9 1/2 and got a pair of shoes that measure size 11. I spent 10 years in the footwear business and this usually means these were manufactured in some third world country under horrible conditions with a huge lack of quality control. Quality shoes are always sized within a 1/2 size and anything this far off would never be released to the market by a reputable company. I'll be returning them and will continue to search for a quality brand. \",\n",
        "        \" Love the quality and price, super cute and trendy! The only reason I gave it 4 stars and not 5 is because it runs really small, and its a little too cropped but its so cute Ill keep it! Feels good on too. I am 5'8 150 lbs I ordered the XL and normally I am a Med to Large so its running a couple sizes small. The color is really a brick red my camera makes it look a little different. Good Buy, I recommend \",\n",
        "        \" Part of the sleeve is literally missing...it looks really stupid because one sleeve is longer than the other. Like really? I was supposed to wear this shirt on New Year’s Eve. What a piece of junk! \",\n",
        "        \" Love the silky but sturdy fabric and the style of the shirt. It does not irritate my skin. I wore it all and felt comfortable. I have washed it several times and it did not lose color. The only problem was to iron the sleeves which requires some time and patience. I wear it with a skirt but you can wear shorts or high waisted pants. \",\n",
        "        \" Cute tee. Ordered size medium which is my usual size. I'm 5'7' and the arm length is good which sometimes can run too short. The overall length is pretty short. It barely reaches the top of my jeans and if I move my arms at all You can see my stomach. I have a C size chest and small waist. Hope that helps. \",\n",
        "        \" Everything is as described - sturdy and safe to use. A bit on the heavy side, but I don't mind because the weight helps me with the muscle exercise. It won't break like the dangerous spring devices. A bit expensive at nearly $70, but you get what you pay for. This thing is very solid and of high quality. I just wished the clamp (which ties the two ends when not in use) were hinged/attached to the device, instead of being a separate piece that you have to take out / put back in \",\n",
        "        \" Great quality, nice design. Don’t come with a guide for different ways to exercise and this could lead to muscle injuries. \",\n",
        "        \"It is far too hard to turn the resistance knob!I would like one of these if the adjuster could be improved so that it is easy to turn, and also instead of the little plastic clip that holds it closed, but easily pops out, a better way should be found to hold it in the closed position, tho if the main adjuster problem was solved I think I could hold it closed with a strong rubber band.\",\n",
        "        \" Compact! Great to exercise upper body with a unit that you can take with you anywhere. The hydraulic cylinder is excellent since it returns softly to position. Let's see how it holds over time but so far so good! \",\n",
        "        \" It would be much better if there was a positive and negative resistance, not just positive. \",\n",
        "                   ])\n",
        "y_test = np.array([4,2,3,5,5,4,2,4,5,4,1,1,1,4,4,4,4,1,5,1,4,2,5,1,4,3,5,1,2,3,2,1,5,4,1,2,3,3,1,5,1,5,2,3,3,2,1,1,3,4,5,1,3,5,2,1,3,4,2,5,3,4,5,1,3,3,1,1,2,3,5,5,4,4,5,4,5,5,4,5,5,4,5,5,5,2,3,1,5,3,4,1,4,1,5,4,5,4,1,5,3,])"
      ],
      "execution_count": null,
      "outputs": []
    },
    {
      "cell_type": "code",
      "metadata": {
        "id": "hZdYBXR9eGGF",
        "colab": {
          "base_uri": "https://localhost:8080/",
          "height": 126
        },
        "outputId": "d3241bad-6c5c-4076-8683-132e663faf64"
      },
      "source": [
        "\n",
        "for i in range(len(x_test)):\n",
        "  x_test[i] = cleaned_text_method2(x_test[i])\n",
        "X_test_indices = sentences_to_indices(x_test, word_to_index, maxLen)\n",
        "y_pred = model.predict(X_test_indices)\n",
        "y_pred[:,3] = y_pred[:,3] + 0.02\n",
        "y_pred[:,4] = y_pred[:,4] - 0.02\n",
        "#print(y_pred)\n",
        "y_pred_bool = np.argmax(y_pred, axis=1)\n",
        "y_pred_bool = y_pred_bool + 1\n",
        "print(y_test)\n",
        "print(y_pred_bool)"
      ],
      "execution_count": null,
      "outputs": [
        {
          "output_type": "stream",
          "text": [
            "[4 2 3 5 5 4 2 4 5 4 1 1 1 4 4 4 4 1 5 1 4 2 5 1 4 3 5 1 2 3 2 1 5 4 1 2 3\n",
            " 3 1 5 1 5 2 3 3 2 1 1 3 4 5 1 3 5 2 1 3 4 2 5 3 4 5 1 3 3 1 1 2 3 5 5 4 4\n",
            " 5 4 5 5 4 5 5 4 5 5 5 2 3 1 5 3 4 1 4 1 5 4 5 4 1 5 3]\n",
            "[5 2 3 5 5 5 1 5 5 5 1 2 1 4 4 5 5 1 5 1 5 1 5 1 5 1 5 1 1 1 5 1 5 3 2 1 3\n",
            " 2 1 5 3 5 5 3 3 2 1 1 3 3 5 1 4 5 3 1 1 5 1 5 2 4 5 1 4 5 1 1 2 3 5 5 4 5\n",
            " 5 1 4 4 4 5 5 2 1 5 5 2 3 1 4 3 4 1 4 1 5 3 4 4 3 5 2]\n"
          ],
          "name": "stdout"
        }
      ]
    },
    {
      "cell_type": "code",
      "metadata": {
        "id": "ICOZk3g-HlzD",
        "colab": {
          "base_uri": "https://localhost:8080/",
          "height": 406
        },
        "outputId": "fde0eff4-ca54-4bda-b65c-f37d7f3810af"
      },
      "source": [
        "cnf_matrix = confusion_matrix(y_test, y_pred_bool,labels=[1,2,3,4,5])\n",
        "np.set_printoptions(precision=2)\n",
        "\n",
        "# Plot non-normalized confusion matrix\n",
        "plt.figure()\n",
        "plot_confusion_matrix(cnf_matrix, classes=[1,2,3,4,5],\n",
        "                      title='Confusion matrix, without normalization')"
      ],
      "execution_count": null,
      "outputs": [
        {
          "output_type": "stream",
          "text": [
            "Confusion matrix, without normalization\n",
            "[[18  2  2  0  0]\n",
            " [ 5  4  1  0  2]\n",
            " [ 3  3  8  2  1]\n",
            " [ 1  1  3  8 10]\n",
            " [ 1  0  0  4 22]]\n"
          ],
          "name": "stdout"
        },
        {
          "output_type": "display_data",
          "data": {
            "image/png": "[encoded data removed]",
            "text/plain": [
              "<Figure size 432x288 with 2 Axes>"
            ]
          },
          "metadata": {
            "tags": [],
            "needs_background": "light"
          }
        }
      ]
    },
    {
      "cell_type": "code",
      "metadata": {
        "id": "pjylh5eIVvd-",
        "colab": {
          "base_uri": "https://localhost:8080/",
          "height": 72
        },
        "outputId": "d3dce11e-fe87-464a-ef61-9c76885c9697"
      },
      "source": [
        "from sklearn.metrics import f1_score\n",
        "f1 = f1_score(y_test, y_pred_bool, average='micro')\n",
        "print('F1 score: %f' % f1)\n",
        "f1 = f1_score(y_test, y_pred_bool, average='macro')\n",
        "print('F1 score: %f' % f1)\n",
        "f1 = f1_score(y_test, y_pred_bool, average='weighted')\n",
        "print('F1 score: %f' % f1)"
      ],
      "execution_count": null,
      "outputs": [
        {
          "output_type": "stream",
          "text": [
            "F1 score: 0.584158\n",
            "F1 score: 0.537691\n",
            "F1 score: 0.561637\n"
          ],
          "name": "stdout"
        }
      ]
    },
    {
      "cell_type": "code",
      "metadata": {
        "id": "zbA040IvHqw6",
        "colab": {
          "base_uri": "https://localhost:8080/",
          "height": 162
        },
        "outputId": "006274b2-8954-4399-8c8e-2eb24eaacac0"
      },
      "source": [
        "print(\"test data len = \" + str(len(x_test)))\n",
        "diff = pd.DataFrame(abs(y_test - y_pred_bool))\n",
        "diff[0].value_counts()\n",
        "print('diffrence between prediction and true test exs in %:')\n",
        "(diff[0].value_counts() / len(y_test)) * 100 \n"
      ],
      "execution_count": null,
      "outputs": [
        {
          "output_type": "stream",
          "text": [
            "test data len = 101\n",
            "diffrence between prediction and true test exs in %:\n"
          ],
          "name": "stdout"
        },
        {
          "output_type": "execute_result",
          "data": {
            "text/plain": [
              "0    59.405941\n",
              "1    28.712871\n",
              "2     6.930693\n",
              "3     3.960396\n",
              "4     0.990099\n",
              "Name: 0, dtype: float64"
            ]
          },
          "metadata": {
            "tags": []
          },
          "execution_count": 75
        }
      ]
    },
    {
      "cell_type": "markdown",
      "metadata": {
        "id": "acC9yD2dxBrN"
      },
      "source": [
        "*italicized text*#ordinal classification model"
      ]
    },
    {
      "cell_type": "markdown",
      "metadata": {
        "id": "1siPj8cYWyYm"
      },
      "source": [
        "#ordinal classification model\n"
      ]
    },
    {
      "cell_type": "markdown",
      "metadata": {
        "id": "ACtV0UUXxgDE"
      },
      "source": [
        "##load dataframe"
      ]
    },
    {
      "cell_type": "code",
      "metadata": {
        "id": "Mk3l4sGnRjsY"
      },
      "source": [
        "from sklearn.utils import shuffle\n",
        "from sklearn.model_selection import train_test_split"
      ],
      "execution_count": null,
      "outputs": []
    },
    {
      "cell_type": "code",
      "metadata": {
        "id": "dgzEBUjxxgDI"
      },
      "source": [
        "df = pd.read_pickle('/content/drive/My Drive/finad_filterd_df_100.pkl')"
      ],
      "execution_count": null,
      "outputs": []
    },
    {
      "cell_type": "code",
      "metadata": {
        "id": "EeRdyue6GH0j"
      },
      "source": [
        "df_train, df_test = train_test_split(df, test_size=0.2, random_state=42)"
      ],
      "execution_count": null,
      "outputs": []
    },
    {
      "cell_type": "code",
      "metadata": {
        "id": "sM5D7RHVijQ7",
        "colab": {
          "base_uri": "https://localhost:8080/",
          "height": 53
        },
        "outputId": "e9b3258a-3e71-49ce-9b5b-16bdc070c4aa"
      },
      "source": [
        "print(len(df_train))\n",
        "print(len(df_test))"
      ],
      "execution_count": null,
      "outputs": [
        {
          "output_type": "stream",
          "text": [
            "6584604\n",
            "1646151\n"
          ],
          "name": "stdout"
        }
      ]
    },
    {
      "cell_type": "code",
      "metadata": {
        "id": "2e2CKirDwFfG",
        "colab": {
          "base_uri": "https://localhost:8080/",
          "height": 126
        },
        "outputId": "68480a2d-f2f6-4271-9fee-48b364865c9a"
      },
      "source": [
        "df_train['overall'].value_counts()"
      ],
      "execution_count": null,
      "outputs": [
        {
          "output_type": "execute_result",
          "data": {
            "text/plain": [
              "4    1317513\n",
              "2    1317326\n",
              "3    1317274\n",
              "5    1316422\n",
              "1    1316069\n",
              "Name: overall, dtype: int64"
            ]
          },
          "metadata": {
            "tags": []
          },
          "execution_count": 13
        }
      ]
    },
    {
      "cell_type": "code",
      "metadata": {
        "id": "nCpmgbd4wObm",
        "colab": {
          "base_uri": "https://localhost:8080/",
          "height": 126
        },
        "outputId": "8fed9355-e624-44c4-9449-148a9fad305b"
      },
      "source": [
        "df_test['overall'].value_counts()"
      ],
      "execution_count": null,
      "outputs": [
        {
          "output_type": "execute_result",
          "data": {
            "text/plain": [
              "1    330082\n",
              "5    329729\n",
              "3    328877\n",
              "2    328825\n",
              "4    328638\n",
              "Name: overall, dtype: int64"
            ]
          },
          "metadata": {
            "tags": []
          },
          "execution_count": 14
        }
      ]
    },
    {
      "cell_type": "code",
      "metadata": {
        "id": "sTzwHOJ8yzmN"
      },
      "source": [
        "bigger_than_1 = (df_train['overall'] > 1.0)\n",
        "#bigger_than_2 = (df_train['overall'] > 2.0)\n",
        "#bigger_than_3 = (df_train['overall'] > 3.0)\n",
        "#bigger_than_4 = (df_train['overall'] > 4.0)"
      ],
      "execution_count": null,
      "outputs": []
    },
    {
      "cell_type": "code",
      "metadata": {
        "id": "IghQTmWZ06RE",
        "colab": {
          "base_uri": "https://localhost:8080/",
          "height": 72
        },
        "outputId": "bb7b0ae5-90ff-4bc0-972e-cb7d269ec41f"
      },
      "source": [
        "bigger_than_1.value_counts()"
      ],
      "execution_count": null,
      "outputs": [
        {
          "output_type": "execute_result",
          "data": {
            "text/plain": [
              "True     5268535\n",
              "False    1316069\n",
              "Name: overall, dtype: int64"
            ]
          },
          "metadata": {
            "tags": []
          },
          "execution_count": 96
        }
      ]
    },
    {
      "cell_type": "markdown",
      "metadata": {
        "id": "MD7RiGiXJIBY"
      },
      "source": [
        "solve impalance class"
      ]
    },
    {
      "cell_type": "code",
      "metadata": {
        "id": "p9PQw6f6JUgv"
      },
      "source": [
        "df_lower = df_train[bigger_than_1 == False]"
      ],
      "execution_count": null,
      "outputs": []
    },
    {
      "cell_type": "code",
      "metadata": {
        "id": "eeaBVKUSJsW2",
        "colab": {
          "base_uri": "https://localhost:8080/",
          "height": 35
        },
        "outputId": "5635272d-e159-4526-acd9-a177fd1183b5"
      },
      "source": [
        "print(len(df_lower))"
      ],
      "execution_count": null,
      "outputs": [
        {
          "output_type": "stream",
          "text": [
            "1316069\n"
          ],
          "name": "stdout"
        }
      ]
    },
    {
      "cell_type": "code",
      "metadata": {
        "id": "NNOLTf_XJyBI",
        "colab": {
          "base_uri": "https://localhost:8080/",
          "height": 53
        },
        "outputId": "46c28031-ce92-4fb4-dbef-ab17f9567fba"
      },
      "source": [
        "df_lower['overall'].value_counts()"
      ],
      "execution_count": null,
      "outputs": [
        {
          "output_type": "execute_result",
          "data": {
            "text/plain": [
              "1    1316069\n",
              "Name: overall, dtype: int64"
            ]
          },
          "metadata": {
            "tags": []
          },
          "execution_count": 99
        }
      ]
    },
    {
      "cell_type": "code",
      "metadata": {
        "id": "RDxEeJo0IjJT"
      },
      "source": [
        "df_upper = df_train[bigger_than_1][0:1316069]"
      ],
      "execution_count": null,
      "outputs": []
    },
    {
      "cell_type": "code",
      "metadata": {
        "id": "Y8elOYqsKX6H",
        "colab": {
          "base_uri": "https://localhost:8080/",
          "height": 35
        },
        "outputId": "76c7dce5-223e-453f-f68b-9719758a3da4"
      },
      "source": [
        "print(len(df_upper))"
      ],
      "execution_count": null,
      "outputs": [
        {
          "output_type": "stream",
          "text": [
            "1316069\n"
          ],
          "name": "stdout"
        }
      ]
    },
    {
      "cell_type": "code",
      "metadata": {
        "id": "Q_vo_rTIKdX_",
        "colab": {
          "base_uri": "https://localhost:8080/",
          "height": 108
        },
        "outputId": "3d3361fe-f4be-4a46-e607-6d0ce40ca955"
      },
      "source": [
        "df_upper['overall'].value_counts()"
      ],
      "execution_count": null,
      "outputs": [
        {
          "output_type": "execute_result",
          "data": {
            "text/plain": [
              "2    329379\n",
              "5    329085\n",
              "3    328830\n",
              "4    328775\n",
              "Name: overall, dtype: int64"
            ]
          },
          "metadata": {
            "tags": []
          },
          "execution_count": 111
        }
      ]
    },
    {
      "cell_type": "code",
      "metadata": {
        "id": "4dbFdqz3xgDW"
      },
      "source": [
        "#\n",
        "X = pd.concat([df_lower, df_upper], ignore_index=True, sort =False)\n"
      ],
      "execution_count": null,
      "outputs": []
    },
    {
      "cell_type": "code",
      "metadata": {
        "id": "kvCkOnHgk0ZX",
        "colab": {
          "base_uri": "https://localhost:8080/",
          "height": 126
        },
        "outputId": "b443faaa-22bc-43ee-fcc1-9e5e60268097"
      },
      "source": [
        "X['overall'].value_counts()"
      ],
      "execution_count": null,
      "outputs": [
        {
          "output_type": "execute_result",
          "data": {
            "text/plain": [
              "1    1316069\n",
              "2     329379\n",
              "5     329085\n",
              "3     328830\n",
              "4     328775\n",
              "Name: overall, dtype: int64"
            ]
          },
          "metadata": {
            "tags": []
          },
          "execution_count": 113
        }
      ]
    },
    {
      "cell_type": "code",
      "metadata": {
        "id": "G-o4KOH7LmeS"
      },
      "source": [
        "X = shuffle(X, random_state=42)\n"
      ],
      "execution_count": null,
      "outputs": []
    },
    {
      "cell_type": "code",
      "metadata": {
        "id": "wguteJhZLndV"
      },
      "source": [
        "y = (X['overall'] > 1.0).map({True: 1, False: 0})"
      ],
      "execution_count": null,
      "outputs": []
    },
    {
      "cell_type": "code",
      "metadata": {
        "id": "A32OvJcyk_mA",
        "colab": {
          "base_uri": "https://localhost:8080/",
          "height": 72
        },
        "outputId": "7c38cde6-afa4-4d0c-ea4c-6f77ca6550e4"
      },
      "source": [
        "y.value_counts()"
      ],
      "execution_count": null,
      "outputs": [
        {
          "output_type": "execute_result",
          "data": {
            "text/plain": [
              "1    1316069\n",
              "0    1316069\n",
              "Name: overall, dtype: int64"
            ]
          },
          "metadata": {
            "tags": []
          },
          "execution_count": 116
        }
      ]
    },
    {
      "cell_type": "code",
      "metadata": {
        "id": "RkvrgZoVOrhL"
      },
      "source": [
        "X = X['reviewText']"
      ],
      "execution_count": null,
      "outputs": []
    },
    {
      "cell_type": "code",
      "metadata": {
        "id": "NQmJLW43xgDd"
      },
      "source": [
        "#for other dataset\n",
        "#X_test = X\n",
        "#y_test = y"
      ],
      "execution_count": null,
      "outputs": []
    },
    {
      "cell_type": "code",
      "metadata": {
        "id": "ZUWSXJRJxgDj"
      },
      "source": [
        "#\n",
        "X_train, X_test, y_train, y_test = train_test_split(X, y, test_size=0.05, random_state=42)"
      ],
      "execution_count": null,
      "outputs": []
    },
    {
      "cell_type": "code",
      "metadata": {
        "id": "6mkQ6jeGxgDy",
        "colab": {
          "base_uri": "https://localhost:8080/",
          "height": 53
        },
        "outputId": "801fbf4d-ac58-4eaf-a446-bb16dedd6941"
      },
      "source": [
        "print(len(X_train))\n",
        "print(len(X_test))"
      ],
      "execution_count": null,
      "outputs": [
        {
          "output_type": "stream",
          "text": [
            "2500531\n",
            "131607\n"
          ],
          "name": "stdout"
        }
      ]
    },
    {
      "cell_type": "code",
      "metadata": {
        "id": "F45PSYHM11WI",
        "colab": {
          "base_uri": "https://localhost:8080/",
          "height": 72
        },
        "outputId": "cf550f2f-cf2f-4c24-fb6b-3f183054b398"
      },
      "source": [
        "y_train.value_counts()"
      ],
      "execution_count": null,
      "outputs": [
        {
          "output_type": "execute_result",
          "data": {
            "text/plain": [
              "0    1250485\n",
              "1    1250046\n",
              "Name: overall, dtype: int64"
            ]
          },
          "metadata": {
            "tags": []
          },
          "execution_count": 120
        }
      ]
    },
    {
      "cell_type": "code",
      "metadata": {
        "id": "HGvrJ4lLxgD4",
        "colab": {
          "base_uri": "https://localhost:8080/",
          "height": 72
        },
        "outputId": "b6ac2b4f-c44a-44d5-ba93-4ad2eed5ad40"
      },
      "source": [
        "y_test.value_counts()"
      ],
      "execution_count": null,
      "outputs": [
        {
          "output_type": "execute_result",
          "data": {
            "text/plain": [
              "1    66023\n",
              "0    65584\n",
              "Name: overall, dtype: int64"
            ]
          },
          "metadata": {
            "tags": []
          },
          "execution_count": 121
        }
      ]
    },
    {
      "cell_type": "markdown",
      "metadata": {
        "id": "024iIqX5xgD_"
      },
      "source": [
        "## setup X Y for training"
      ]
    },
    {
      "cell_type": "code",
      "metadata": {
        "id": "ynL_0xJDxgEA",
        "colab": {
          "base_uri": "https://localhost:8080/",
          "height": 35
        },
        "outputId": "5640a4ad-d8c5-4f92-f41d-8712b0424e1b"
      },
      "source": [
        "#\n",
        "#maxLen = max(X_train.str.split().str.len())\n",
        "maxLen = 99\n",
        "print(maxLen)"
      ],
      "execution_count": null,
      "outputs": [
        {
          "output_type": "stream",
          "text": [
            "99\n"
          ],
          "name": "stdout"
        }
      ]
    },
    {
      "cell_type": "code",
      "metadata": {
        "id": "3VgAJaXXxgEG"
      },
      "source": [
        "#\n",
        "X_train_indices = sentences_to_indices(X_train, word_to_index, maxLen)"
      ],
      "execution_count": null,
      "outputs": []
    },
    {
      "cell_type": "code",
      "metadata": {
        "id": "sRgyfbhpRYvE"
      },
      "source": [
        "#X_train_indices, y_train = shuffle(X_train_indices, y_train, random_state=42)"
      ],
      "execution_count": null,
      "outputs": []
    },
    {
      "cell_type": "code",
      "metadata": {
        "id": "iROt5-3dxgE1",
        "colab": {
          "base_uri": "https://localhost:8080/",
          "height": 72
        },
        "outputId": "81134b73-73c0-468c-cc74-4e1afd083d20"
      },
      "source": [
        "print(y_train.shape)\n",
        "print(X_train.shape)\n",
        "print(X_train_indices.shape)"
      ],
      "execution_count": null,
      "outputs": [
        {
          "output_type": "stream",
          "text": [
            "(2500531,)\n",
            "(2500531,)\n",
            "(2500531, 99)\n"
          ],
          "name": "stdout"
        }
      ]
    },
    {
      "cell_type": "markdown",
      "metadata": {
        "id": "NruxlYqQxgE5"
      },
      "source": [
        "##train"
      ]
    },
    {
      "cell_type": "code",
      "metadata": {
        "id": "upRzwsKixgE6"
      },
      "source": [
        "#\n",
        "import tensorflow as tf\n",
        "from tensorflow import keras\n",
        "from tensorflow.keras import layers\n",
        "from tensorflow.keras.models import Sequential, load_model\n",
        "from tensorflow.keras.preprocessing import sequence\n",
        "from tensorflow.keras.layers import Embedding, LSTM, Dense, Dropout, Conv1D, MaxPooling1D\n",
        "\n",
        "from tensorflow.keras.callbacks import ModelCheckpoint"
      ],
      "execution_count": null,
      "outputs": []
    },
    {
      "cell_type": "code",
      "metadata": {
        "id": "4o0IPx5sxgE9"
      },
      "source": [
        "#\n",
        "NB_WORDS = len(word_to_index)+1 # Parameter indicating the number of words we'll put in the dictionary\n",
        "NB_START_EPOCHS = 15  # Number of epochs we usually start to train with\n",
        "BATCH_SIZE = 256  # Size of the batches used in the mini-batch gradient descent\n",
        "MAX_LEN = maxLen  # Maximum number of words in a sequence\n",
        "GLOVE_DIM = 50  # Number of dimensions of the GloVe word embeddings"
      ],
      "execution_count": null,
      "outputs": []
    },
    {
      "cell_type": "code",
      "metadata": {
        "id": "YVsLnvDQxgFC",
        "colab": {
          "base_uri": "https://localhost:8080/",
          "height": 417
        },
        "outputId": "bdd6a7d2-4e63-4335-e87b-eea260b85fe3"
      },
      "source": [
        "#\n",
        "model=Sequential()\n",
        "model.add(Embedding(NB_WORDS, GLOVE_DIM, input_length=MAX_LEN,weights=[emb_matrix], trainable=False))\n",
        "model.add(LSTM(128 , return_sequences=True))\n",
        "model.add(Dropout(0.2))\n",
        "model.add(LSTM(128 , return_sequences=False))\n",
        "model.add(Dropout(0.2))\n",
        "model.add(Dense(50, activation='relu'))\n",
        "model.add(Dense(1, activation='sigmoid'))\n",
        "model.summary()"
      ],
      "execution_count": null,
      "outputs": [
        {
          "output_type": "stream",
          "text": [
            "Model: \"sequential_4\"\n",
            "_________________________________________________________________\n",
            "Layer (type)                 Output Shape              Param #   \n",
            "=================================================================\n",
            "embedding_4 (Embedding)      (None, 99, 50)            20000050  \n",
            "_________________________________________________________________\n",
            "lstm_8 (LSTM)                (None, 99, 128)           91648     \n",
            "_________________________________________________________________\n",
            "dropout_8 (Dropout)          (None, 99, 128)           0         \n",
            "_________________________________________________________________\n",
            "lstm_9 (LSTM)                (None, 128)               131584    \n",
            "_________________________________________________________________\n",
            "dropout_9 (Dropout)          (None, 128)               0         \n",
            "_________________________________________________________________\n",
            "dense_8 (Dense)              (None, 50)                6450      \n",
            "_________________________________________________________________\n",
            "dense_9 (Dense)              (None, 1)                 51        \n",
            "=================================================================\n",
            "Total params: 20,229,783\n",
            "Trainable params: 229,733\n",
            "Non-trainable params: 20,000,050\n",
            "_________________________________________________________________\n"
          ],
          "name": "stdout"
        }
      ]
    },
    {
      "cell_type": "code",
      "metadata": {
        "id": "82rncjVcxgFH"
      },
      "source": [
        "#\n",
        "model.compile(loss='binary_crossentropy', optimizer='adam', metrics=['accuracy'])"
      ],
      "execution_count": null,
      "outputs": []
    },
    {
      "cell_type": "code",
      "metadata": {
        "id": "7FRsaIVYxgFO"
      },
      "source": [
        "#\n",
        "# checkpoint\n",
        "filepath=\"/content/drive/My Drive/small_model_1.h5\"\n",
        "checkpoint = ModelCheckpoint(filepath, monitor='val_accuracy', verbose=1, save_best_only=True, mode='max')\n",
        "callbacks_list = [checkpoint]"
      ],
      "execution_count": null,
      "outputs": []
    },
    {
      "cell_type": "code",
      "metadata": {
        "id": "uiKllB4pxgFT"
      },
      "source": [
        "#\n",
        "model.load_weights('/content/drive/My Drive/small_model_1.h5')"
      ],
      "execution_count": null,
      "outputs": []
    },
    {
      "cell_type": "code",
      "metadata": {
        "id": "94o2GJK7xgFd",
        "colab": {
          "base_uri": "https://localhost:8080/",
          "height": 1000
        },
        "outputId": "d10b2beb-000c-4521-cc22-46c115d1d9ad"
      },
      "source": [
        "#\n",
        "model.fit(X_train_indices, y_train, validation_split=0.053, epochs = NB_START_EPOCHS, batch_size = BATCH_SIZE, callbacks=callbacks_list)"
      ],
      "execution_count": null,
      "outputs": [
        {
          "output_type": "stream",
          "text": [
            "Epoch 1/15\n",
            "9250/9251 [============================>.] - ETA: 0s - loss: 0.4581 - accuracy: 0.7837\n",
            "Epoch 00001: val_accuracy improved from -inf to 0.79940, saving model to /content/drive/My Drive/small_model_1.h5\n",
            "9251/9251 [==============================] - 204s 22ms/step - loss: 0.4581 - accuracy: 0.7837 - val_loss: 0.4340 - val_accuracy: 0.7994\n",
            "Epoch 2/15\n",
            "9250/9251 [============================>.] - ETA: 0s - loss: 0.4129 - accuracy: 0.8108\n",
            "Epoch 00002: val_accuracy improved from 0.79940 to 0.81693, saving model to /content/drive/My Drive/small_model_1.h5\n",
            "9251/9251 [==============================] - 203s 22ms/step - loss: 0.4129 - accuracy: 0.8108 - val_loss: 0.3995 - val_accuracy: 0.8169\n",
            "Epoch 3/15\n",
            "9251/9251 [==============================] - ETA: 0s - loss: 0.3955 - accuracy: 0.8203\n",
            "Epoch 00003: val_accuracy improved from 0.81693 to 0.82185, saving model to /content/drive/My Drive/small_model_1.h5\n",
            "9251/9251 [==============================] - 202s 22ms/step - loss: 0.3955 - accuracy: 0.8203 - val_loss: 0.3917 - val_accuracy: 0.8219\n",
            "Epoch 4/15\n",
            "9250/9251 [============================>.] - ETA: 0s - loss: 0.3861 - accuracy: 0.8250\n",
            "Epoch 00004: val_accuracy improved from 0.82185 to 0.82398, saving model to /content/drive/My Drive/small_model_1.h5\n",
            "9251/9251 [==============================] - 199s 21ms/step - loss: 0.3861 - accuracy: 0.8250 - val_loss: 0.3903 - val_accuracy: 0.8240\n",
            "Epoch 5/15\n",
            "9250/9251 [============================>.] - ETA: 0s - loss: 0.3795 - accuracy: 0.8287\n",
            "Epoch 00005: val_accuracy improved from 0.82398 to 0.82434, saving model to /content/drive/My Drive/small_model_1.h5\n",
            "9251/9251 [==============================] - 200s 22ms/step - loss: 0.3795 - accuracy: 0.8287 - val_loss: 0.3908 - val_accuracy: 0.8243\n",
            "Epoch 6/15\n",
            "9250/9251 [============================>.] - ETA: 0s - loss: 0.3743 - accuracy: 0.8314\n",
            "Epoch 00006: val_accuracy did not improve from 0.82434\n",
            "9251/9251 [==============================] - 198s 21ms/step - loss: 0.3743 - accuracy: 0.8314 - val_loss: 0.4053 - val_accuracy: 0.8166\n",
            "Epoch 7/15\n",
            "9250/9251 [============================>.] - ETA: 0s - loss: 0.3702 - accuracy: 0.8335\n",
            "Epoch 00007: val_accuracy improved from 0.82434 to 0.82731, saving model to /content/drive/My Drive/small_model_1.h5\n",
            "9251/9251 [==============================] - 200s 22ms/step - loss: 0.3702 - accuracy: 0.8335 - val_loss: 0.3852 - val_accuracy: 0.8273\n",
            "Epoch 8/15\n",
            "9250/9251 [============================>.] - ETA: 0s - loss: 0.3664 - accuracy: 0.8353\n",
            "Epoch 00008: val_accuracy improved from 0.82731 to 0.82756, saving model to /content/drive/My Drive/small_model_1.h5\n",
            "9251/9251 [==============================] - 201s 22ms/step - loss: 0.3664 - accuracy: 0.8353 - val_loss: 0.3819 - val_accuracy: 0.8276\n",
            "Epoch 9/15\n",
            "9249/9251 [============================>.] - ETA: 0s - loss: 0.3629 - accuracy: 0.8374\n",
            "Epoch 00009: val_accuracy improved from 0.82756 to 0.82771, saving model to /content/drive/My Drive/small_model_1.h5\n",
            "9251/9251 [==============================] - 202s 22ms/step - loss: 0.3629 - accuracy: 0.8374 - val_loss: 0.3823 - val_accuracy: 0.8277\n",
            "Epoch 10/15\n",
            "9251/9251 [==============================] - ETA: 0s - loss: 0.3602 - accuracy: 0.8388\n",
            "Epoch 00010: val_accuracy did not improve from 0.82771\n",
            "9251/9251 [==============================] - 201s 22ms/step - loss: 0.3602 - accuracy: 0.8388 - val_loss: 0.3834 - val_accuracy: 0.8271\n",
            "Epoch 11/15\n",
            "9250/9251 [============================>.] - ETA: 0s - loss: 0.3575 - accuracy: 0.8401\n",
            "Epoch 00011: val_accuracy did not improve from 0.82771\n",
            "9251/9251 [==============================] - 201s 22ms/step - loss: 0.3575 - accuracy: 0.8401 - val_loss: 0.3851 - val_accuracy: 0.8273\n",
            "Epoch 12/15\n",
            "9250/9251 [============================>.] - ETA: 0s - loss: 0.3549 - accuracy: 0.8414\n",
            "Epoch 00012: val_accuracy improved from 0.82771 to 0.82807, saving model to /content/drive/My Drive/small_model_1.h5\n",
            "9251/9251 [==============================] - 200s 22ms/step - loss: 0.3549 - accuracy: 0.8414 - val_loss: 0.3832 - val_accuracy: 0.8281\n",
            "Epoch 13/15\n",
            "9250/9251 [============================>.] - ETA: 0s - loss: 0.3527 - accuracy: 0.8426\n",
            "Epoch 00013: val_accuracy did not improve from 0.82807\n",
            "9251/9251 [==============================] - 199s 22ms/step - loss: 0.3527 - accuracy: 0.8426 - val_loss: 0.3843 - val_accuracy: 0.8270\n",
            "Epoch 14/15\n",
            "9251/9251 [==============================] - ETA: 0s - loss: 0.3504 - accuracy: 0.8439\n",
            "Epoch 00014: val_accuracy did not improve from 0.82807\n",
            "9251/9251 [==============================] - 199s 21ms/step - loss: 0.3504 - accuracy: 0.8439 - val_loss: 0.3906 - val_accuracy: 0.8269\n",
            "Epoch 15/15\n",
            "9249/9251 [============================>.] - ETA: 0s - loss: 0.3491 - accuracy: 0.8445\n",
            "Epoch 00015: val_accuracy did not improve from 0.82807\n",
            "9251/9251 [==============================] - 198s 21ms/step - loss: 0.3491 - accuracy: 0.8445 - val_loss: 0.3851 - val_accuracy: 0.8269\n"
          ],
          "name": "stdout"
        },
        {
          "output_type": "execute_result",
          "data": {
            "text/plain": [
              "<tensorflow.python.keras.callbacks.History at 0x7fbb7ca08128>"
            ]
          },
          "metadata": {
            "tags": []
          },
          "execution_count": 134
        }
      ]
    },
    {
      "cell_type": "code",
      "metadata": {
        "id": "ikS9Sv6pxgFl"
      },
      "source": [
        "model.save_weights('/content/drive/My Drive/small_model_1.h5', overwrite=True)"
      ],
      "execution_count": null,
      "outputs": []
    },
    {
      "cell_type": "markdown",
      "metadata": {
        "id": "x8TtnICTxgFp"
      },
      "source": [
        "##test"
      ]
    },
    {
      "cell_type": "code",
      "metadata": {
        "id": "3sagk1-ZxgFq"
      },
      "source": [
        "#\n",
        "X_test_indices = sentences_to_indices(X_test, word_to_index, maxLen)"
      ],
      "execution_count": null,
      "outputs": []
    },
    {
      "cell_type": "code",
      "metadata": {
        "id": "1lbIADs2xgFv",
        "colab": {
          "base_uri": "https://localhost:8080/",
          "height": 53
        },
        "outputId": "282fae65-59d1-4472-d680-48d76e294b57"
      },
      "source": [
        "print(X_test_indices.shape)\n",
        "print(y_test.shape)"
      ],
      "execution_count": null,
      "outputs": [
        {
          "output_type": "stream",
          "text": [
            "(131607, 99)\n",
            "(131607,)\n"
          ],
          "name": "stdout"
        }
      ]
    },
    {
      "cell_type": "code",
      "metadata": {
        "id": "ElL68NKTxgF1",
        "colab": {
          "base_uri": "https://localhost:8080/",
          "height": 72
        },
        "outputId": "951c6f25-a236-4d1c-852a-784e17cb0563"
      },
      "source": [
        "#\n",
        "loss, acc = model.evaluate(X_test_indices, y_test)\n",
        "print()\n",
        "print(\"Test accuracy = \", acc)"
      ],
      "execution_count": null,
      "outputs": [
        {
          "output_type": "stream",
          "text": [
            "4113/4113 [==============================] - 22s 5ms/step - loss: 0.3852 - accuracy: 0.8261\n",
            "\n",
            "Test accuracy =  0.8261034488677979\n"
          ],
          "name": "stdout"
        }
      ]
    },
    {
      "cell_type": "code",
      "metadata": {
        "id": "w0LLqKxExgF3"
      },
      "source": [
        "y_pred = model.predict(X_test_indices)"
      ],
      "execution_count": null,
      "outputs": []
    },
    {
      "cell_type": "code",
      "metadata": {
        "id": "wpcHNEpzOB__"
      },
      "source": [
        "y_pred[y_pred > 0.5] = 1\n",
        "y_pred[y_pred <= 0.5] = 0"
      ],
      "execution_count": null,
      "outputs": []
    },
    {
      "cell_type": "code",
      "metadata": {
        "id": "5wwqlOEzxgF7",
        "colab": {
          "base_uri": "https://localhost:8080/",
          "height": 126
        },
        "outputId": "7d1300d3-e142-419f-d69a-308d24691976"
      },
      "source": [
        "y_test.head(5)"
      ],
      "execution_count": null,
      "outputs": [
        {
          "output_type": "execute_result",
          "data": {
            "text/plain": [
              "2203543    1\n",
              "224953     0\n",
              "474798     0\n",
              "172045     0\n",
              "1933512    1\n",
              "Name: overall, dtype: int64"
            ]
          },
          "metadata": {
            "tags": []
          },
          "execution_count": 141
        }
      ]
    },
    {
      "cell_type": "code",
      "metadata": {
        "id": "hr06Hl-AxgGC",
        "colab": {
          "base_uri": "https://localhost:8080/",
          "height": 108
        },
        "outputId": "96693c7f-e69e-456d-a28d-ad9d13fa2261"
      },
      "source": [
        "y_pred[0:5]"
      ],
      "execution_count": null,
      "outputs": [
        {
          "output_type": "execute_result",
          "data": {
            "text/plain": [
              "array([[1.],\n",
              "       [0.],\n",
              "       [0.],\n",
              "       [0.],\n",
              "       [1.]], dtype=float32)"
            ]
          },
          "metadata": {
            "tags": []
          },
          "execution_count": 142
        }
      ]
    },
    {
      "cell_type": "code",
      "metadata": {
        "id": "vgYTcq2JGiVL",
        "colab": {
          "base_uri": "https://localhost:8080/",
          "height": 72
        },
        "outputId": "0ef98293-46ba-45cf-8a56-347965a1a2f5"
      },
      "source": [
        "from sklearn.metrics import f1_score\n",
        "f1 = f1_score(y_test, y_pred, average='micro')\n",
        "print('F1 score: %f' % f1)\n",
        "f1 = f1_score(y_test, y_pred, average='macro')\n",
        "print('F1 score: %f' % f1)\n",
        "f1 = f1_score(y_test, y_pred, average='weighted')\n",
        "print('F1 score: %f' % f1)"
      ],
      "execution_count": null,
      "outputs": [
        {
          "output_type": "stream",
          "text": [
            "F1 score: 0.826103\n",
            "F1 score: 0.825826\n",
            "F1 score: 0.825803\n"
          ],
          "name": "stdout"
        }
      ]
    },
    {
      "cell_type": "markdown",
      "metadata": {
        "id": "99yJ47SsMUWy"
      },
      "source": [
        "total test"
      ]
    },
    {
      "cell_type": "code",
      "metadata": {
        "id": "D5JRZHEhOfGp"
      },
      "source": [
        "maxLen = 99"
      ],
      "execution_count": null,
      "outputs": []
    },
    {
      "cell_type": "code",
      "metadata": {
        "id": "K5HyWF4ZORmA"
      },
      "source": [
        "X_test_indices = sentences_to_indices(df_test['reviewText'], word_to_index, maxLen)"
      ],
      "execution_count": null,
      "outputs": []
    },
    {
      "cell_type": "code",
      "metadata": {
        "id": "Q5vzy8NHN_Gf"
      },
      "source": [
        "import tensorflow as tf\n",
        "from tensorflow import keras\n",
        "from tensorflow.keras import layers\n",
        "from tensorflow.keras.models import Sequential, load_model\n",
        "from tensorflow.keras.preprocessing import sequence\n",
        "from tensorflow.keras.layers import Embedding, LSTM, Dense, Dropout, Conv1D, MaxPooling1D"
      ],
      "execution_count": null,
      "outputs": []
    },
    {
      "cell_type": "code",
      "metadata": {
        "id": "FyneAcUIOAYY"
      },
      "source": [
        "NB_WORDS = len(word_to_index)+1 # Parameter indicating the number of words we'll put in the dictionary\n",
        "NB_START_EPOCHS = 15  # Number of epochs we usually start to train with\n",
        "BATCH_SIZE = 256  # Size of the batches used in the mini-batch gradient descent\n",
        "MAX_LEN = maxLen  # Maximum number of words in a sequence\n",
        "GLOVE_DIM = 50  # Number of dimensions of the GloVe word embeddings"
      ],
      "execution_count": null,
      "outputs": []
    },
    {
      "cell_type": "code",
      "metadata": {
        "id": "S8H3lqPTM5-H"
      },
      "source": [
        "def get_model():\n",
        "  model=Sequential()\n",
        "  model.add(Embedding(NB_WORDS, GLOVE_DIM, input_length=MAX_LEN,weights=[emb_matrix], trainable=False))\n",
        "  model.add(LSTM(128 , return_sequences=True))\n",
        "  model.add(Dropout(0.2))\n",
        "  model.add(LSTM(128 , return_sequences=False))\n",
        "  model.add(Dropout(0.2))\n",
        "  model.add(Dense(50, activation='relu'))\n",
        "  model.add(Dense(1, activation='sigmoid'))\n",
        "  #model.summary()\n",
        "  model.compile(loss='binary_crossentropy', optimizer='adam', metrics=['accuracy'])\n",
        "  return model"
      ],
      "execution_count": null,
      "outputs": []
    },
    {
      "cell_type": "code",
      "metadata": {
        "id": "Mkf3VKrlGoD7"
      },
      "source": [
        "model1 = get_model()\n",
        "model1.load_weights('/content/drive/My Drive/small_model_1.h5')\n",
        "y_pred_1 = model1.predict(X_test_indices)"
      ],
      "execution_count": null,
      "outputs": []
    },
    {
      "cell_type": "code",
      "metadata": {
        "id": "KqKFPiWiOZRY",
        "colab": {
          "base_uri": "https://localhost:8080/",
          "height": 108
        },
        "outputId": "862e7252-0b1a-414b-fc8c-c1e4a47f9555"
      },
      "source": [
        "y_pred_1[0:5]"
      ],
      "execution_count": null,
      "outputs": [
        {
          "output_type": "execute_result",
          "data": {
            "text/plain": [
              "array([[0.3649582 ],\n",
              "       [0.9984219 ],\n",
              "       [0.39855558],\n",
              "       [0.9914478 ],\n",
              "       [0.9240282 ]], dtype=float32)"
            ]
          },
          "metadata": {
            "tags": []
          },
          "execution_count": 150
        }
      ]
    },
    {
      "cell_type": "code",
      "metadata": {
        "id": "xYzFj1ZAGxtf"
      },
      "source": [
        "model2 = get_model()\n",
        "model2.load_weights('/content/drive/My Drive/small_model_2.h5')\n",
        "y_pred_2 = model2.predict(X_test_indices)"
      ],
      "execution_count": null,
      "outputs": []
    },
    {
      "cell_type": "code",
      "metadata": {
        "id": "0gJsXQtmOlif",
        "colab": {
          "base_uri": "https://localhost:8080/",
          "height": 108
        },
        "outputId": "47cbf7c1-2427-429f-ab9f-90770b38161b"
      },
      "source": [
        "y_pred_2[0:5]"
      ],
      "execution_count": null,
      "outputs": [
        {
          "output_type": "execute_result",
          "data": {
            "text/plain": [
              "array([[0.04398169],\n",
              "       [0.9998512 ],\n",
              "       [0.19303231],\n",
              "       [0.9929468 ],\n",
              "       [0.6613793 ]], dtype=float32)"
            ]
          },
          "metadata": {
            "tags": []
          },
          "execution_count": 152
        }
      ]
    },
    {
      "cell_type": "code",
      "metadata": {
        "id": "LL0Vm7o8Gy67"
      },
      "source": [
        "model3 = get_model()\n",
        "model3.load_weights('/content/drive/My Drive/small_model_3.h5')\n",
        "y_pred_3 = model3.predict(X_test_indices)"
      ],
      "execution_count": null,
      "outputs": []
    },
    {
      "cell_type": "code",
      "metadata": {
        "id": "hafwf3FSOmFV",
        "colab": {
          "base_uri": "https://localhost:8080/",
          "height": 108
        },
        "outputId": "5c0b0a5f-4622-4884-9bb2-bd42a02cefd0"
      },
      "source": [
        "y_pred_3[0:5]"
      ],
      "execution_count": null,
      "outputs": [
        {
          "output_type": "execute_result",
          "data": {
            "text/plain": [
              "array([[0.0027517 ],\n",
              "       [0.9979225 ],\n",
              "       [0.00586233],\n",
              "       [0.98927003],\n",
              "       [0.19570817]], dtype=float32)"
            ]
          },
          "metadata": {
            "tags": []
          },
          "execution_count": 154
        }
      ]
    },
    {
      "cell_type": "code",
      "metadata": {
        "id": "r4M83U2KGzkm"
      },
      "source": [
        "model4 = get_model()\n",
        "model4.load_weights('/content/drive/My Drive/small_model_4.h5')\n",
        "y_pred_4 = model4.predict(X_test_indices)"
      ],
      "execution_count": null,
      "outputs": []
    },
    {
      "cell_type": "code",
      "metadata": {
        "id": "9UKX_tLzOmrK",
        "colab": {
          "base_uri": "https://localhost:8080/",
          "height": 108
        },
        "outputId": "85b18947-b75f-4e8c-90fa-59730304a5ec"
      },
      "source": [
        "y_pred_4[0:5]"
      ],
      "execution_count": null,
      "outputs": [
        {
          "output_type": "execute_result",
          "data": {
            "text/plain": [
              "array([[0.06275988],\n",
              "       [0.92198443],\n",
              "       [0.00108722],\n",
              "       [0.8353861 ],\n",
              "       [0.02086732]], dtype=float32)"
            ]
          },
          "metadata": {
            "tags": []
          },
          "execution_count": 156
        }
      ]
    },
    {
      "cell_type": "code",
      "metadata": {
        "id": "fra4W6iIOrRc"
      },
      "source": [
        "prob_1 = 1 - y_pred_1\n",
        "prob_2 = y_pred_1 - y_pred_2\n",
        "prob_3 = y_pred_2 - y_pred_3\n",
        "prob_4 = y_pred_3 - y_pred_4\n",
        "prob_5 = y_pred_4"
      ],
      "execution_count": null,
      "outputs": []
    },
    {
      "cell_type": "code",
      "metadata": {
        "id": "NuVwH_skSTWz",
        "colab": {
          "base_uri": "https://localhost:8080/",
          "height": 35
        },
        "outputId": "e7717365-c130-47bf-ecf6-2ec0e126e1ba"
      },
      "source": [
        "prob_1[:,0].shape"
      ],
      "execution_count": null,
      "outputs": [
        {
          "output_type": "execute_result",
          "data": {
            "text/plain": [
              "(1646151,)"
            ]
          },
          "metadata": {
            "tags": []
          },
          "execution_count": 162
        }
      ]
    },
    {
      "cell_type": "code",
      "metadata": {
        "id": "OBZTwRNnOwJg"
      },
      "source": [
        "rows = len(df_test['reviewText'])\n",
        "y_pred = np.zeros((rows, 5))\n",
        "y_pred[:,0] = prob_1[:,0]\n",
        "y_pred[:,1] = prob_2[:,0]\n",
        "y_pred[:,2] = prob_3[:,0]\n",
        "y_pred[:,3] = prob_4[:,0]\n",
        "y_pred[:,4] = prob_5[:,0]"
      ],
      "execution_count": null,
      "outputs": []
    },
    {
      "cell_type": "code",
      "metadata": {
        "id": "0PCniIxpRK_4",
        "colab": {
          "base_uri": "https://localhost:8080/",
          "height": 108
        },
        "outputId": "8c9b76c0-9553-4ca8-b65a-d1cd940a55bc"
      },
      "source": [
        "y_pred[0:5,:]"
      ],
      "execution_count": null,
      "outputs": [
        {
          "output_type": "execute_result",
          "data": {
            "text/plain": [
              "array([[ 0.63504183,  0.3209765 ,  0.04122998, -0.06000817,  0.06275988],\n",
              "       [ 0.00157809, -0.00142932,  0.00192875,  0.07593805,  0.92198443],\n",
              "       [ 0.60144442,  0.20552327,  0.18716997,  0.00477512,  0.00108722],\n",
              "       [ 0.00855219, -0.001499  ,  0.00367677,  0.15388393,  0.8353861 ],\n",
              "       [ 0.07597178,  0.26264894,  0.46567112,  0.17484085,  0.02086732]])"
            ]
          },
          "metadata": {
            "tags": []
          },
          "execution_count": 164
        }
      ]
    },
    {
      "cell_type": "code",
      "metadata": {
        "id": "fAWh1gXlSB4d"
      },
      "source": [
        "y_pred_bool = np.argmax(y_pred, axis=1)\n",
        "y_pred_bool = y_pred_bool + 1"
      ],
      "execution_count": null,
      "outputs": []
    },
    {
      "cell_type": "code",
      "metadata": {
        "id": "0HK38ukGSxmJ",
        "colab": {
          "base_uri": "https://localhost:8080/",
          "height": 35
        },
        "outputId": "636512e5-32cd-4bd9-a551-734a4b9ccec8"
      },
      "source": [
        "y_pred_bool[0:5]"
      ],
      "execution_count": null,
      "outputs": [
        {
          "output_type": "execute_result",
          "data": {
            "text/plain": [
              "array([1, 5, 1, 5, 3])"
            ]
          },
          "metadata": {
            "tags": []
          },
          "execution_count": 166
        }
      ]
    },
    {
      "cell_type": "code",
      "metadata": {
        "id": "-4bo6F4mTVl9"
      },
      "source": [
        "y_test = df_test['overall'].values.astype(int)"
      ],
      "execution_count": null,
      "outputs": []
    },
    {
      "cell_type": "code",
      "metadata": {
        "id": "nAR0pJzIS2DD",
        "colab": {
          "base_uri": "https://localhost:8080/",
          "height": 35
        },
        "outputId": "c2763e37-01a2-4836-bae8-cf737818bf91"
      },
      "source": [
        "y_test[0:5]"
      ],
      "execution_count": null,
      "outputs": [
        {
          "output_type": "execute_result",
          "data": {
            "text/plain": [
              "array([2, 4, 2, 4, 2])"
            ]
          },
          "metadata": {
            "tags": []
          },
          "execution_count": 179
        }
      ]
    },
    {
      "cell_type": "markdown",
      "metadata": {
        "id": "mQVM1bHlxgGM"
      },
      "source": [
        "Multi-class Confusion Matrix"
      ]
    },
    {
      "cell_type": "code",
      "metadata": {
        "id": "ajXndYG0xgGM"
      },
      "source": [
        "from sklearn.metrics import confusion_matrix\n",
        "import matplotlib.pyplot as plt"
      ],
      "execution_count": null,
      "outputs": []
    },
    {
      "cell_type": "code",
      "metadata": {
        "id": "8XYOCwmIxgGQ"
      },
      "source": [
        "\n",
        "def plot_confusion_matrix(cm, classes,\n",
        "                          normalize=False,\n",
        "                          title='Confusion matrix',\n",
        "                          cmap=plt.cm.Blues):\n",
        "    \"\"\"\n",
        "    This function prints and plots the confusion matrix.\n",
        "    Normalization can be applied by setting `normalize=True`.\n",
        "    \"\"\"\n",
        "    import itertools\n",
        "    if normalize:\n",
        "        cm = cm.astype('float') / cm.sum(axis=1)[:, np.newaxis]\n",
        "        print(\"Normalized confusion matrix\")\n",
        "    else:\n",
        "        print('Confusion matrix, without normalization')\n",
        "\n",
        "    print(cm)\n",
        "\n",
        "    plt.imshow(cm, interpolation='nearest', cmap=cmap)\n",
        "    plt.title(title)\n",
        "    plt.colorbar()\n",
        "    tick_marks = np.arange(len(classes))\n",
        "    plt.xticks(tick_marks, classes, rotation=45)\n",
        "    plt.yticks(tick_marks, classes)\n",
        "\n",
        "    fmt = '.2f' if normalize else 'd'\n",
        "    thresh = cm.max() / 2.\n",
        "    for i, j in itertools.product(range(cm.shape[0]), range(cm.shape[1])):\n",
        "        plt.text(j, i, format(cm[i, j], fmt),\n",
        "                 horizontalalignment=\"center\",\n",
        "                 color=\"white\" if cm[i, j] > thresh else \"black\")\n",
        "\n",
        "    plt.ylabel('True label')\n",
        "    plt.xlabel('Predicted label')\n",
        "    plt.tight_layout()"
      ],
      "execution_count": null,
      "outputs": []
    },
    {
      "cell_type": "code",
      "metadata": {
        "id": "oma6UgQyxgGU",
        "colab": {
          "base_uri": "https://localhost:8080/",
          "height": 406
        },
        "outputId": "4dedab8c-b3fd-4ae5-98a0-4a716c5f743d"
      },
      "source": [
        "cnf_matrix = confusion_matrix(y_test, y_pred_bool,labels=[1,2,3,4,5])\n",
        "np.set_printoptions(precision=2)\n",
        "\n",
        "# Plot non-normalized confusion matrix\n",
        "plt.figure()\n",
        "plot_confusion_matrix(cnf_matrix, classes=[1,2,3,4,5],\n",
        "                      title='Confusion matrix, without normalization')"
      ],
      "execution_count": null,
      "outputs": [
        {
          "output_type": "stream",
          "text": [
            "Confusion matrix, without normalization\n",
            "[[299251  11836   5204   2281  11510]\n",
            " [225821  48118  30069   8585  16232]\n",
            " [ 94856  38311  92858  45220  57632]\n",
            " [ 20194   7398  28904  70101 202041]\n",
            " [  9496   1532   3770  12329 302602]]\n"
          ],
          "name": "stdout"
        },
        {
          "output_type": "display_data",
          "data": {
            "image/png": "[encoded data removed]",
            "text/plain": [
              "<Figure size 432x288 with 2 Axes>"
            ]
          },
          "metadata": {
            "tags": [],
            "needs_background": "light"
          }
        }
      ]
    },
    {
      "cell_type": "code",
      "metadata": {
        "id": "ys1i2DI9xgGY",
        "colab": {
          "base_uri": "https://localhost:8080/",
          "height": 35
        },
        "outputId": "8388d750-547e-42de-f6f5-f8aa93d2de60"
      },
      "source": [
        "y_pred_bool[0:5]"
      ],
      "execution_count": null,
      "outputs": [
        {
          "output_type": "execute_result",
          "data": {
            "text/plain": [
              "array([5, 4, 4, 5, 1])"
            ]
          },
          "metadata": {
            "tags": []
          },
          "execution_count": 30
        }
      ]
    },
    {
      "cell_type": "code",
      "metadata": {
        "id": "sid23bVQxgGh",
        "colab": {
          "base_uri": "https://localhost:8080/",
          "height": 72
        },
        "outputId": "d522955b-0d8e-45d8-e4c9-c8c3b7c3726e"
      },
      "source": [
        "from sklearn.metrics import f1_score\n",
        "f1 = f1_score(y_test, y_pred_bool, average='micro')\n",
        "print('F1 score: %f' % f1)\n",
        "f1 = f1_score(y_test, y_pred_bool, average='macro')\n",
        "print('F1 score: %f' % f1)\n",
        "f1 = f1_score(y_test, y_pred_bool, average='weighted')\n",
        "print('F1 score: %f' % f1)"
      ],
      "execution_count": null,
      "outputs": [
        {
          "output_type": "stream",
          "text": [
            "F1 score: 0.493837\n",
            "F1 score: 0.433802\n",
            "F1 score: 0.434073\n"
          ],
          "name": "stdout"
        }
      ]
    },
    {
      "cell_type": "code",
      "metadata": {
        "id": "ffOsk1rsxgGr",
        "colab": {
          "base_uri": "https://localhost:8080/",
          "height": 35
        },
        "outputId": "f0a29b2f-160c-4f19-ef57-617a967bc91a"
      },
      "source": [
        "print(\"test data len = \" + str(len(y_test)))"
      ],
      "execution_count": null,
      "outputs": [
        {
          "output_type": "stream",
          "text": [
            "test data len = 84000\n"
          ],
          "name": "stdout"
        }
      ]
    },
    {
      "cell_type": "code",
      "metadata": {
        "id": "Zrz-OOacxgGw"
      },
      "source": [
        "diff = pd.DataFrame(abs(y_test - y_pred_bool))"
      ],
      "execution_count": null,
      "outputs": []
    },
    {
      "cell_type": "code",
      "metadata": {
        "id": "eUTH31z9T4bg",
        "colab": {
          "base_uri": "https://localhost:8080/",
          "height": 35
        },
        "outputId": "fecbc13e-6cb0-41e9-b819-ce1004e7acd7"
      },
      "source": [
        "type(diff)"
      ],
      "execution_count": null,
      "outputs": [
        {
          "output_type": "execute_result",
          "data": {
            "text/plain": [
              "pandas.core.frame.DataFrame"
            ]
          },
          "metadata": {
            "tags": []
          },
          "execution_count": 194
        }
      ]
    },
    {
      "cell_type": "code",
      "metadata": {
        "id": "f_x6iIZDxgGy",
        "colab": {
          "base_uri": "https://localhost:8080/",
          "height": 126
        },
        "outputId": "5a8769ae-5df5-4500-d32a-0a28e7b8a27e"
      },
      "source": [
        "diff[0].value_counts()"
      ],
      "execution_count": null,
      "outputs": [
        {
          "output_type": "execute_result",
          "data": {
            "text/plain": [
              "0    812930\n",
              "1    594531\n",
              "2    177445\n",
              "3     40239\n",
              "4     21006\n",
              "Name: 0, dtype: int64"
            ]
          },
          "metadata": {
            "tags": []
          },
          "execution_count": 195
        }
      ]
    },
    {
      "cell_type": "code",
      "metadata": {
        "id": "c9FE3mmdxgG1",
        "colab": {
          "base_uri": "https://localhost:8080/",
          "height": 144
        },
        "outputId": "a9fbbb40-7894-4d86-8a01-43d7225a7ac8"
      },
      "source": [
        "print('diffrence between prediction and true test exs in %:')\n",
        "(diff[0].value_counts() / len(y_test)) * 100 "
      ],
      "execution_count": null,
      "outputs": [
        {
          "output_type": "stream",
          "text": [
            "diffrence between prediction and true test exs in %:\n"
          ],
          "name": "stdout"
        },
        {
          "output_type": "execute_result",
          "data": {
            "text/plain": [
              "0    49.383684\n",
              "1    36.116432\n",
              "2    10.779388\n",
              "3     2.444429\n",
              "4     1.276068\n",
              "Name: 0, dtype: float64"
            ]
          },
          "metadata": {
            "tags": []
          },
          "execution_count": 197
        }
      ]
    },
    {
      "cell_type": "code",
      "metadata": {
        "id": "uYu3KgHYxgHG",
        "colab": {
          "base_uri": "https://localhost:8080/",
          "height": 508
        },
        "outputId": "bc2cbd86-3f9d-4a77-f07a-debb3e466387"
      },
      "source": [
        "x_test = np.array(['not feeling good', 'i disappointed','i waste my mony',\n",
        "                   'this is a bad movie' , 'i think it is not bad', 'not happy to see this',\n",
        "                   'happy to see this', 'not happy end' , 'this actor if idiot', 'i will buy it again' ,\n",
        "                   'i will not buy it' , 'overrated', 'the worst thing i ever seen',\n",
        "                   'i think it do not Deserve this high rate', 'i think it do not Deserve this low rate',\n",
        "                   'i will give it high rate', 'the best ever', 'not bad', 'good', 'poor quality', 'good quality'])\n",
        "for i in range(len(x_test)):\n",
        "  x_test[i] = cleaned_text_method2(x_test[i])\n",
        "print(x_test)\n",
        "X_test_indices = sentences_to_indices(x_test, word_to_index, maxLen)\n",
        "print((model.predict(X_test_indices)))\n",
        "#print(x_test[0] +' '+  np.argmax(model.predict(X_test_indices))[1] + 1)"
      ],
      "execution_count": null,
      "outputs": [
        {
          "output_type": "stream",
          "text": [
            "['not feeling good' 'disappointed' 'waste mony' 'bad movie'\n",
            " 'think not bad' 'not happy see' 'happy see' 'not happy end' 'actor idiot'\n",
            " 'buy' 'not buy' 'overrated' 'worst thing ever seen'\n",
            " 'think not deserve high rate' 'think not deserve low rate'\n",
            " 'give high rate' 'best ever' 'not bad' 'good' 'poor quality'\n",
            " 'good quality']\n",
            "[[1.57e-01 4.17e-01 3.35e-01 6.21e-02 2.89e-02]\n",
            " [4.53e-01 4.14e-01 1.25e-01 7.13e-03 9.09e-04]\n",
            " [7.83e-01 1.90e-01 2.39e-02 2.23e-03 1.27e-03]\n",
            " [7.39e-01 2.31e-01 2.71e-02 2.33e-03 1.07e-03]\n",
            " [2.14e-02 1.27e-01 5.41e-01 2.62e-01 4.88e-02]\n",
            " [5.11e-01 3.44e-01 1.27e-01 1.38e-02 3.65e-03]\n",
            " [2.20e-02 2.20e-02 9.50e-02 3.10e-01 5.51e-01]\n",
            " [3.64e-01 3.95e-01 2.10e-01 2.49e-02 5.97e-03]\n",
            " [5.87e-01 2.45e-01 8.73e-02 3.97e-02 4.15e-02]\n",
            " [6.24e-02 4.28e-02 1.08e-01 2.52e-01 5.36e-01]\n",
            " [8.36e-01 1.31e-01 2.93e-02 2.62e-03 1.24e-03]\n",
            " [3.84e-01 4.32e-01 1.67e-01 1.40e-02 2.20e-03]\n",
            " [9.09e-01 8.22e-02 8.59e-03 4.61e-04 1.84e-04]\n",
            " [4.46e-01 2.25e-01 1.98e-01 7.41e-02 5.71e-02]\n",
            " [4.72e-01 2.26e-01 1.81e-01 6.75e-02 5.26e-02]\n",
            " [1.15e-01 1.38e-01 2.80e-01 2.49e-01 2.18e-01]\n",
            " [5.31e-03 5.36e-03 1.13e-02 6.75e-02 9.10e-01]\n",
            " [1.48e-02 1.27e-01 5.98e-01 2.37e-01 2.30e-02]\n",
            " [2.31e-02 2.98e-02 1.86e-01 4.03e-01 3.58e-01]\n",
            " [6.15e-01 3.30e-01 5.29e-02 2.34e-03 4.31e-04]\n",
            " [6.71e-03 6.54e-03 6.17e-02 3.39e-01 5.86e-01]]\n"
          ],
          "name": "stdout"
        }
      ]
    },
    {
      "cell_type": "code",
      "metadata": {
        "id": "_BXUVdO1xgHH"
      },
      "source": [
        ""
      ],
      "execution_count": null,
      "outputs": []
    }
  ]
}